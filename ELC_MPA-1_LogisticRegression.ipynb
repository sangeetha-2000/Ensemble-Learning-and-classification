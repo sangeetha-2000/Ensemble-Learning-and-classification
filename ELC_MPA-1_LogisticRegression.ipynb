{
 "cells": [
  {
   "cell_type": "markdown",
   "metadata": {},
   "source": [
    "<table align=\"left\" width=100%>\n",
    "    <tr>\n",
    "        <td width=\"20%\">\n",
    "            <img src=\"faculty.png\">\n",
    "        </td>\n",
    "        <td>\n",
    "            <div align=\"center\">\n",
    "                <font color=\"#21618C\" size=8px>\n",
    "                  <b> Assignment Questions </b>\n",
    "                </font>\n",
    "            </div>\n",
    "        </td>\n",
    "    </tr>\n",
    "</table>"
   ]
  },
  {
   "cell_type": "markdown",
   "metadata": {},
   "source": [
    "## Problem Statement\n",
    "\n"
   ]
  },
  {
   "cell_type": "markdown",
   "metadata": {},
   "source": [
    "### About the data set (Rainfall Prediction data)\n",
    "\n",
    "The dataset contains information about rainfall predictions. The aim is to find whether rainfall will occur or not based on the several parameters of the atmospheric conditions and profile. <br> Attribute information: \n",
    "\n",
    "**Date:** Dates on which rainfall occurred or not \n",
    "\n",
    "**Location:** Location where we want to classify rainfall occurrence.\n",
    "\n",
    "**MinTemp:** Minimum temperature in that particular date\n",
    "\n",
    "**MaxTemp:** Maximum temperature in that particular date\n",
    "\n",
    "**Rainfall:** Rainfall occurrence level in cm\n",
    "\n",
    "**Evaporation:** Evaporation value\n",
    "\n",
    "**Sunshine:** Sunshine level in m\n",
    "\n",
    "**WindGustDir:** Direction of wind\n",
    "\n",
    "**WindGustSpeed:**  Wind Speed\n",
    "\n",
    "**WindDir9am:** Wind direction at 9am\n",
    "\n",
    "**WindDir3pm:** Wind direction at 3pm\n",
    "\n",
    "**WindSpeed9am:** Wind speed at 9am\n",
    "\n",
    "**WindSpeed3pm:** Wind speed at 3pm\n",
    "\n",
    "**Humidity9am:** Humidity at 9am\n",
    "\n",
    "**Humidity3pm:** Humidity at 3pm\n",
    "\n",
    "**Pressure9am:** Pressure at 9am\n",
    "\n",
    "**Pressure3pm:** Pressure at 9am\n",
    "\n",
    "**Cloud9am:** Cloud Cover at 9am\n",
    "\n",
    "**Cloud3pm:** Cloud Cover at 3pm\n",
    "\n",
    "**Temp9am:** Temperature at 9am\n",
    "\n",
    "**Temp3pm:** Temperature at 3pm\n",
    "\n",
    "**RainToday:** Rain fall happened or not today\n",
    "\n",
    "**RainTomorrow:** Does tomorrow rainfall will happen or not: Yes(1) or No(0)"
   ]
  },
  {
   "cell_type": "markdown",
   "metadata": {},
   "source": [
    "## Table of Content\n",
    "\n",
    "1. **[Import Libraries](#lib)**\n",
    "2. **[Data Preparation](#prep)**\n",
    "    - 2.1 - **[Read the Data](#read)**\n",
    "    - 2.2 - **[Check the Data Type](#dtype)**\n",
    "    - 2.3 - **[Remove Insignificant Variables](#drop)**\n",
    "    - 2.4 - **[Distribution of Variables](#dist)**\n",
    "    - 2.5 - **[Missing Value Treatment](#null)**\n",
    "    - 2.6 - **[Dummy Encode the Categorical Variables](#dummy)**\n",
    "    - 2.7 - **[Scale the Data](#scale)**\n",
    "    - 2.8 - **[Train-Test Split](#split)**\n",
    "3. **[Logistic Regression (Full Model)](#logit)**\n",
    "    - 3.1 - **[Identify the Best Cut-off Value](#cut_off)**\n",
    "        - 3.1.1 - **[Youden's Index](#youden)**"
   ]
  },
  {
   "cell_type": "markdown",
   "metadata": {},
   "source": [
    "<a id=\"lib\"></a>\n",
    "# 1. Import Libraries"
   ]
  },
  {
   "cell_type": "markdown",
   "metadata": {},
   "source": [
    "**Let us import the required libraries.**"
   ]
  },
  {
   "cell_type": "code",
   "execution_count": 1,
   "metadata": {},
   "outputs": [],
   "source": [
    "# import 'Pandas' \n",
    "import pandas as pd \n",
    "\n",
    "# import 'Numpy' \n",
    "import numpy as np\n",
    "\n",
    "# import subpackage of Matplotlib\n",
    "import matplotlib.pyplot as plt\n",
    "from matplotlib.colors import ListedColormap\n",
    "\n",
    "# import 'Seaborn' \n",
    "import seaborn as sns\n",
    "\n",
    "# to suppress warnings \n",
    "from warnings import filterwarnings\n",
    "filterwarnings('ignore')\n",
    "\n",
    "# import train-test split \n",
    "from sklearn.model_selection import train_test_split\n",
    "\n",
    "# import various functions from statsmodels\n",
    "import statsmodels\n",
    "import statsmodels.api as sm\n",
    "\n",
    "# import StandardScaler to perform scaling\n",
    "from sklearn.preprocessing import StandardScaler \n",
    "\n",
    "# import various functions from sklearn \n",
    "from sklearn import metrics\n",
    "from sklearn.linear_model import LogisticRegression\n",
    "from sklearn.metrics import classification_report\n",
    "from sklearn.metrics import cohen_kappa_score\n",
    "from sklearn.metrics import confusion_matrix\n",
    "from sklearn.metrics import roc_curve\n",
    "from sklearn.metrics import accuracy_score\n"
   ]
  },
  {
   "cell_type": "markdown",
   "metadata": {},
   "source": [
    "# Inference:\n",
    "importing the required python libaries for  project:\n",
    "- numpy, pandas,matplotlib,seaborn is used for the data manipulation and data visulaisation .\n",
    "- The sklearn LabelEncoder,standardscalar,train_test_split Libaries is used for encoding and data preprocessing purpose.\n",
    "- Logistic Regression,classification_report,cohen_kappa_score,confusion_matrix,roc_curve,accuracy_score is a set of libaries used for building the Logistic Regression model and To evaluate the performance  of the model."
   ]
  },
  {
   "cell_type": "markdown",
   "metadata": {},
   "source": [
    "<a id=\"prep\"></a>\n",
    "# 2. Data Preparation"
   ]
  },
  {
   "cell_type": "markdown",
   "metadata": {},
   "source": [
    "<a id=\"read\"></a>\n",
    "## 2.1 Read the Data"
   ]
  },
  {
   "cell_type": "markdown",
   "metadata": {},
   "source": [
    "#### Read the dataset and print the \n",
    "first five observations."
   ]
  },
  {
   "cell_type": "code",
   "execution_count": 2,
   "metadata": {},
   "outputs": [
    {
     "data": {
      "text/html": [
       "<div>\n",
       "<style scoped>\n",
       "    .dataframe tbody tr th:only-of-type {\n",
       "        vertical-align: middle;\n",
       "    }\n",
       "\n",
       "    .dataframe tbody tr th {\n",
       "        vertical-align: top;\n",
       "    }\n",
       "\n",
       "    .dataframe thead th {\n",
       "        text-align: right;\n",
       "    }\n",
       "</style>\n",
       "<table border=\"1\" class=\"dataframe\">\n",
       "  <thead>\n",
       "    <tr style=\"text-align: right;\">\n",
       "      <th></th>\n",
       "      <th>Date</th>\n",
       "      <th>Location</th>\n",
       "      <th>MinTemp</th>\n",
       "      <th>MaxTemp</th>\n",
       "      <th>Rainfall</th>\n",
       "      <th>Evaporation</th>\n",
       "      <th>Sunshine</th>\n",
       "      <th>WindGustDir</th>\n",
       "      <th>WindGustSpeed</th>\n",
       "      <th>WindDir9am</th>\n",
       "      <th>...</th>\n",
       "      <th>Humidity9am</th>\n",
       "      <th>Humidity3pm</th>\n",
       "      <th>Pressure9am</th>\n",
       "      <th>Pressure3pm</th>\n",
       "      <th>Cloud9am</th>\n",
       "      <th>Cloud3pm</th>\n",
       "      <th>Temp9am</th>\n",
       "      <th>Temp3pm</th>\n",
       "      <th>RainToday</th>\n",
       "      <th>RainTomorrow</th>\n",
       "    </tr>\n",
       "  </thead>\n",
       "  <tbody>\n",
       "    <tr>\n",
       "      <th>0</th>\n",
       "      <td>07-03-2012</td>\n",
       "      <td>Wollongong</td>\n",
       "      <td>16.0</td>\n",
       "      <td>20.4</td>\n",
       "      <td>8.2</td>\n",
       "      <td>NaN</td>\n",
       "      <td>NaN</td>\n",
       "      <td>S</td>\n",
       "      <td>63.0</td>\n",
       "      <td>SSW</td>\n",
       "      <td>...</td>\n",
       "      <td>69.0</td>\n",
       "      <td>92.0</td>\n",
       "      <td>1018.5</td>\n",
       "      <td>1017.6</td>\n",
       "      <td>1.0</td>\n",
       "      <td>8.0</td>\n",
       "      <td>17.4</td>\n",
       "      <td>15.6</td>\n",
       "      <td>Yes</td>\n",
       "      <td>Yes</td>\n",
       "    </tr>\n",
       "    <tr>\n",
       "      <th>1</th>\n",
       "      <td>06-01-2011</td>\n",
       "      <td>PerthAirport</td>\n",
       "      <td>18.5</td>\n",
       "      <td>25.9</td>\n",
       "      <td>16.0</td>\n",
       "      <td>5.4</td>\n",
       "      <td>11.8</td>\n",
       "      <td>WSW</td>\n",
       "      <td>39.0</td>\n",
       "      <td>SSW</td>\n",
       "      <td>...</td>\n",
       "      <td>60.0</td>\n",
       "      <td>36.0</td>\n",
       "      <td>1004.6</td>\n",
       "      <td>1003.6</td>\n",
       "      <td>7.0</td>\n",
       "      <td>1.0</td>\n",
       "      <td>22.2</td>\n",
       "      <td>25.1</td>\n",
       "      <td>Yes</td>\n",
       "      <td>No</td>\n",
       "    </tr>\n",
       "    <tr>\n",
       "      <th>2</th>\n",
       "      <td>29-06-2014</td>\n",
       "      <td>Penrith</td>\n",
       "      <td>8.7</td>\n",
       "      <td>16.5</td>\n",
       "      <td>0.0</td>\n",
       "      <td>NaN</td>\n",
       "      <td>NaN</td>\n",
       "      <td>WNW</td>\n",
       "      <td>56.0</td>\n",
       "      <td>WNW</td>\n",
       "      <td>...</td>\n",
       "      <td>41.0</td>\n",
       "      <td>41.0</td>\n",
       "      <td>NaN</td>\n",
       "      <td>NaN</td>\n",
       "      <td>NaN</td>\n",
       "      <td>NaN</td>\n",
       "      <td>13.1</td>\n",
       "      <td>15.1</td>\n",
       "      <td>No</td>\n",
       "      <td>No</td>\n",
       "    </tr>\n",
       "    <tr>\n",
       "      <th>3</th>\n",
       "      <td>16-12-2008</td>\n",
       "      <td>Cairns</td>\n",
       "      <td>25.5</td>\n",
       "      <td>33.9</td>\n",
       "      <td>0.2</td>\n",
       "      <td>5.0</td>\n",
       "      <td>7.0</td>\n",
       "      <td>SSE</td>\n",
       "      <td>41.0</td>\n",
       "      <td>SSE</td>\n",
       "      <td>...</td>\n",
       "      <td>64.0</td>\n",
       "      <td>59.0</td>\n",
       "      <td>1009.8</td>\n",
       "      <td>1007.4</td>\n",
       "      <td>6.0</td>\n",
       "      <td>5.0</td>\n",
       "      <td>30.8</td>\n",
       "      <td>31.5</td>\n",
       "      <td>No</td>\n",
       "      <td>No</td>\n",
       "    </tr>\n",
       "    <tr>\n",
       "      <th>4</th>\n",
       "      <td>21-04-2015</td>\n",
       "      <td>SalmonGums</td>\n",
       "      <td>3.8</td>\n",
       "      <td>23.0</td>\n",
       "      <td>0.0</td>\n",
       "      <td>NaN</td>\n",
       "      <td>NaN</td>\n",
       "      <td>N</td>\n",
       "      <td>28.0</td>\n",
       "      <td>NE</td>\n",
       "      <td>...</td>\n",
       "      <td>56.0</td>\n",
       "      <td>29.0</td>\n",
       "      <td>NaN</td>\n",
       "      <td>NaN</td>\n",
       "      <td>NaN</td>\n",
       "      <td>NaN</td>\n",
       "      <td>14.0</td>\n",
       "      <td>21.1</td>\n",
       "      <td>No</td>\n",
       "      <td>No</td>\n",
       "    </tr>\n",
       "  </tbody>\n",
       "</table>\n",
       "<p>5 rows × 23 columns</p>\n",
       "</div>"
      ],
      "text/plain": [
       "         Date      Location  MinTemp  MaxTemp  Rainfall  Evaporation  \\\n",
       "0  07-03-2012    Wollongong     16.0     20.4       8.2          NaN   \n",
       "1  06-01-2011  PerthAirport     18.5     25.9      16.0          5.4   \n",
       "2  29-06-2014       Penrith      8.7     16.5       0.0          NaN   \n",
       "3  16-12-2008        Cairns     25.5     33.9       0.2          5.0   \n",
       "4  21-04-2015    SalmonGums      3.8     23.0       0.0          NaN   \n",
       "\n",
       "   Sunshine WindGustDir  WindGustSpeed WindDir9am  ... Humidity9am  \\\n",
       "0       NaN           S           63.0        SSW  ...        69.0   \n",
       "1      11.8         WSW           39.0        SSW  ...        60.0   \n",
       "2       NaN         WNW           56.0        WNW  ...        41.0   \n",
       "3       7.0         SSE           41.0        SSE  ...        64.0   \n",
       "4       NaN           N           28.0         NE  ...        56.0   \n",
       "\n",
       "   Humidity3pm  Pressure9am  Pressure3pm  Cloud9am  Cloud3pm  Temp9am  \\\n",
       "0         92.0       1018.5       1017.6       1.0       8.0     17.4   \n",
       "1         36.0       1004.6       1003.6       7.0       1.0     22.2   \n",
       "2         41.0          NaN          NaN       NaN       NaN     13.1   \n",
       "3         59.0       1009.8       1007.4       6.0       5.0     30.8   \n",
       "4         29.0          NaN          NaN       NaN       NaN     14.0   \n",
       "\n",
       "   Temp3pm  RainToday  RainTomorrow  \n",
       "0     15.6        Yes           Yes  \n",
       "1     25.1        Yes            No  \n",
       "2     15.1         No            No  \n",
       "3     31.5         No            No  \n",
       "4     21.1         No            No  \n",
       "\n",
       "[5 rows x 23 columns]"
      ]
     },
     "execution_count": 2,
     "metadata": {},
     "output_type": "execute_result"
    }
   ],
   "source": [
    "df = pd.read_csv(\"Rainfall_prediction_data.csv\")\n",
    "df.head(5)\n"
   ]
  },
  {
   "cell_type": "code",
   "execution_count": 3,
   "metadata": {},
   "outputs": [
    {
     "data": {
      "text/plain": [
       "Index(['Date', 'Location', 'MinTemp', 'MaxTemp', 'Rainfall', 'Evaporation',\n",
       "       'Sunshine', 'WindGustDir', 'WindGustSpeed', 'WindDir9am', 'WindDir3pm',\n",
       "       'WindSpeed9am', 'WindSpeed3pm', 'Humidity9am', 'Humidity3pm',\n",
       "       'Pressure9am', 'Pressure3pm', 'Cloud9am', 'Cloud3pm', 'Temp9am',\n",
       "       'Temp3pm', 'RainToday', 'RainTomorrow'],\n",
       "      dtype='object')"
      ]
     },
     "execution_count": 3,
     "metadata": {},
     "output_type": "execute_result"
    }
   ],
   "source": [
    "df.columns"
   ]
  },
  {
   "cell_type": "markdown",
   "metadata": {},
   "source": [
    "**Let us now see the number of variables and observations in the data.**"
   ]
  },
  {
   "cell_type": "code",
   "execution_count": 4,
   "metadata": {},
   "outputs": [
    {
     "data": {
      "text/plain": [
       "(1040, 23)"
      ]
     },
     "execution_count": 4,
     "metadata": {},
     "output_type": "execute_result"
    }
   ],
   "source": [
    "df.shape"
   ]
  },
  {
   "cell_type": "code",
   "execution_count": 5,
   "metadata": {},
   "outputs": [
    {
     "name": "stdout",
     "output_type": "stream",
     "text": [
      "<class 'pandas.core.frame.DataFrame'>\n",
      "RangeIndex: 1040 entries, 0 to 1039\n",
      "Data columns (total 23 columns):\n",
      " #   Column         Non-Null Count  Dtype  \n",
      "---  ------         --------------  -----  \n",
      " 0   Date           1040 non-null   object \n",
      " 1   Location       1040 non-null   object \n",
      " 2   MinTemp        1035 non-null   float64\n",
      " 3   MaxTemp        1035 non-null   float64\n",
      " 4   Rainfall       1029 non-null   float64\n",
      " 5   Evaporation    582 non-null    float64\n",
      " 6   Sunshine       533 non-null    float64\n",
      " 7   WindGustDir    969 non-null    object \n",
      " 8   WindGustSpeed  969 non-null    float64\n",
      " 9   WindDir9am     981 non-null    object \n",
      " 10  WindDir3pm     1014 non-null   object \n",
      " 11  WindSpeed9am   1032 non-null   float64\n",
      " 12  WindSpeed3pm   1023 non-null   float64\n",
      " 13  Humidity9am    1031 non-null   float64\n",
      " 14  Humidity3pm    1016 non-null   float64\n",
      " 15  Pressure9am    929 non-null    float64\n",
      " 16  Pressure3pm    932 non-null    float64\n",
      " 17  Cloud9am       613 non-null    float64\n",
      " 18  Cloud3pm       597 non-null    float64\n",
      " 19  Temp9am        1034 non-null   float64\n",
      " 20  Temp3pm        1022 non-null   float64\n",
      " 21  RainToday      1029 non-null   object \n",
      " 22  RainTomorrow   1040 non-null   object \n",
      "dtypes: float64(16), object(7)\n",
      "memory usage: 187.0+ KB\n"
     ]
    }
   ],
   "source": [
    "df.info()"
   ]
  },
  {
   "cell_type": "markdown",
   "metadata": {},
   "source": [
    "# Inference:\n",
    "- pd.read_csv is function from pandas used to read the given \"Rainfall_prediction_data.csv\" dataset.\n",
    "- df.head(5) - It displays the first 5 rows of the dataset.\n",
    "- df.columns: It returns the column name from the dataset.\n",
    "- df.shape: It gives the number of rows and columns present in the \"rainfall_prediction\" dataset. It has 1040 rows and 23 columns\n",
    "- df.info(): It gives the information about the dataset like column names, datatype,null values memory etc. The Rainfall_prediction datset has 16 float columns and 7 objects columns. "
   ]
  },
  {
   "cell_type": "markdown",
   "metadata": {},
   "source": [
    "<a id=\"dtype\"></a>\n",
    "## 2.2 Check the Data Type"
   ]
  },
  {
   "cell_type": "markdown",
   "metadata": {},
   "source": [
    "**Check the data type of each variable. If the data type is not as per the data definition, change the data type.**"
   ]
  },
  {
   "cell_type": "code",
   "execution_count": 6,
   "metadata": {},
   "outputs": [
    {
     "data": {
      "text/plain": [
       "Date              object\n",
       "Location          object\n",
       "MinTemp          float64\n",
       "MaxTemp          float64\n",
       "Rainfall         float64\n",
       "Evaporation      float64\n",
       "Sunshine         float64\n",
       "WindGustDir       object\n",
       "WindGustSpeed    float64\n",
       "WindDir9am        object\n",
       "WindDir3pm        object\n",
       "WindSpeed9am     float64\n",
       "WindSpeed3pm     float64\n",
       "Humidity9am      float64\n",
       "Humidity3pm      float64\n",
       "Pressure9am      float64\n",
       "Pressure3pm      float64\n",
       "Cloud9am         float64\n",
       "Cloud3pm         float64\n",
       "Temp9am          float64\n",
       "Temp3pm          float64\n",
       "RainToday         object\n",
       "RainTomorrow      object\n",
       "dtype: object"
      ]
     },
     "execution_count": 6,
     "metadata": {},
     "output_type": "execute_result"
    }
   ],
   "source": [
    "df.dtypes"
   ]
  },
  {
   "cell_type": "markdown",
   "metadata": {},
   "source": [
    "#### Change the data type as per the data definition."
   ]
  },
  {
   "cell_type": "code",
   "execution_count": 7,
   "metadata": {},
   "outputs": [],
   "source": [
    "df['Date']=pd.to_datetime(df['Date'])"
   ]
  },
  {
   "cell_type": "markdown",
   "metadata": {},
   "source": [
    "#### Recheck the data type after the conversion. "
   ]
  },
  {
   "cell_type": "code",
   "execution_count": 8,
   "metadata": {},
   "outputs": [
    {
     "data": {
      "text/plain": [
       "Date             datetime64[ns]\n",
       "Location                 object\n",
       "MinTemp                 float64\n",
       "MaxTemp                 float64\n",
       "Rainfall                float64\n",
       "Evaporation             float64\n",
       "Sunshine                float64\n",
       "WindGustDir              object\n",
       "WindGustSpeed           float64\n",
       "WindDir9am               object\n",
       "WindDir3pm               object\n",
       "WindSpeed9am            float64\n",
       "WindSpeed3pm            float64\n",
       "Humidity9am             float64\n",
       "Humidity3pm             float64\n",
       "Pressure9am             float64\n",
       "Pressure3pm             float64\n",
       "Cloud9am                float64\n",
       "Cloud3pm                float64\n",
       "Temp9am                 float64\n",
       "Temp3pm                 float64\n",
       "RainToday                object\n",
       "RainTomorrow             object\n",
       "dtype: object"
      ]
     },
     "execution_count": 8,
     "metadata": {},
     "output_type": "execute_result"
    }
   ],
   "source": [
    "df.dtypes"
   ]
  },
  {
   "cell_type": "markdown",
   "metadata": {},
   "source": [
    "# Inference:\n",
    "- df.dtypes : It is function used to check the datatype of all columns present in the dataset.\n",
    "- As, we the see the datatype of the column, we can notice that the column \"Date\" is of \"object\" datatype which is incorrect.\n",
    "- df['Date']=pd.to_datetime(df['Date']) =  we have changed the datatype of \"Date\" from object to \"Datatime64\" using the function \"to_datetime\"\n",
    "- Once the datatype is changed we verified the columns datatype again using the df.dtypes function "
   ]
  },
  {
   "cell_type": "markdown",
   "metadata": {},
   "source": [
    "<a id=\"drop\"></a>\n",
    "## 2.3 Remove Insignificant Variables, if its applicable."
   ]
  },
  {
   "cell_type": "code",
   "execution_count": 9,
   "metadata": {},
   "outputs": [],
   "source": [
    "df1 = df.copy(deep=\"TRUE\")"
   ]
  },
  {
   "cell_type": "code",
   "execution_count": 10,
   "metadata": {},
   "outputs": [],
   "source": [
    "df1.drop(['Date','Location'], axis=1, inplace= True)"
   ]
  },
  {
   "cell_type": "code",
   "execution_count": 11,
   "metadata": {},
   "outputs": [
    {
     "data": {
      "text/html": [
       "<div>\n",
       "<style scoped>\n",
       "    .dataframe tbody tr th:only-of-type {\n",
       "        vertical-align: middle;\n",
       "    }\n",
       "\n",
       "    .dataframe tbody tr th {\n",
       "        vertical-align: top;\n",
       "    }\n",
       "\n",
       "    .dataframe thead th {\n",
       "        text-align: right;\n",
       "    }\n",
       "</style>\n",
       "<table border=\"1\" class=\"dataframe\">\n",
       "  <thead>\n",
       "    <tr style=\"text-align: right;\">\n",
       "      <th></th>\n",
       "      <th>MinTemp</th>\n",
       "      <th>MaxTemp</th>\n",
       "      <th>Rainfall</th>\n",
       "      <th>Evaporation</th>\n",
       "      <th>Sunshine</th>\n",
       "      <th>WindGustDir</th>\n",
       "      <th>WindGustSpeed</th>\n",
       "      <th>WindDir9am</th>\n",
       "      <th>WindDir3pm</th>\n",
       "      <th>WindSpeed9am</th>\n",
       "      <th>...</th>\n",
       "      <th>Humidity9am</th>\n",
       "      <th>Humidity3pm</th>\n",
       "      <th>Pressure9am</th>\n",
       "      <th>Pressure3pm</th>\n",
       "      <th>Cloud9am</th>\n",
       "      <th>Cloud3pm</th>\n",
       "      <th>Temp9am</th>\n",
       "      <th>Temp3pm</th>\n",
       "      <th>RainToday</th>\n",
       "      <th>RainTomorrow</th>\n",
       "    </tr>\n",
       "  </thead>\n",
       "  <tbody>\n",
       "    <tr>\n",
       "      <th>0</th>\n",
       "      <td>16.0</td>\n",
       "      <td>20.4</td>\n",
       "      <td>8.2</td>\n",
       "      <td>NaN</td>\n",
       "      <td>NaN</td>\n",
       "      <td>S</td>\n",
       "      <td>63.0</td>\n",
       "      <td>SSW</td>\n",
       "      <td>SW</td>\n",
       "      <td>39.0</td>\n",
       "      <td>...</td>\n",
       "      <td>69.0</td>\n",
       "      <td>92.0</td>\n",
       "      <td>1018.5</td>\n",
       "      <td>1017.6</td>\n",
       "      <td>1.0</td>\n",
       "      <td>8.0</td>\n",
       "      <td>17.4</td>\n",
       "      <td>15.6</td>\n",
       "      <td>Yes</td>\n",
       "      <td>Yes</td>\n",
       "    </tr>\n",
       "    <tr>\n",
       "      <th>1</th>\n",
       "      <td>18.5</td>\n",
       "      <td>25.9</td>\n",
       "      <td>16.0</td>\n",
       "      <td>5.4</td>\n",
       "      <td>11.8</td>\n",
       "      <td>WSW</td>\n",
       "      <td>39.0</td>\n",
       "      <td>SSW</td>\n",
       "      <td>WSW</td>\n",
       "      <td>20.0</td>\n",
       "      <td>...</td>\n",
       "      <td>60.0</td>\n",
       "      <td>36.0</td>\n",
       "      <td>1004.6</td>\n",
       "      <td>1003.6</td>\n",
       "      <td>7.0</td>\n",
       "      <td>1.0</td>\n",
       "      <td>22.2</td>\n",
       "      <td>25.1</td>\n",
       "      <td>Yes</td>\n",
       "      <td>No</td>\n",
       "    </tr>\n",
       "    <tr>\n",
       "      <th>2</th>\n",
       "      <td>8.7</td>\n",
       "      <td>16.5</td>\n",
       "      <td>0.0</td>\n",
       "      <td>NaN</td>\n",
       "      <td>NaN</td>\n",
       "      <td>WNW</td>\n",
       "      <td>56.0</td>\n",
       "      <td>WNW</td>\n",
       "      <td>WNW</td>\n",
       "      <td>19.0</td>\n",
       "      <td>...</td>\n",
       "      <td>41.0</td>\n",
       "      <td>41.0</td>\n",
       "      <td>NaN</td>\n",
       "      <td>NaN</td>\n",
       "      <td>NaN</td>\n",
       "      <td>NaN</td>\n",
       "      <td>13.1</td>\n",
       "      <td>15.1</td>\n",
       "      <td>No</td>\n",
       "      <td>No</td>\n",
       "    </tr>\n",
       "    <tr>\n",
       "      <th>3</th>\n",
       "      <td>25.5</td>\n",
       "      <td>33.9</td>\n",
       "      <td>0.2</td>\n",
       "      <td>5.0</td>\n",
       "      <td>7.0</td>\n",
       "      <td>SSE</td>\n",
       "      <td>41.0</td>\n",
       "      <td>SSE</td>\n",
       "      <td>SE</td>\n",
       "      <td>11.0</td>\n",
       "      <td>...</td>\n",
       "      <td>64.0</td>\n",
       "      <td>59.0</td>\n",
       "      <td>1009.8</td>\n",
       "      <td>1007.4</td>\n",
       "      <td>6.0</td>\n",
       "      <td>5.0</td>\n",
       "      <td>30.8</td>\n",
       "      <td>31.5</td>\n",
       "      <td>No</td>\n",
       "      <td>No</td>\n",
       "    </tr>\n",
       "    <tr>\n",
       "      <th>4</th>\n",
       "      <td>3.8</td>\n",
       "      <td>23.0</td>\n",
       "      <td>0.0</td>\n",
       "      <td>NaN</td>\n",
       "      <td>NaN</td>\n",
       "      <td>N</td>\n",
       "      <td>28.0</td>\n",
       "      <td>NE</td>\n",
       "      <td>W</td>\n",
       "      <td>13.0</td>\n",
       "      <td>...</td>\n",
       "      <td>56.0</td>\n",
       "      <td>29.0</td>\n",
       "      <td>NaN</td>\n",
       "      <td>NaN</td>\n",
       "      <td>NaN</td>\n",
       "      <td>NaN</td>\n",
       "      <td>14.0</td>\n",
       "      <td>21.1</td>\n",
       "      <td>No</td>\n",
       "      <td>No</td>\n",
       "    </tr>\n",
       "    <tr>\n",
       "      <th>...</th>\n",
       "      <td>...</td>\n",
       "      <td>...</td>\n",
       "      <td>...</td>\n",
       "      <td>...</td>\n",
       "      <td>...</td>\n",
       "      <td>...</td>\n",
       "      <td>...</td>\n",
       "      <td>...</td>\n",
       "      <td>...</td>\n",
       "      <td>...</td>\n",
       "      <td>...</td>\n",
       "      <td>...</td>\n",
       "      <td>...</td>\n",
       "      <td>...</td>\n",
       "      <td>...</td>\n",
       "      <td>...</td>\n",
       "      <td>...</td>\n",
       "      <td>...</td>\n",
       "      <td>...</td>\n",
       "      <td>...</td>\n",
       "      <td>...</td>\n",
       "    </tr>\n",
       "    <tr>\n",
       "      <th>1035</th>\n",
       "      <td>6.6</td>\n",
       "      <td>13.3</td>\n",
       "      <td>4.0</td>\n",
       "      <td>NaN</td>\n",
       "      <td>NaN</td>\n",
       "      <td>WNW</td>\n",
       "      <td>50.0</td>\n",
       "      <td>W</td>\n",
       "      <td>NW</td>\n",
       "      <td>31.0</td>\n",
       "      <td>...</td>\n",
       "      <td>99.0</td>\n",
       "      <td>75.0</td>\n",
       "      <td>1004.2</td>\n",
       "      <td>1004.8</td>\n",
       "      <td>7.0</td>\n",
       "      <td>8.0</td>\n",
       "      <td>9.5</td>\n",
       "      <td>12.8</td>\n",
       "      <td>Yes</td>\n",
       "      <td>No</td>\n",
       "    </tr>\n",
       "    <tr>\n",
       "      <th>1036</th>\n",
       "      <td>28.2</td>\n",
       "      <td>36.6</td>\n",
       "      <td>0.0</td>\n",
       "      <td>8.0</td>\n",
       "      <td>12.0</td>\n",
       "      <td>WNW</td>\n",
       "      <td>33.0</td>\n",
       "      <td>NNE</td>\n",
       "      <td>NNW</td>\n",
       "      <td>19.0</td>\n",
       "      <td>...</td>\n",
       "      <td>64.0</td>\n",
       "      <td>31.0</td>\n",
       "      <td>1010.7</td>\n",
       "      <td>1006.8</td>\n",
       "      <td>3.0</td>\n",
       "      <td>1.0</td>\n",
       "      <td>30.5</td>\n",
       "      <td>35.4</td>\n",
       "      <td>No</td>\n",
       "      <td>No</td>\n",
       "    </tr>\n",
       "    <tr>\n",
       "      <th>1037</th>\n",
       "      <td>13.1</td>\n",
       "      <td>19.2</td>\n",
       "      <td>0.0</td>\n",
       "      <td>3.2</td>\n",
       "      <td>3.0</td>\n",
       "      <td>E</td>\n",
       "      <td>28.0</td>\n",
       "      <td>ENE</td>\n",
       "      <td>NE</td>\n",
       "      <td>13.0</td>\n",
       "      <td>...</td>\n",
       "      <td>63.0</td>\n",
       "      <td>61.0</td>\n",
       "      <td>1024.4</td>\n",
       "      <td>1021.9</td>\n",
       "      <td>7.0</td>\n",
       "      <td>7.0</td>\n",
       "      <td>16.5</td>\n",
       "      <td>18.0</td>\n",
       "      <td>No</td>\n",
       "      <td>No</td>\n",
       "    </tr>\n",
       "    <tr>\n",
       "      <th>1038</th>\n",
       "      <td>13.4</td>\n",
       "      <td>26.5</td>\n",
       "      <td>0.0</td>\n",
       "      <td>NaN</td>\n",
       "      <td>NaN</td>\n",
       "      <td>E</td>\n",
       "      <td>37.0</td>\n",
       "      <td>E</td>\n",
       "      <td>ESE</td>\n",
       "      <td>17.0</td>\n",
       "      <td>...</td>\n",
       "      <td>54.0</td>\n",
       "      <td>30.0</td>\n",
       "      <td>1025.2</td>\n",
       "      <td>1021.1</td>\n",
       "      <td>NaN</td>\n",
       "      <td>1.0</td>\n",
       "      <td>20.1</td>\n",
       "      <td>25.9</td>\n",
       "      <td>No</td>\n",
       "      <td>No</td>\n",
       "    </tr>\n",
       "    <tr>\n",
       "      <th>1039</th>\n",
       "      <td>13.2</td>\n",
       "      <td>28.7</td>\n",
       "      <td>0.0</td>\n",
       "      <td>5.8</td>\n",
       "      <td>13.2</td>\n",
       "      <td>SSE</td>\n",
       "      <td>30.0</td>\n",
       "      <td>E</td>\n",
       "      <td>SE</td>\n",
       "      <td>6.0</td>\n",
       "      <td>...</td>\n",
       "      <td>72.0</td>\n",
       "      <td>43.0</td>\n",
       "      <td>1018.4</td>\n",
       "      <td>1015.8</td>\n",
       "      <td>0.0</td>\n",
       "      <td>2.0</td>\n",
       "      <td>19.9</td>\n",
       "      <td>26.7</td>\n",
       "      <td>No</td>\n",
       "      <td>No</td>\n",
       "    </tr>\n",
       "  </tbody>\n",
       "</table>\n",
       "<p>1040 rows × 21 columns</p>\n",
       "</div>"
      ],
      "text/plain": [
       "      MinTemp  MaxTemp  Rainfall  Evaporation  Sunshine WindGustDir  \\\n",
       "0        16.0     20.4       8.2          NaN       NaN           S   \n",
       "1        18.5     25.9      16.0          5.4      11.8         WSW   \n",
       "2         8.7     16.5       0.0          NaN       NaN         WNW   \n",
       "3        25.5     33.9       0.2          5.0       7.0         SSE   \n",
       "4         3.8     23.0       0.0          NaN       NaN           N   \n",
       "...       ...      ...       ...          ...       ...         ...   \n",
       "1035      6.6     13.3       4.0          NaN       NaN         WNW   \n",
       "1036     28.2     36.6       0.0          8.0      12.0         WNW   \n",
       "1037     13.1     19.2       0.0          3.2       3.0           E   \n",
       "1038     13.4     26.5       0.0          NaN       NaN           E   \n",
       "1039     13.2     28.7       0.0          5.8      13.2         SSE   \n",
       "\n",
       "      WindGustSpeed WindDir9am WindDir3pm  WindSpeed9am  ...  Humidity9am  \\\n",
       "0              63.0        SSW         SW          39.0  ...         69.0   \n",
       "1              39.0        SSW        WSW          20.0  ...         60.0   \n",
       "2              56.0        WNW        WNW          19.0  ...         41.0   \n",
       "3              41.0        SSE         SE          11.0  ...         64.0   \n",
       "4              28.0         NE          W          13.0  ...         56.0   \n",
       "...             ...        ...        ...           ...  ...          ...   \n",
       "1035           50.0          W         NW          31.0  ...         99.0   \n",
       "1036           33.0        NNE        NNW          19.0  ...         64.0   \n",
       "1037           28.0        ENE         NE          13.0  ...         63.0   \n",
       "1038           37.0          E        ESE          17.0  ...         54.0   \n",
       "1039           30.0          E         SE           6.0  ...         72.0   \n",
       "\n",
       "      Humidity3pm  Pressure9am  Pressure3pm  Cloud9am  Cloud3pm  Temp9am  \\\n",
       "0            92.0       1018.5       1017.6       1.0       8.0     17.4   \n",
       "1            36.0       1004.6       1003.6       7.0       1.0     22.2   \n",
       "2            41.0          NaN          NaN       NaN       NaN     13.1   \n",
       "3            59.0       1009.8       1007.4       6.0       5.0     30.8   \n",
       "4            29.0          NaN          NaN       NaN       NaN     14.0   \n",
       "...           ...          ...          ...       ...       ...      ...   \n",
       "1035         75.0       1004.2       1004.8       7.0       8.0      9.5   \n",
       "1036         31.0       1010.7       1006.8       3.0       1.0     30.5   \n",
       "1037         61.0       1024.4       1021.9       7.0       7.0     16.5   \n",
       "1038         30.0       1025.2       1021.1       NaN       1.0     20.1   \n",
       "1039         43.0       1018.4       1015.8       0.0       2.0     19.9   \n",
       "\n",
       "      Temp3pm  RainToday RainTomorrow  \n",
       "0        15.6        Yes          Yes  \n",
       "1        25.1        Yes           No  \n",
       "2        15.1         No           No  \n",
       "3        31.5         No           No  \n",
       "4        21.1         No           No  \n",
       "...       ...        ...          ...  \n",
       "1035     12.8        Yes           No  \n",
       "1036     35.4         No           No  \n",
       "1037     18.0         No           No  \n",
       "1038     25.9         No           No  \n",
       "1039     26.7         No           No  \n",
       "\n",
       "[1040 rows x 21 columns]"
      ]
     },
     "execution_count": 11,
     "metadata": {},
     "output_type": "execute_result"
    }
   ],
   "source": [
    "df1"
   ]
  },
  {
   "cell_type": "markdown",
   "metadata": {},
   "source": [
    "# Inference:\n",
    "- df1.drop() is a function used to drop the insignificant columns. The columns 'Date','Location' are dropped from the dataset since the \"Location\" column is a categorical and \"Date\" column is \"datetime64\" ,  These column are not significant towards the final outcome or Target variable.  Our Target variable is prediction of rainfall tomorrow \"Rainfall Tomorrow\", These date and Location has less correlation in predicting the the final outcome.  so, we feel these are considered as insignificant features and we dropped these column for further analysis "
   ]
  },
  {
   "cell_type": "markdown",
   "metadata": {},
   "source": [
    "<a id=\"dist\"></a>\n",
    "## 2.4 Distribution of Variables"
   ]
  },
  {
   "cell_type": "markdown",
   "metadata": {},
   "source": [
    "**Distribution of numeric independent variables.**"
   ]
  },
  {
   "cell_type": "code",
   "execution_count": 12,
   "metadata": {},
   "outputs": [
    {
     "data": {
      "image/png": "[encoded data removed]",
      "text/plain": [
       "<Figure size 432x288 with 16 Axes>"
      ]
     },
     "metadata": {
      "needs_background": "light"
     },
     "output_type": "display_data"
    },
    {
     "name": "stdout",
     "output_type": "stream",
     "text": [
      "Skewness:\n"
     ]
    },
    {
     "data": {
      "text/plain": [
       "MinTemp          0.104990\n",
       "MaxTemp          0.294201\n",
       "Rainfall         8.499077\n",
       "Evaporation      1.624399\n",
       "Sunshine        -0.515384\n",
       "WindGustSpeed    1.001696\n",
       "WindSpeed9am     0.726155\n",
       "WindSpeed3pm     0.494159\n",
       "Humidity9am     -0.442775\n",
       "Humidity3pm      0.031312\n",
       "Pressure9am     -0.297925\n",
       "Pressure3pm     -0.201687\n",
       "Cloud9am        -0.296792\n",
       "Cloud3pm        -0.217657\n",
       "Temp9am          0.162631\n",
       "Temp3pm          0.280177\n",
       "dtype: float64"
      ]
     },
     "execution_count": 12,
     "metadata": {},
     "output_type": "execute_result"
    }
   ],
   "source": [
    "# for the independent numeric variables, we plot the histogram to check the distribution of the variables\n",
    "# Note: the hist() function considers the numeric variables only, by default\n",
    "# we drop the target variable using drop()\n",
    "# 'axis=1' drops the specified column\n",
    "df1.drop('RainTomorrow', axis = 1).hist()\n",
    "\n",
    "# adjust the subplots\n",
    "\n",
    "plt.tight_layout(pad=0.5, w_pad=0.5, h_pad=0.5)\n",
    "\n",
    "# display the plot\n",
    "plt.show()  \n",
    "\n",
    "# print the skewness for each numeric independent variable\n",
    "print('Skewness:')\n",
    "# we drop the target variable using drop()\n",
    "# 'axis=1' drops the specified column\n",
    "# skew() returns the coefficient of skewness for each variable\n",
    "df1.drop('RainTomorrow', axis = 1).skew()"
   ]
  },
  {
   "cell_type": "code",
   "execution_count": 13,
   "metadata": {},
   "outputs": [
    {
     "data": {
      "image/png": "[encoded data removed]",
      "text/plain": [
       "<Figure size 1080x576 with 16 Axes>"
      ]
     },
     "metadata": {
      "needs_background": "light"
     },
     "output_type": "display_data"
    },
    {
     "name": "stdout",
     "output_type": "stream",
     "text": [
      "Skewness:\n",
      "MinTemp          0.104990\n",
      "MaxTemp          0.294201\n",
      "Rainfall         8.499077\n",
      "Evaporation      1.624399\n",
      "Sunshine        -0.515384\n",
      "WindGustSpeed    1.001696\n",
      "WindSpeed9am     0.726155\n",
      "WindSpeed3pm     0.494159\n",
      "Humidity9am     -0.442775\n",
      "Humidity3pm      0.031312\n",
      "Pressure9am     -0.297925\n",
      "Pressure3pm     -0.201687\n",
      "Cloud9am        -0.296792\n",
      "Cloud3pm        -0.217657\n",
      "Temp9am          0.162631\n",
      "Temp3pm          0.280177\n",
      "dtype: float64\n",
      "Skewness:\n",
      "\n",
      "MinTemp         -0.055009\n",
      "MaxTemp          0.035168\n",
      "Rainfall         0.946003\n",
      "Evaporation     -0.004149\n",
      "Sunshine        -0.358847\n",
      "WindGustSpeed    0.006287\n",
      "WindSpeed9am    -0.038106\n",
      "WindSpeed3pm     0.007318\n",
      "Humidity9am     -0.095542\n",
      "Humidity3pm     -0.077005\n",
      "Pressure9am      0.004309\n",
      "Pressure3pm     -0.000212\n",
      "Cloud9am        -0.345565\n",
      "Cloud3pm        -0.290687\n",
      "Temp9am          0.013067\n",
      "Temp3pm          0.076784\n",
      "dtype: float64\n",
      "       MinTemp   MaxTemp  Rainfall  Evaporation  Sunshine  WindGustSpeed  \\\n",
      "0     0.656502 -0.351342  1.810998          NaN       NaN       1.544685   \n",
      "1     1.041761  0.451833  1.857185     0.303994  1.159927       0.059860   \n",
      "2    -0.507424 -0.958935 -0.694282          NaN       NaN       1.168150   \n",
      "3     2.095096  1.537136 -0.041217     0.182679 -0.218392       0.208773   \n",
      "4    -1.340833  0.035211 -0.694282          NaN       NaN      -0.892648   \n",
      "...        ...       ...       ...          ...       ...            ...   \n",
      "1035 -0.857370 -1.488528  1.688862          NaN       NaN       0.813201   \n",
      "1036  2.493179  1.885951 -0.694282     0.957206  1.219954      -0.427733   \n",
      "1037  0.202027 -0.534460 -0.694282    -0.474647 -1.246438      -0.892648   \n",
      "1038  0.249465  0.536312 -0.694282          NaN       NaN      -0.095425   \n",
      "1039  0.217851  0.841468 -0.694282     0.418624  1.583899      -0.699185   \n",
      "\n",
      "      WindSpeed9am  WindSpeed3pm  Humidity9am  Humidity3pm  Pressure9am  \\\n",
      "0         2.442634      0.256337    -0.095994     1.934305     0.122645   \n",
      "1         0.794926      0.479961    -0.589850    -0.761588    -1.651764   \n",
      "2         0.693755      0.479961    -1.519058    -0.508746          NaN   \n",
      "3        -0.208219      0.141966    -0.374334     0.377551    -1.024127   \n",
      "4         0.036051     -1.431486    -0.798771    -1.121876          NaN   \n",
      "...            ...           ...          ...          ...          ...   \n",
      "1035      1.800227      1.318580     1.764397     1.141359    -1.698350   \n",
      "1036      0.693755      0.141966    -0.374334    -1.018104    -0.911241   \n",
      "1037      0.036051     -0.335474    -0.428819     0.474111     0.974695   \n",
      "1038      0.484930      0.141966    -0.900685    -1.069901     1.095134   \n",
      "1039     -0.907609     -0.853444     0.075633    -0.408525     0.108738   \n",
      "\n",
      "      Pressure3pm  Cloud9am  Cloud3pm   Temp9am   Temp3pm  \n",
      "0        0.341228 -1.241944  1.252493  0.123056 -0.872719  \n",
      "1       -1.524783  0.830966 -1.265987  0.888287  0.563184  \n",
      "2             NaN       NaN       NaN -0.586004 -0.952249  \n",
      "3       -1.041904  0.505486  0.242785  2.208499  1.470187  \n",
      "4             NaN       NaN       NaN -0.435408 -0.026011  \n",
      "...           ...       ...       ...       ...       ...  \n",
      "1035    -1.374129  0.830966  1.252493 -1.202671 -1.324734  \n",
      "1036    -1.119283 -0.510882 -1.265987  2.163348  2.005209  \n",
      "1037     0.964244  0.830966  0.923373 -0.023288 -0.497302  \n",
      "1038     0.846473       NaN -1.265987  0.556452  0.678790  \n",
      "1039     0.087624 -1.640239 -0.860720  0.524620  0.793716  \n",
      "\n",
      "[1040 rows x 16 columns]\n"
     ]
    }
   ],
   "source": [
    "from sklearn.preprocessing import PowerTransformer\n",
    "# select the numeric variables\n",
    "df_num = df1.select_dtypes(include=np.number)\n",
    "\n",
    "# plot the histograms\n",
    "df_num.hist(figsize=(15, 8), color='green')\n",
    "\n",
    "# adjust the subplots\n",
    "plt.tight_layout()\n",
    "\n",
    "# display the plot\n",
    "plt.show()\n",
    "\n",
    "# print the skewness for each numeric independent variable\n",
    "print('Skewness:')\n",
    "print(df_num.skew())\n",
    "\n",
    "# separate the numeric variables\n",
    "df_num = df1.select_dtypes(include=['float64'])\n",
    "\n",
    "# initialize the power transformer\n",
    "pt = PowerTransformer(method='yeo-johnson')\n",
    "\n",
    "# transform the data\n",
    "df_num_transformed = pd.DataFrame(pt.fit_transform(df_num), columns=df_num.columns)\n",
    "\n",
    "# print the skewness for each numeric independent variable\n",
    "print('Skewness:')\n",
    "print()\n",
    "print(df_num_transformed.skew())\n",
    "# replace the numeric columns in df_rain with the transformed columns\n",
    "df1[df_num.columns] = df_num_transformed\n",
    "print(df_num_transformed)"
   ]
  },
  {
   "cell_type": "markdown",
   "metadata": {},
   "source": [
    "\n",
    "**Distribution of categoric independent variable.**\n"
   ]
  },
  {
   "cell_type": "code",
   "execution_count": 14,
   "metadata": {},
   "outputs": [
    {
     "data": {
      "text/html": [
       "<div>\n",
       "<style scoped>\n",
       "    .dataframe tbody tr th:only-of-type {\n",
       "        vertical-align: middle;\n",
       "    }\n",
       "\n",
       "    .dataframe tbody tr th {\n",
       "        vertical-align: top;\n",
       "    }\n",
       "\n",
       "    .dataframe thead th {\n",
       "        text-align: right;\n",
       "    }\n",
       "</style>\n",
       "<table border=\"1\" class=\"dataframe\">\n",
       "  <thead>\n",
       "    <tr style=\"text-align: right;\">\n",
       "      <th></th>\n",
       "      <th>WindGustDir</th>\n",
       "      <th>WindDir9am</th>\n",
       "      <th>WindDir3pm</th>\n",
       "      <th>RainToday</th>\n",
       "    </tr>\n",
       "  </thead>\n",
       "  <tbody>\n",
       "    <tr>\n",
       "      <th>0</th>\n",
       "      <td>S</td>\n",
       "      <td>SSW</td>\n",
       "      <td>SW</td>\n",
       "      <td>Yes</td>\n",
       "    </tr>\n",
       "    <tr>\n",
       "      <th>1</th>\n",
       "      <td>WSW</td>\n",
       "      <td>SSW</td>\n",
       "      <td>WSW</td>\n",
       "      <td>Yes</td>\n",
       "    </tr>\n",
       "    <tr>\n",
       "      <th>2</th>\n",
       "      <td>WNW</td>\n",
       "      <td>WNW</td>\n",
       "      <td>WNW</td>\n",
       "      <td>No</td>\n",
       "    </tr>\n",
       "    <tr>\n",
       "      <th>3</th>\n",
       "      <td>SSE</td>\n",
       "      <td>SSE</td>\n",
       "      <td>SE</td>\n",
       "      <td>No</td>\n",
       "    </tr>\n",
       "    <tr>\n",
       "      <th>4</th>\n",
       "      <td>N</td>\n",
       "      <td>NE</td>\n",
       "      <td>W</td>\n",
       "      <td>No</td>\n",
       "    </tr>\n",
       "    <tr>\n",
       "      <th>...</th>\n",
       "      <td>...</td>\n",
       "      <td>...</td>\n",
       "      <td>...</td>\n",
       "      <td>...</td>\n",
       "    </tr>\n",
       "    <tr>\n",
       "      <th>1035</th>\n",
       "      <td>WNW</td>\n",
       "      <td>W</td>\n",
       "      <td>NW</td>\n",
       "      <td>Yes</td>\n",
       "    </tr>\n",
       "    <tr>\n",
       "      <th>1036</th>\n",
       "      <td>WNW</td>\n",
       "      <td>NNE</td>\n",
       "      <td>NNW</td>\n",
       "      <td>No</td>\n",
       "    </tr>\n",
       "    <tr>\n",
       "      <th>1037</th>\n",
       "      <td>E</td>\n",
       "      <td>ENE</td>\n",
       "      <td>NE</td>\n",
       "      <td>No</td>\n",
       "    </tr>\n",
       "    <tr>\n",
       "      <th>1038</th>\n",
       "      <td>E</td>\n",
       "      <td>E</td>\n",
       "      <td>ESE</td>\n",
       "      <td>No</td>\n",
       "    </tr>\n",
       "    <tr>\n",
       "      <th>1039</th>\n",
       "      <td>SSE</td>\n",
       "      <td>E</td>\n",
       "      <td>SE</td>\n",
       "      <td>No</td>\n",
       "    </tr>\n",
       "  </tbody>\n",
       "</table>\n",
       "<p>1040 rows × 4 columns</p>\n",
       "</div>"
      ],
      "text/plain": [
       "     WindGustDir WindDir9am WindDir3pm RainToday\n",
       "0              S        SSW         SW       Yes\n",
       "1            WSW        SSW        WSW       Yes\n",
       "2            WNW        WNW        WNW        No\n",
       "3            SSE        SSE         SE        No\n",
       "4              N         NE          W        No\n",
       "...          ...        ...        ...       ...\n",
       "1035         WNW          W         NW       Yes\n",
       "1036         WNW        NNE        NNW        No\n",
       "1037           E        ENE         NE        No\n",
       "1038           E          E        ESE        No\n",
       "1039         SSE          E         SE        No\n",
       "\n",
       "[1040 rows x 4 columns]"
      ]
     },
     "execution_count": 14,
     "metadata": {},
     "output_type": "execute_result"
    }
   ],
   "source": [
    "# use countplot() to plot the count of each label in the categorical variable \n",
    "df2=df1.select_dtypes(include=\"object\")\n",
    "df2.drop(['RainTomorrow'],axis=1,inplace=True)\n",
    "df2"
   ]
  },
  {
   "cell_type": "code",
   "execution_count": 15,
   "metadata": {},
   "outputs": [
    {
     "name": "stdout",
     "output_type": "stream",
     "text": [
      "RainToday\n"
     ]
    },
    {
     "data": {
      "image/png": "[encoded data removed]",
      "text/plain": [
       "<Figure size 432x288 with 1 Axes>"
      ]
     },
     "metadata": {
      "needs_background": "light"
     },
     "output_type": "display_data"
    },
    {
     "name": "stdout",
     "output_type": "stream",
     "text": [
      "WindGustDir\n"
     ]
    },
    {
     "data": {
      "image/png": "[encoded data removed]",
      "text/plain": [
       "<Figure size 432x288 with 1 Axes>"
      ]
     },
     "metadata": {
      "needs_background": "light"
     },
     "output_type": "display_data"
    },
    {
     "name": "stdout",
     "output_type": "stream",
     "text": [
      "WindDir9am\n"
     ]
    },
    {
     "data": {
      "image/png": "[encoded data removed]",
      "text/plain": [
       "<Figure size 432x288 with 1 Axes>"
      ]
     },
     "metadata": {
      "needs_background": "light"
     },
     "output_type": "display_data"
    },
    {
     "name": "stdout",
     "output_type": "stream",
     "text": [
      "WindDir3pm\n"
     ]
    },
    {
     "data": {
      "image/png": "[encoded data removed]",
      "text/plain": [
       "<Figure size 432x288 with 1 Axes>"
      ]
     },
     "metadata": {
      "needs_background": "light"
     },
     "output_type": "display_data"
    }
   ],
   "source": [
    "data =df2[['RainToday','WindGustDir','WindDir9am','WindDir3pm']]\n",
    "from matplotlib import pyplot as plt # used this library to avoid overwriting to same graph\n",
    "for i in data.columns:\n",
    "    print(i)\n",
    "    sns.countplot(x=data[i]) #here x is assgined to plot the graph horizontally\n",
    "    plt.show() #plotting each plot and displaying individually\n",
    "    \n"
   ]
  },
  {
   "cell_type": "markdown",
   "metadata": {},
   "source": [
    "#### Distribution of dependent variable."
   ]
  },
  {
   "cell_type": "code",
   "execution_count": 16,
   "metadata": {},
   "outputs": [
    {
     "data": {
      "image/png": "[encoded data removed]",
      "text/plain": [
       "<Figure size 432x288 with 1 Axes>"
      ]
     },
     "metadata": {
      "needs_background": "light"
     },
     "output_type": "display_data"
    }
   ],
   "source": [
    "sns.countplot(df1['RainTomorrow'])\n",
    "plt.text(x = -0.05, y = df1['RainTomorrow'].value_counts()['Yes'] + 1, s = str(round((df1['RainTomorrow'].value_counts()['Yes'])*100/len(df1['RainTomorrow']),2)) + '%')\n",
    "plt.text(x = 0.95, y = df1['RainTomorrow'].value_counts()['No'] +1, s = str(round((df1['RainTomorrow'].value_counts()['No'] )*100/len(df1['RainTomorrow']),2)) + '%')\n",
    "\n",
    "# add plot and axes labels\n",
    "# set text size using 'fontsize'\n",
    "plt.title('Count Plot for Target Variable (Rain Tomorrow)', fontsize = 15)\n",
    "plt.xlabel('Target Variable', fontsize = 15)\n",
    "plt.ylabel('Count', fontsize = 15)\n",
    "\n",
    "# to show the plot\n",
    "plt.show()"
   ]
  },
  {
   "cell_type": "code",
   "execution_count": 17,
   "metadata": {},
   "outputs": [
    {
     "name": "stdout",
     "output_type": "stream",
     "text": [
      "MinTemp\n"
     ]
    },
    {
     "data": {
      "image/png": "[encoded data removed]",
      "text/plain": [
       "<Figure size 432x288 with 1 Axes>"
      ]
     },
     "metadata": {
      "needs_background": "light"
     },
     "output_type": "display_data"
    },
    {
     "name": "stdout",
     "output_type": "stream",
     "text": [
      "MaxTemp\n"
     ]
    },
    {
     "data": {
      "image/png": "[encoded data removed]",
      "text/plain": [
       "<Figure size 432x288 with 1 Axes>"
      ]
     },
     "metadata": {
      "needs_background": "light"
     },
     "output_type": "display_data"
    },
    {
     "name": "stdout",
     "output_type": "stream",
     "text": [
      "Rainfall\n"
     ]
    },
    {
     "data": {
      "image/png": "[encoded data removed]",
      "text/plain": [
       "<Figure size 432x288 with 1 Axes>"
      ]
     },
     "metadata": {
      "needs_background": "light"
     },
     "output_type": "display_data"
    },
    {
     "name": "stdout",
     "output_type": "stream",
     "text": [
      "Evaporation\n"
     ]
    },
    {
     "data": {
      "image/png": "[encoded data removed]",
      "text/plain": [
       "<Figure size 432x288 with 1 Axes>"
      ]
     },
     "metadata": {
      "needs_background": "light"
     },
     "output_type": "display_data"
    },
    {
     "name": "stdout",
     "output_type": "stream",
     "text": [
      "Sunshine\n"
     ]
    },
    {
     "data": {
      "image/png": "[encoded data removed]",
      "text/plain": [
       "<Figure size 432x288 with 1 Axes>"
      ]
     },
     "metadata": {
      "needs_background": "light"
     },
     "output_type": "display_data"
    },
    {
     "name": "stdout",
     "output_type": "stream",
     "text": [
      "WindGustSpeed\n"
     ]
    },
    {
     "data": {
      "image/png": "[encoded data removed]",
      "text/plain": [
       "<Figure size 432x288 with 1 Axes>"
      ]
     },
     "metadata": {
      "needs_background": "light"
     },
     "output_type": "display_data"
    },
    {
     "name": "stdout",
     "output_type": "stream",
     "text": [
      "WindSpeed9am\n"
     ]
    },
    {
     "data": {
      "image/png": "[encoded data removed]",
      "text/plain": [
       "<Figure size 432x288 with 1 Axes>"
      ]
     },
     "metadata": {
      "needs_background": "light"
     },
     "output_type": "display_data"
    },
    {
     "name": "stdout",
     "output_type": "stream",
     "text": [
      "WindSpeed3pm\n"
     ]
    },
    {
     "data": {
      "image/png": "[encoded data removed]",
      "text/plain": [
       "<Figure size 432x288 with 1 Axes>"
      ]
     },
     "metadata": {
      "needs_background": "light"
     },
     "output_type": "display_data"
    },
    {
     "name": "stdout",
     "output_type": "stream",
     "text": [
      "Humidity9am\n"
     ]
    },
    {
     "data": {
      "image/png": "[encoded data removed]",
      "text/plain": [
       "<Figure size 432x288 with 1 Axes>"
      ]
     },
     "metadata": {
      "needs_background": "light"
     },
     "output_type": "display_data"
    },
    {
     "name": "stdout",
     "output_type": "stream",
     "text": [
      "Humidity3pm\n"
     ]
    },
    {
     "data": {
      "image/png": "[encoded data removed]",
      "text/plain": [
       "<Figure size 432x288 with 1 Axes>"
      ]
     },
     "metadata": {
      "needs_background": "light"
     },
     "output_type": "display_data"
    },
    {
     "name": "stdout",
     "output_type": "stream",
     "text": [
      "Pressure9am\n"
     ]
    },
    {
     "data": {
      "image/png": "[encoded data removed]",
      "text/plain": [
       "<Figure size 432x288 with 1 Axes>"
      ]
     },
     "metadata": {
      "needs_background": "light"
     },
     "output_type": "display_data"
    },
    {
     "name": "stdout",
     "output_type": "stream",
     "text": [
      "Pressure3pm\n"
     ]
    },
    {
     "data": {
      "image/png": "[encoded data removed]",
      "text/plain": [
       "<Figure size 432x288 with 1 Axes>"
      ]
     },
     "metadata": {
      "needs_background": "light"
     },
     "output_type": "display_data"
    },
    {
     "name": "stdout",
     "output_type": "stream",
     "text": [
      "Cloud9am\n"
     ]
    },
    {
     "data": {
      "image/png": "[encoded data removed]",
      "text/plain": [
       "<Figure size 432x288 with 1 Axes>"
      ]
     },
     "metadata": {
      "needs_background": "light"
     },
     "output_type": "display_data"
    },
    {
     "name": "stdout",
     "output_type": "stream",
     "text": [
      "Cloud3pm\n"
     ]
    },
    {
     "data": {
      "image/png": "[encoded data removed]",
      "text/plain": [
       "<Figure size 432x288 with 1 Axes>"
      ]
     },
     "metadata": {
      "needs_background": "light"
     },
     "output_type": "display_data"
    },
    {
     "name": "stdout",
     "output_type": "stream",
     "text": [
      "Temp9am\n"
     ]
    },
    {
     "data": {
      "image/png": "[encoded data removed]",
      "text/plain": [
       "<Figure size 432x288 with 1 Axes>"
      ]
     },
     "metadata": {
      "needs_background": "light"
     },
     "output_type": "display_data"
    },
    {
     "name": "stdout",
     "output_type": "stream",
     "text": [
      "Temp3pm\n"
     ]
    },
    {
     "data": {
      "image/png": "[encoded data removed]",
      "text/plain": [
       "<Figure size 432x288 with 1 Axes>"
      ]
     },
     "metadata": {
      "needs_background": "light"
     },
     "output_type": "display_data"
    }
   ],
   "source": [
    "#Outlier Detection\n",
    "data =df1.select_dtypes(exclude=\"object\")\n",
    "from matplotlib import pyplot as plt # used this library to avoid overwriting to same graph\n",
    "for i in data.columns:\n",
    "    print(i)\n",
    "    sns.boxplot(x=data[i]) #here x is assgined to plot the graph horizontally\n",
    "    plt.show() #plotting each plot and displaying individually\n",
    "    \n",
    "\n"
   ]
  },
  {
   "cell_type": "markdown",
   "metadata": {},
   "source": [
    "# Inference:\n",
    "- <b>Distribution of numeric independent variables.</b>:\n",
    "\n",
    "i)The independent variables are those being used to train the model. In our project, we have 20 independent variables out of which 16 columns are numeric.\n",
    "df1.drop('RainTomorrow', axis = 1).hist()  - we dropped the target/dependendent variable using drop() function and  Used the Histogram to see the distribution of the independent numeric variable.<br>\n",
    "ii) As we see the histogram of independent numeric variable, We observed that the column \"Rainfall\",,\"Evaporation\",\"MinTemp\",\"MaxTemp\"  are positively skewed and the columns \"Sunshine\",\"Humidity\",\"Pressure9pm\",\"Pressure3am\" are negatively skewed.  df.skew() is the function used to check the skewness of the data. <br>\n",
    "ii) so to reduce the skewness of the data, we applied YeoJohnson transformation on 'df1'.The advantage of the Yeo-Johnson transformation over the box-cox transformation is that, by default, the input (or parameter) of the Yeo-Johnson transformation can be a negative value and we used histogram to see the distribution of the data.<br>\n",
    "- <b>Distribution of categoric independent variable.</b>:\n",
    "We used countplot to see the distribution of categoric independent variable. We have four categorical variable - 'RainToday','WindGustDir','WindDir9am','WindDir3pm'.sns.countplot() is function we used to plot distribution. From this countplot we identify that the \"RainToday\" has more \"No\" class label as compared to \"Yes\". and Wind Gust direction has more observation  at \"W\" i.e west direction.\n",
    "- <b>Distribution of dependent variable.</b>: Dependent variable is a target variable/final outcome which we need to predict. In our case ,\"Rain Tomorrow\" is a target column which we need to predict by using other parameters.  Countplot is used to see the distribution of dependent variable, we used sns.countplot() function. From the count plot of \"RainTommorrow\", we identifyied the dataset is \"IMBALANCED\" . There  are 79.71% observation is with class label \"No\" and 20.29% observations with \"yes\". This shows bias in the dataset. So the  given \"rainfall_prediction\" is imbalanced dataset\n"
   ]
  },
  {
   "cell_type": "markdown",
   "metadata": {},
   "source": [
    "<a id=\"null\"></a>\n",
    "## 2.5 Missing Value Treatment"
   ]
  },
  {
   "cell_type": "markdown",
   "metadata": {},
   "source": [
    "First run a check for the presence of missing values and their percentage for each column. Then choose the right approach to treat them."
   ]
  },
  {
   "cell_type": "code",
   "execution_count": 18,
   "metadata": {},
   "outputs": [
    {
     "data": {
      "text/plain": [
       "MinTemp            5\n",
       "MaxTemp            5\n",
       "Rainfall          11\n",
       "Evaporation      458\n",
       "Sunshine         507\n",
       "WindGustDir       71\n",
       "WindGustSpeed     71\n",
       "WindDir9am        59\n",
       "WindDir3pm        26\n",
       "WindSpeed9am       8\n",
       "WindSpeed3pm      17\n",
       "Humidity9am        9\n",
       "Humidity3pm       24\n",
       "Pressure9am      111\n",
       "Pressure3pm      108\n",
       "Cloud9am         427\n",
       "Cloud3pm         443\n",
       "Temp9am            6\n",
       "Temp3pm           18\n",
       "RainToday         11\n",
       "RainTomorrow       0\n",
       "dtype: int64"
      ]
     },
     "execution_count": 18,
     "metadata": {},
     "output_type": "execute_result"
    }
   ],
   "source": [
    "df1.isnull().sum()"
   ]
  },
  {
   "cell_type": "code",
   "execution_count": 19,
   "metadata": {},
   "outputs": [
    {
     "data": {
      "text/html": [
       "<div>\n",
       "<style scoped>\n",
       "    .dataframe tbody tr th:only-of-type {\n",
       "        vertical-align: middle;\n",
       "    }\n",
       "\n",
       "    .dataframe tbody tr th {\n",
       "        vertical-align: top;\n",
       "    }\n",
       "\n",
       "    .dataframe thead th {\n",
       "        text-align: right;\n",
       "    }\n",
       "</style>\n",
       "<table border=\"1\" class=\"dataframe\">\n",
       "  <thead>\n",
       "    <tr style=\"text-align: right;\">\n",
       "      <th></th>\n",
       "      <th>Total</th>\n",
       "      <th>Percentage of Missing Values</th>\n",
       "    </tr>\n",
       "  </thead>\n",
       "  <tbody>\n",
       "    <tr>\n",
       "      <th>Sunshine</th>\n",
       "      <td>507</td>\n",
       "      <td>48.750000</td>\n",
       "    </tr>\n",
       "    <tr>\n",
       "      <th>Evaporation</th>\n",
       "      <td>458</td>\n",
       "      <td>44.038462</td>\n",
       "    </tr>\n",
       "    <tr>\n",
       "      <th>Cloud3pm</th>\n",
       "      <td>443</td>\n",
       "      <td>42.596154</td>\n",
       "    </tr>\n",
       "    <tr>\n",
       "      <th>Cloud9am</th>\n",
       "      <td>427</td>\n",
       "      <td>41.057692</td>\n",
       "    </tr>\n",
       "    <tr>\n",
       "      <th>Pressure9am</th>\n",
       "      <td>111</td>\n",
       "      <td>10.673077</td>\n",
       "    </tr>\n",
       "    <tr>\n",
       "      <th>Pressure3pm</th>\n",
       "      <td>108</td>\n",
       "      <td>10.384615</td>\n",
       "    </tr>\n",
       "    <tr>\n",
       "      <th>WindGustDir</th>\n",
       "      <td>71</td>\n",
       "      <td>6.826923</td>\n",
       "    </tr>\n",
       "    <tr>\n",
       "      <th>WindGustSpeed</th>\n",
       "      <td>71</td>\n",
       "      <td>6.826923</td>\n",
       "    </tr>\n",
       "    <tr>\n",
       "      <th>WindDir9am</th>\n",
       "      <td>59</td>\n",
       "      <td>5.673077</td>\n",
       "    </tr>\n",
       "    <tr>\n",
       "      <th>WindDir3pm</th>\n",
       "      <td>26</td>\n",
       "      <td>2.500000</td>\n",
       "    </tr>\n",
       "    <tr>\n",
       "      <th>Humidity3pm</th>\n",
       "      <td>24</td>\n",
       "      <td>2.307692</td>\n",
       "    </tr>\n",
       "    <tr>\n",
       "      <th>Temp3pm</th>\n",
       "      <td>18</td>\n",
       "      <td>1.730769</td>\n",
       "    </tr>\n",
       "    <tr>\n",
       "      <th>WindSpeed3pm</th>\n",
       "      <td>17</td>\n",
       "      <td>1.634615</td>\n",
       "    </tr>\n",
       "    <tr>\n",
       "      <th>Rainfall</th>\n",
       "      <td>11</td>\n",
       "      <td>1.057692</td>\n",
       "    </tr>\n",
       "    <tr>\n",
       "      <th>RainToday</th>\n",
       "      <td>11</td>\n",
       "      <td>1.057692</td>\n",
       "    </tr>\n",
       "    <tr>\n",
       "      <th>Humidity9am</th>\n",
       "      <td>9</td>\n",
       "      <td>0.865385</td>\n",
       "    </tr>\n",
       "    <tr>\n",
       "      <th>WindSpeed9am</th>\n",
       "      <td>8</td>\n",
       "      <td>0.769231</td>\n",
       "    </tr>\n",
       "    <tr>\n",
       "      <th>Temp9am</th>\n",
       "      <td>6</td>\n",
       "      <td>0.576923</td>\n",
       "    </tr>\n",
       "    <tr>\n",
       "      <th>MinTemp</th>\n",
       "      <td>5</td>\n",
       "      <td>0.480769</td>\n",
       "    </tr>\n",
       "    <tr>\n",
       "      <th>MaxTemp</th>\n",
       "      <td>5</td>\n",
       "      <td>0.480769</td>\n",
       "    </tr>\n",
       "    <tr>\n",
       "      <th>RainTomorrow</th>\n",
       "      <td>0</td>\n",
       "      <td>0.000000</td>\n",
       "    </tr>\n",
       "  </tbody>\n",
       "</table>\n",
       "</div>"
      ],
      "text/plain": [
       "               Total  Percentage of Missing Values\n",
       "Sunshine         507                     48.750000\n",
       "Evaporation      458                     44.038462\n",
       "Cloud3pm         443                     42.596154\n",
       "Cloud9am         427                     41.057692\n",
       "Pressure9am      111                     10.673077\n",
       "Pressure3pm      108                     10.384615\n",
       "WindGustDir       71                      6.826923\n",
       "WindGustSpeed     71                      6.826923\n",
       "WindDir9am        59                      5.673077\n",
       "WindDir3pm        26                      2.500000\n",
       "Humidity3pm       24                      2.307692\n",
       "Temp3pm           18                      1.730769\n",
       "WindSpeed3pm      17                      1.634615\n",
       "Rainfall          11                      1.057692\n",
       "RainToday         11                      1.057692\n",
       "Humidity9am        9                      0.865385\n",
       "WindSpeed9am       8                      0.769231\n",
       "Temp9am            6                      0.576923\n",
       "MinTemp            5                      0.480769\n",
       "MaxTemp            5                      0.480769\n",
       "RainTomorrow       0                      0.000000"
      ]
     },
     "execution_count": 19,
     "metadata": {},
     "output_type": "execute_result"
    }
   ],
   "source": [
    "# sort the variables on the basis of total null values in the variable\n",
    "# 'isnull().sum()' returns the number of missing values in each variable\n",
    "# 'ascending = False' sorts values in the descending order\n",
    "# the variable with highest number of missing values will appear first\n",
    "Total = df1.isnull().sum().sort_values(ascending=False)          \n",
    "\n",
    "# calculate percentage of missing values\n",
    "# 'ascending = False' sorts values in the descending order\n",
    "# the variable with highest percentage of missing values will appear first\n",
    "Percent = (df1.isnull().sum()*100/df1.isnull().count()).sort_values(ascending=False)   \n",
    "\n",
    "# concat the 'Total' and 'Percent' columns using 'concat' function\n",
    "# pass a list of column names in parameter 'keys' \n",
    "# 'axis = 1' concats along the columns\n",
    "missing_data = pd.concat([Total, Percent], axis = 1, keys = ['Total', 'Percentage of Missing Values'])    \n",
    "missing_data"
   ]
  },
  {
   "cell_type": "code",
   "execution_count": 20,
   "metadata": {},
   "outputs": [],
   "source": [
    "\n",
    "num_cols = ['Sunshine','Cloud3pm','Cloud9am','MinTemp', 'Humidity3pm']\n",
    "cat_cols = ['RainToday','WindGustDir','WindDir9am','WindDir3pm']\n",
    "num_cols_outliers = ['MaxTemp', 'Rainfall','Evaporation','WindGustSpeed', 'WindSpeed9am', 'WindSpeed3pm', 'Humidity9am', 'Pressure9am', 'Pressure3pm', 'Temp9am', 'Temp3pm']\n",
    "\n",
    "for col in num_cols:\n",
    "    df1[col] = df1[col].fillna(df1[col].mean())\n",
    "\n",
    "for col in cat_cols:\n",
    "    df1[col] = df1[col].fillna(df1[col].mode()[0])\n",
    "    \n",
    "for col in num_cols_outliers:\n",
    "    df1[col] = df1[col].fillna(df1[col].mean())\n",
    "    "
   ]
  },
  {
   "cell_type": "code",
   "execution_count": 21,
   "metadata": {},
   "outputs": [
    {
     "data": {
      "text/plain": [
       "MinTemp          0\n",
       "MaxTemp          0\n",
       "Rainfall         0\n",
       "Evaporation      0\n",
       "Sunshine         0\n",
       "WindGustDir      0\n",
       "WindGustSpeed    0\n",
       "WindDir9am       0\n",
       "WindDir3pm       0\n",
       "WindSpeed9am     0\n",
       "WindSpeed3pm     0\n",
       "Humidity9am      0\n",
       "Humidity3pm      0\n",
       "Pressure9am      0\n",
       "Pressure3pm      0\n",
       "Cloud9am         0\n",
       "Cloud3pm         0\n",
       "Temp9am          0\n",
       "Temp3pm          0\n",
       "RainToday        0\n",
       "RainTomorrow     0\n",
       "dtype: int64"
      ]
     },
     "execution_count": 21,
     "metadata": {},
     "output_type": "execute_result"
    }
   ],
   "source": [
    "df1.isnull().sum()"
   ]
  },
  {
   "cell_type": "markdown",
   "metadata": {},
   "source": [
    "# Inference:\n",
    "- df.isnull.sum() - It is function used to count the number of null values for each column in dataframe. \n",
    "- Percent = (df1.isnull().sum()*100/df1.isnull().count()).sort_values(ascending=False) - we also commputed the percentage of the null values present in each columns\n",
    "-  We could see the column \"Sunshine\",\"Evaporation\", \"Cloud3pm\" and \"Cloud9am\" has more null values. It is about more than 40% of data is null.\n",
    "- To handle the null values , we used the imputation techniques. The statstical Imputation is used to treat the null values\n",
    "- We checked the presence  of outliers for all columns in the dataset, Based on that we replaced the null value with mean ,median,mode. we used boxplot to identify the presence of outliers..\n",
    "-   ['MaxTemp', 'Rainfall','Evaporation','WindGustSpeed', 'WindSpeed9am', 'WindSpeed3pm', 'Humidity9am', 'Pressure9am', 'Pressure3pm', 'Temp9am', 'Temp3pm'] these columns null values are replaced with median since  these ccolummns contains outliers.\n",
    "-  ['Sunshine','Cloud3pm','Cloud9am','MinTemp', 'Humidity3pm'] - these numerical columns null value is replaced with mean\n",
    "- The categorical columns 'WindGustDir','WindDir9am','WindDir3pm', 'raintoady' null values are replaced with mode\n",
    "-  After done with the imputation, we checked again the null value counts using isnull().sum() function. The counts shows 0. \n",
    "\n"
   ]
  },
  {
   "cell_type": "markdown",
   "metadata": {},
   "source": [
    "<a id=\"dummy\"></a>\n",
    "## 2.6 Dummy Encode the Categorical Variables"
   ]
  },
  {
   "cell_type": "markdown",
   "metadata": {},
   "source": [
    "#### Split the dependent and independent variables."
   ]
  },
  {
   "cell_type": "code",
   "execution_count": 23,
   "metadata": {},
   "outputs": [],
   "source": [
    "from sklearn.preprocessing import LabelEncoder\n",
    "lblencoder=LabelEncoder()\n",
    "df1['Label_raintomorrow']=lblencoder.fit_transform(df1['RainTomorrow'])"
   ]
  },
  {
   "cell_type": "code",
   "execution_count": 24,
   "metadata": {},
   "outputs": [
    {
     "data": {
      "text/html": [
       "<div>\n",
       "<style scoped>\n",
       "    .dataframe tbody tr th:only-of-type {\n",
       "        vertical-align: middle;\n",
       "    }\n",
       "\n",
       "    .dataframe tbody tr th {\n",
       "        vertical-align: top;\n",
       "    }\n",
       "\n",
       "    .dataframe thead th {\n",
       "        text-align: right;\n",
       "    }\n",
       "</style>\n",
       "<table border=\"1\" class=\"dataframe\">\n",
       "  <thead>\n",
       "    <tr style=\"text-align: right;\">\n",
       "      <th></th>\n",
       "      <th>MinTemp</th>\n",
       "      <th>MaxTemp</th>\n",
       "      <th>Rainfall</th>\n",
       "      <th>Evaporation</th>\n",
       "      <th>Sunshine</th>\n",
       "      <th>WindGustDir</th>\n",
       "      <th>WindGustSpeed</th>\n",
       "      <th>WindDir9am</th>\n",
       "      <th>WindDir3pm</th>\n",
       "      <th>WindSpeed9am</th>\n",
       "      <th>...</th>\n",
       "      <th>Humidity3pm</th>\n",
       "      <th>Pressure9am</th>\n",
       "      <th>Pressure3pm</th>\n",
       "      <th>Cloud9am</th>\n",
       "      <th>Cloud3pm</th>\n",
       "      <th>Temp9am</th>\n",
       "      <th>Temp3pm</th>\n",
       "      <th>RainToday</th>\n",
       "      <th>RainTomorrow</th>\n",
       "      <th>Label_raintomorrow</th>\n",
       "    </tr>\n",
       "  </thead>\n",
       "  <tbody>\n",
       "    <tr>\n",
       "      <th>0</th>\n",
       "      <td>0.656502</td>\n",
       "      <td>-0.351342</td>\n",
       "      <td>1.810998</td>\n",
       "      <td>2.756482e-16</td>\n",
       "      <td>-2.349590e-16</td>\n",
       "      <td>S</td>\n",
       "      <td>1.544685</td>\n",
       "      <td>SSW</td>\n",
       "      <td>SW</td>\n",
       "      <td>2.442634</td>\n",
       "      <td>...</td>\n",
       "      <td>1.934305</td>\n",
       "      <td>1.226448e-01</td>\n",
       "      <td>3.412276e-01</td>\n",
       "      <td>-1.241944e+00</td>\n",
       "      <td>1.252493e+00</td>\n",
       "      <td>0.123056</td>\n",
       "      <td>-0.872719</td>\n",
       "      <td>Yes</td>\n",
       "      <td>Yes</td>\n",
       "      <td>1</td>\n",
       "    </tr>\n",
       "    <tr>\n",
       "      <th>1</th>\n",
       "      <td>1.041761</td>\n",
       "      <td>0.451833</td>\n",
       "      <td>1.857185</td>\n",
       "      <td>3.039936e-01</td>\n",
       "      <td>1.159927e+00</td>\n",
       "      <td>WSW</td>\n",
       "      <td>0.059860</td>\n",
       "      <td>SSW</td>\n",
       "      <td>WSW</td>\n",
       "      <td>0.794926</td>\n",
       "      <td>...</td>\n",
       "      <td>-0.761588</td>\n",
       "      <td>-1.651764e+00</td>\n",
       "      <td>-1.524783e+00</td>\n",
       "      <td>8.309664e-01</td>\n",
       "      <td>-1.265987e+00</td>\n",
       "      <td>0.888287</td>\n",
       "      <td>0.563184</td>\n",
       "      <td>Yes</td>\n",
       "      <td>No</td>\n",
       "      <td>0</td>\n",
       "    </tr>\n",
       "    <tr>\n",
       "      <th>2</th>\n",
       "      <td>-0.507424</td>\n",
       "      <td>-0.958935</td>\n",
       "      <td>-0.694282</td>\n",
       "      <td>2.756482e-16</td>\n",
       "      <td>-2.349590e-16</td>\n",
       "      <td>WNW</td>\n",
       "      <td>1.168150</td>\n",
       "      <td>WNW</td>\n",
       "      <td>WNW</td>\n",
       "      <td>0.693755</td>\n",
       "      <td>...</td>\n",
       "      <td>-0.508746</td>\n",
       "      <td>-4.550241e-17</td>\n",
       "      <td>-7.427743e-16</td>\n",
       "      <td>-1.398193e-16</td>\n",
       "      <td>-1.584439e-16</td>\n",
       "      <td>-0.586004</td>\n",
       "      <td>-0.952249</td>\n",
       "      <td>No</td>\n",
       "      <td>No</td>\n",
       "      <td>0</td>\n",
       "    </tr>\n",
       "    <tr>\n",
       "      <th>3</th>\n",
       "      <td>2.095096</td>\n",
       "      <td>1.537136</td>\n",
       "      <td>-0.041217</td>\n",
       "      <td>1.826794e-01</td>\n",
       "      <td>-2.183917e-01</td>\n",
       "      <td>SSE</td>\n",
       "      <td>0.208773</td>\n",
       "      <td>SSE</td>\n",
       "      <td>SE</td>\n",
       "      <td>-0.208219</td>\n",
       "      <td>...</td>\n",
       "      <td>0.377551</td>\n",
       "      <td>-1.024127e+00</td>\n",
       "      <td>-1.041904e+00</td>\n",
       "      <td>5.054857e-01</td>\n",
       "      <td>2.427855e-01</td>\n",
       "      <td>2.208499</td>\n",
       "      <td>1.470187</td>\n",
       "      <td>No</td>\n",
       "      <td>No</td>\n",
       "      <td>0</td>\n",
       "    </tr>\n",
       "    <tr>\n",
       "      <th>4</th>\n",
       "      <td>-1.340833</td>\n",
       "      <td>0.035211</td>\n",
       "      <td>-0.694282</td>\n",
       "      <td>2.756482e-16</td>\n",
       "      <td>-2.349590e-16</td>\n",
       "      <td>N</td>\n",
       "      <td>-0.892648</td>\n",
       "      <td>NE</td>\n",
       "      <td>W</td>\n",
       "      <td>0.036051</td>\n",
       "      <td>...</td>\n",
       "      <td>-1.121876</td>\n",
       "      <td>-4.550241e-17</td>\n",
       "      <td>-7.427743e-16</td>\n",
       "      <td>-1.398193e-16</td>\n",
       "      <td>-1.584439e-16</td>\n",
       "      <td>-0.435408</td>\n",
       "      <td>-0.026011</td>\n",
       "      <td>No</td>\n",
       "      <td>No</td>\n",
       "      <td>0</td>\n",
       "    </tr>\n",
       "    <tr>\n",
       "      <th>...</th>\n",
       "      <td>...</td>\n",
       "      <td>...</td>\n",
       "      <td>...</td>\n",
       "      <td>...</td>\n",
       "      <td>...</td>\n",
       "      <td>...</td>\n",
       "      <td>...</td>\n",
       "      <td>...</td>\n",
       "      <td>...</td>\n",
       "      <td>...</td>\n",
       "      <td>...</td>\n",
       "      <td>...</td>\n",
       "      <td>...</td>\n",
       "      <td>...</td>\n",
       "      <td>...</td>\n",
       "      <td>...</td>\n",
       "      <td>...</td>\n",
       "      <td>...</td>\n",
       "      <td>...</td>\n",
       "      <td>...</td>\n",
       "      <td>...</td>\n",
       "    </tr>\n",
       "    <tr>\n",
       "      <th>1035</th>\n",
       "      <td>-0.857370</td>\n",
       "      <td>-1.488528</td>\n",
       "      <td>1.688862</td>\n",
       "      <td>2.756482e-16</td>\n",
       "      <td>-2.349590e-16</td>\n",
       "      <td>WNW</td>\n",
       "      <td>0.813201</td>\n",
       "      <td>W</td>\n",
       "      <td>NW</td>\n",
       "      <td>1.800227</td>\n",
       "      <td>...</td>\n",
       "      <td>1.141359</td>\n",
       "      <td>-1.698350e+00</td>\n",
       "      <td>-1.374129e+00</td>\n",
       "      <td>8.309664e-01</td>\n",
       "      <td>1.252493e+00</td>\n",
       "      <td>-1.202671</td>\n",
       "      <td>-1.324734</td>\n",
       "      <td>Yes</td>\n",
       "      <td>No</td>\n",
       "      <td>0</td>\n",
       "    </tr>\n",
       "    <tr>\n",
       "      <th>1036</th>\n",
       "      <td>2.493179</td>\n",
       "      <td>1.885951</td>\n",
       "      <td>-0.694282</td>\n",
       "      <td>9.572056e-01</td>\n",
       "      <td>1.219954e+00</td>\n",
       "      <td>WNW</td>\n",
       "      <td>-0.427733</td>\n",
       "      <td>NNE</td>\n",
       "      <td>NNW</td>\n",
       "      <td>0.693755</td>\n",
       "      <td>...</td>\n",
       "      <td>-1.018104</td>\n",
       "      <td>-9.112407e-01</td>\n",
       "      <td>-1.119283e+00</td>\n",
       "      <td>-5.108824e-01</td>\n",
       "      <td>-1.265987e+00</td>\n",
       "      <td>2.163348</td>\n",
       "      <td>2.005209</td>\n",
       "      <td>No</td>\n",
       "      <td>No</td>\n",
       "      <td>0</td>\n",
       "    </tr>\n",
       "    <tr>\n",
       "      <th>1037</th>\n",
       "      <td>0.202027</td>\n",
       "      <td>-0.534460</td>\n",
       "      <td>-0.694282</td>\n",
       "      <td>-4.746466e-01</td>\n",
       "      <td>-1.246438e+00</td>\n",
       "      <td>E</td>\n",
       "      <td>-0.892648</td>\n",
       "      <td>ENE</td>\n",
       "      <td>NE</td>\n",
       "      <td>0.036051</td>\n",
       "      <td>...</td>\n",
       "      <td>0.474111</td>\n",
       "      <td>9.746950e-01</td>\n",
       "      <td>9.642436e-01</td>\n",
       "      <td>8.309664e-01</td>\n",
       "      <td>9.233732e-01</td>\n",
       "      <td>-0.023288</td>\n",
       "      <td>-0.497302</td>\n",
       "      <td>No</td>\n",
       "      <td>No</td>\n",
       "      <td>0</td>\n",
       "    </tr>\n",
       "    <tr>\n",
       "      <th>1038</th>\n",
       "      <td>0.249465</td>\n",
       "      <td>0.536312</td>\n",
       "      <td>-0.694282</td>\n",
       "      <td>2.756482e-16</td>\n",
       "      <td>-2.349590e-16</td>\n",
       "      <td>E</td>\n",
       "      <td>-0.095425</td>\n",
       "      <td>E</td>\n",
       "      <td>ESE</td>\n",
       "      <td>0.484930</td>\n",
       "      <td>...</td>\n",
       "      <td>-1.069901</td>\n",
       "      <td>1.095134e+00</td>\n",
       "      <td>8.464726e-01</td>\n",
       "      <td>-1.398193e-16</td>\n",
       "      <td>-1.265987e+00</td>\n",
       "      <td>0.556452</td>\n",
       "      <td>0.678790</td>\n",
       "      <td>No</td>\n",
       "      <td>No</td>\n",
       "      <td>0</td>\n",
       "    </tr>\n",
       "    <tr>\n",
       "      <th>1039</th>\n",
       "      <td>0.217851</td>\n",
       "      <td>0.841468</td>\n",
       "      <td>-0.694282</td>\n",
       "      <td>4.186236e-01</td>\n",
       "      <td>1.583899e+00</td>\n",
       "      <td>SSE</td>\n",
       "      <td>-0.699185</td>\n",
       "      <td>E</td>\n",
       "      <td>SE</td>\n",
       "      <td>-0.907609</td>\n",
       "      <td>...</td>\n",
       "      <td>-0.408525</td>\n",
       "      <td>1.087384e-01</td>\n",
       "      <td>8.762356e-02</td>\n",
       "      <td>-1.640239e+00</td>\n",
       "      <td>-8.607197e-01</td>\n",
       "      <td>0.524620</td>\n",
       "      <td>0.793716</td>\n",
       "      <td>No</td>\n",
       "      <td>No</td>\n",
       "      <td>0</td>\n",
       "    </tr>\n",
       "  </tbody>\n",
       "</table>\n",
       "<p>1040 rows × 22 columns</p>\n",
       "</div>"
      ],
      "text/plain": [
       "       MinTemp   MaxTemp  Rainfall   Evaporation      Sunshine WindGustDir  \\\n",
       "0     0.656502 -0.351342  1.810998  2.756482e-16 -2.349590e-16           S   \n",
       "1     1.041761  0.451833  1.857185  3.039936e-01  1.159927e+00         WSW   \n",
       "2    -0.507424 -0.958935 -0.694282  2.756482e-16 -2.349590e-16         WNW   \n",
       "3     2.095096  1.537136 -0.041217  1.826794e-01 -2.183917e-01         SSE   \n",
       "4    -1.340833  0.035211 -0.694282  2.756482e-16 -2.349590e-16           N   \n",
       "...        ...       ...       ...           ...           ...         ...   \n",
       "1035 -0.857370 -1.488528  1.688862  2.756482e-16 -2.349590e-16         WNW   \n",
       "1036  2.493179  1.885951 -0.694282  9.572056e-01  1.219954e+00         WNW   \n",
       "1037  0.202027 -0.534460 -0.694282 -4.746466e-01 -1.246438e+00           E   \n",
       "1038  0.249465  0.536312 -0.694282  2.756482e-16 -2.349590e-16           E   \n",
       "1039  0.217851  0.841468 -0.694282  4.186236e-01  1.583899e+00         SSE   \n",
       "\n",
       "      WindGustSpeed WindDir9am WindDir3pm  WindSpeed9am  ...  Humidity3pm  \\\n",
       "0          1.544685        SSW         SW      2.442634  ...     1.934305   \n",
       "1          0.059860        SSW        WSW      0.794926  ...    -0.761588   \n",
       "2          1.168150        WNW        WNW      0.693755  ...    -0.508746   \n",
       "3          0.208773        SSE         SE     -0.208219  ...     0.377551   \n",
       "4         -0.892648         NE          W      0.036051  ...    -1.121876   \n",
       "...             ...        ...        ...           ...  ...          ...   \n",
       "1035       0.813201          W         NW      1.800227  ...     1.141359   \n",
       "1036      -0.427733        NNE        NNW      0.693755  ...    -1.018104   \n",
       "1037      -0.892648        ENE         NE      0.036051  ...     0.474111   \n",
       "1038      -0.095425          E        ESE      0.484930  ...    -1.069901   \n",
       "1039      -0.699185          E         SE     -0.907609  ...    -0.408525   \n",
       "\n",
       "       Pressure9am   Pressure3pm      Cloud9am      Cloud3pm   Temp9am  \\\n",
       "0     1.226448e-01  3.412276e-01 -1.241944e+00  1.252493e+00  0.123056   \n",
       "1    -1.651764e+00 -1.524783e+00  8.309664e-01 -1.265987e+00  0.888287   \n",
       "2    -4.550241e-17 -7.427743e-16 -1.398193e-16 -1.584439e-16 -0.586004   \n",
       "3    -1.024127e+00 -1.041904e+00  5.054857e-01  2.427855e-01  2.208499   \n",
       "4    -4.550241e-17 -7.427743e-16 -1.398193e-16 -1.584439e-16 -0.435408   \n",
       "...            ...           ...           ...           ...       ...   \n",
       "1035 -1.698350e+00 -1.374129e+00  8.309664e-01  1.252493e+00 -1.202671   \n",
       "1036 -9.112407e-01 -1.119283e+00 -5.108824e-01 -1.265987e+00  2.163348   \n",
       "1037  9.746950e-01  9.642436e-01  8.309664e-01  9.233732e-01 -0.023288   \n",
       "1038  1.095134e+00  8.464726e-01 -1.398193e-16 -1.265987e+00  0.556452   \n",
       "1039  1.087384e-01  8.762356e-02 -1.640239e+00 -8.607197e-01  0.524620   \n",
       "\n",
       "       Temp3pm  RainToday  RainTomorrow Label_raintomorrow  \n",
       "0    -0.872719        Yes           Yes                  1  \n",
       "1     0.563184        Yes            No                  0  \n",
       "2    -0.952249         No            No                  0  \n",
       "3     1.470187         No            No                  0  \n",
       "4    -0.026011         No            No                  0  \n",
       "...        ...        ...           ...                ...  \n",
       "1035 -1.324734        Yes            No                  0  \n",
       "1036  2.005209         No            No                  0  \n",
       "1037 -0.497302         No            No                  0  \n",
       "1038  0.678790         No            No                  0  \n",
       "1039  0.793716         No            No                  0  \n",
       "\n",
       "[1040 rows x 22 columns]"
      ]
     },
     "execution_count": 24,
     "metadata": {},
     "output_type": "execute_result"
    }
   ],
   "source": [
    "df1"
   ]
  },
  {
   "cell_type": "code",
   "execution_count": 25,
   "metadata": {},
   "outputs": [],
   "source": [
    "df1.drop(['RainTomorrow'],axis=1,inplace=True)"
   ]
  },
  {
   "cell_type": "code",
   "execution_count": 26,
   "metadata": {},
   "outputs": [
    {
     "data": {
      "text/html": [
       "<div>\n",
       "<style scoped>\n",
       "    .dataframe tbody tr th:only-of-type {\n",
       "        vertical-align: middle;\n",
       "    }\n",
       "\n",
       "    .dataframe tbody tr th {\n",
       "        vertical-align: top;\n",
       "    }\n",
       "\n",
       "    .dataframe thead th {\n",
       "        text-align: right;\n",
       "    }\n",
       "</style>\n",
       "<table border=\"1\" class=\"dataframe\">\n",
       "  <thead>\n",
       "    <tr style=\"text-align: right;\">\n",
       "      <th></th>\n",
       "      <th>MinTemp</th>\n",
       "      <th>MaxTemp</th>\n",
       "      <th>Rainfall</th>\n",
       "      <th>Evaporation</th>\n",
       "      <th>Sunshine</th>\n",
       "      <th>WindGustDir</th>\n",
       "      <th>WindGustSpeed</th>\n",
       "      <th>WindDir9am</th>\n",
       "      <th>WindDir3pm</th>\n",
       "      <th>WindSpeed9am</th>\n",
       "      <th>...</th>\n",
       "      <th>Humidity9am</th>\n",
       "      <th>Humidity3pm</th>\n",
       "      <th>Pressure9am</th>\n",
       "      <th>Pressure3pm</th>\n",
       "      <th>Cloud9am</th>\n",
       "      <th>Cloud3pm</th>\n",
       "      <th>Temp9am</th>\n",
       "      <th>Temp3pm</th>\n",
       "      <th>RainToday</th>\n",
       "      <th>Label_raintomorrow</th>\n",
       "    </tr>\n",
       "  </thead>\n",
       "  <tbody>\n",
       "    <tr>\n",
       "      <th>0</th>\n",
       "      <td>0.656502</td>\n",
       "      <td>-0.351342</td>\n",
       "      <td>1.810998</td>\n",
       "      <td>2.756482e-16</td>\n",
       "      <td>-2.349590e-16</td>\n",
       "      <td>S</td>\n",
       "      <td>1.544685</td>\n",
       "      <td>SSW</td>\n",
       "      <td>SW</td>\n",
       "      <td>2.442634</td>\n",
       "      <td>...</td>\n",
       "      <td>-0.095994</td>\n",
       "      <td>1.934305</td>\n",
       "      <td>1.226448e-01</td>\n",
       "      <td>3.412276e-01</td>\n",
       "      <td>-1.241944e+00</td>\n",
       "      <td>1.252493e+00</td>\n",
       "      <td>0.123056</td>\n",
       "      <td>-0.872719</td>\n",
       "      <td>Yes</td>\n",
       "      <td>1</td>\n",
       "    </tr>\n",
       "    <tr>\n",
       "      <th>1</th>\n",
       "      <td>1.041761</td>\n",
       "      <td>0.451833</td>\n",
       "      <td>1.857185</td>\n",
       "      <td>3.039936e-01</td>\n",
       "      <td>1.159927e+00</td>\n",
       "      <td>WSW</td>\n",
       "      <td>0.059860</td>\n",
       "      <td>SSW</td>\n",
       "      <td>WSW</td>\n",
       "      <td>0.794926</td>\n",
       "      <td>...</td>\n",
       "      <td>-0.589850</td>\n",
       "      <td>-0.761588</td>\n",
       "      <td>-1.651764e+00</td>\n",
       "      <td>-1.524783e+00</td>\n",
       "      <td>8.309664e-01</td>\n",
       "      <td>-1.265987e+00</td>\n",
       "      <td>0.888287</td>\n",
       "      <td>0.563184</td>\n",
       "      <td>Yes</td>\n",
       "      <td>0</td>\n",
       "    </tr>\n",
       "    <tr>\n",
       "      <th>2</th>\n",
       "      <td>-0.507424</td>\n",
       "      <td>-0.958935</td>\n",
       "      <td>-0.694282</td>\n",
       "      <td>2.756482e-16</td>\n",
       "      <td>-2.349590e-16</td>\n",
       "      <td>WNW</td>\n",
       "      <td>1.168150</td>\n",
       "      <td>WNW</td>\n",
       "      <td>WNW</td>\n",
       "      <td>0.693755</td>\n",
       "      <td>...</td>\n",
       "      <td>-1.519058</td>\n",
       "      <td>-0.508746</td>\n",
       "      <td>-4.550241e-17</td>\n",
       "      <td>-7.427743e-16</td>\n",
       "      <td>-1.398193e-16</td>\n",
       "      <td>-1.584439e-16</td>\n",
       "      <td>-0.586004</td>\n",
       "      <td>-0.952249</td>\n",
       "      <td>No</td>\n",
       "      <td>0</td>\n",
       "    </tr>\n",
       "    <tr>\n",
       "      <th>3</th>\n",
       "      <td>2.095096</td>\n",
       "      <td>1.537136</td>\n",
       "      <td>-0.041217</td>\n",
       "      <td>1.826794e-01</td>\n",
       "      <td>-2.183917e-01</td>\n",
       "      <td>SSE</td>\n",
       "      <td>0.208773</td>\n",
       "      <td>SSE</td>\n",
       "      <td>SE</td>\n",
       "      <td>-0.208219</td>\n",
       "      <td>...</td>\n",
       "      <td>-0.374334</td>\n",
       "      <td>0.377551</td>\n",
       "      <td>-1.024127e+00</td>\n",
       "      <td>-1.041904e+00</td>\n",
       "      <td>5.054857e-01</td>\n",
       "      <td>2.427855e-01</td>\n",
       "      <td>2.208499</td>\n",
       "      <td>1.470187</td>\n",
       "      <td>No</td>\n",
       "      <td>0</td>\n",
       "    </tr>\n",
       "    <tr>\n",
       "      <th>4</th>\n",
       "      <td>-1.340833</td>\n",
       "      <td>0.035211</td>\n",
       "      <td>-0.694282</td>\n",
       "      <td>2.756482e-16</td>\n",
       "      <td>-2.349590e-16</td>\n",
       "      <td>N</td>\n",
       "      <td>-0.892648</td>\n",
       "      <td>NE</td>\n",
       "      <td>W</td>\n",
       "      <td>0.036051</td>\n",
       "      <td>...</td>\n",
       "      <td>-0.798771</td>\n",
       "      <td>-1.121876</td>\n",
       "      <td>-4.550241e-17</td>\n",
       "      <td>-7.427743e-16</td>\n",
       "      <td>-1.398193e-16</td>\n",
       "      <td>-1.584439e-16</td>\n",
       "      <td>-0.435408</td>\n",
       "      <td>-0.026011</td>\n",
       "      <td>No</td>\n",
       "      <td>0</td>\n",
       "    </tr>\n",
       "    <tr>\n",
       "      <th>...</th>\n",
       "      <td>...</td>\n",
       "      <td>...</td>\n",
       "      <td>...</td>\n",
       "      <td>...</td>\n",
       "      <td>...</td>\n",
       "      <td>...</td>\n",
       "      <td>...</td>\n",
       "      <td>...</td>\n",
       "      <td>...</td>\n",
       "      <td>...</td>\n",
       "      <td>...</td>\n",
       "      <td>...</td>\n",
       "      <td>...</td>\n",
       "      <td>...</td>\n",
       "      <td>...</td>\n",
       "      <td>...</td>\n",
       "      <td>...</td>\n",
       "      <td>...</td>\n",
       "      <td>...</td>\n",
       "      <td>...</td>\n",
       "      <td>...</td>\n",
       "    </tr>\n",
       "    <tr>\n",
       "      <th>1035</th>\n",
       "      <td>-0.857370</td>\n",
       "      <td>-1.488528</td>\n",
       "      <td>1.688862</td>\n",
       "      <td>2.756482e-16</td>\n",
       "      <td>-2.349590e-16</td>\n",
       "      <td>WNW</td>\n",
       "      <td>0.813201</td>\n",
       "      <td>W</td>\n",
       "      <td>NW</td>\n",
       "      <td>1.800227</td>\n",
       "      <td>...</td>\n",
       "      <td>1.764397</td>\n",
       "      <td>1.141359</td>\n",
       "      <td>-1.698350e+00</td>\n",
       "      <td>-1.374129e+00</td>\n",
       "      <td>8.309664e-01</td>\n",
       "      <td>1.252493e+00</td>\n",
       "      <td>-1.202671</td>\n",
       "      <td>-1.324734</td>\n",
       "      <td>Yes</td>\n",
       "      <td>0</td>\n",
       "    </tr>\n",
       "    <tr>\n",
       "      <th>1036</th>\n",
       "      <td>2.493179</td>\n",
       "      <td>1.885951</td>\n",
       "      <td>-0.694282</td>\n",
       "      <td>9.572056e-01</td>\n",
       "      <td>1.219954e+00</td>\n",
       "      <td>WNW</td>\n",
       "      <td>-0.427733</td>\n",
       "      <td>NNE</td>\n",
       "      <td>NNW</td>\n",
       "      <td>0.693755</td>\n",
       "      <td>...</td>\n",
       "      <td>-0.374334</td>\n",
       "      <td>-1.018104</td>\n",
       "      <td>-9.112407e-01</td>\n",
       "      <td>-1.119283e+00</td>\n",
       "      <td>-5.108824e-01</td>\n",
       "      <td>-1.265987e+00</td>\n",
       "      <td>2.163348</td>\n",
       "      <td>2.005209</td>\n",
       "      <td>No</td>\n",
       "      <td>0</td>\n",
       "    </tr>\n",
       "    <tr>\n",
       "      <th>1037</th>\n",
       "      <td>0.202027</td>\n",
       "      <td>-0.534460</td>\n",
       "      <td>-0.694282</td>\n",
       "      <td>-4.746466e-01</td>\n",
       "      <td>-1.246438e+00</td>\n",
       "      <td>E</td>\n",
       "      <td>-0.892648</td>\n",
       "      <td>ENE</td>\n",
       "      <td>NE</td>\n",
       "      <td>0.036051</td>\n",
       "      <td>...</td>\n",
       "      <td>-0.428819</td>\n",
       "      <td>0.474111</td>\n",
       "      <td>9.746950e-01</td>\n",
       "      <td>9.642436e-01</td>\n",
       "      <td>8.309664e-01</td>\n",
       "      <td>9.233732e-01</td>\n",
       "      <td>-0.023288</td>\n",
       "      <td>-0.497302</td>\n",
       "      <td>No</td>\n",
       "      <td>0</td>\n",
       "    </tr>\n",
       "    <tr>\n",
       "      <th>1038</th>\n",
       "      <td>0.249465</td>\n",
       "      <td>0.536312</td>\n",
       "      <td>-0.694282</td>\n",
       "      <td>2.756482e-16</td>\n",
       "      <td>-2.349590e-16</td>\n",
       "      <td>E</td>\n",
       "      <td>-0.095425</td>\n",
       "      <td>E</td>\n",
       "      <td>ESE</td>\n",
       "      <td>0.484930</td>\n",
       "      <td>...</td>\n",
       "      <td>-0.900685</td>\n",
       "      <td>-1.069901</td>\n",
       "      <td>1.095134e+00</td>\n",
       "      <td>8.464726e-01</td>\n",
       "      <td>-1.398193e-16</td>\n",
       "      <td>-1.265987e+00</td>\n",
       "      <td>0.556452</td>\n",
       "      <td>0.678790</td>\n",
       "      <td>No</td>\n",
       "      <td>0</td>\n",
       "    </tr>\n",
       "    <tr>\n",
       "      <th>1039</th>\n",
       "      <td>0.217851</td>\n",
       "      <td>0.841468</td>\n",
       "      <td>-0.694282</td>\n",
       "      <td>4.186236e-01</td>\n",
       "      <td>1.583899e+00</td>\n",
       "      <td>SSE</td>\n",
       "      <td>-0.699185</td>\n",
       "      <td>E</td>\n",
       "      <td>SE</td>\n",
       "      <td>-0.907609</td>\n",
       "      <td>...</td>\n",
       "      <td>0.075633</td>\n",
       "      <td>-0.408525</td>\n",
       "      <td>1.087384e-01</td>\n",
       "      <td>8.762356e-02</td>\n",
       "      <td>-1.640239e+00</td>\n",
       "      <td>-8.607197e-01</td>\n",
       "      <td>0.524620</td>\n",
       "      <td>0.793716</td>\n",
       "      <td>No</td>\n",
       "      <td>0</td>\n",
       "    </tr>\n",
       "  </tbody>\n",
       "</table>\n",
       "<p>1040 rows × 21 columns</p>\n",
       "</div>"
      ],
      "text/plain": [
       "       MinTemp   MaxTemp  Rainfall   Evaporation      Sunshine WindGustDir  \\\n",
       "0     0.656502 -0.351342  1.810998  2.756482e-16 -2.349590e-16           S   \n",
       "1     1.041761  0.451833  1.857185  3.039936e-01  1.159927e+00         WSW   \n",
       "2    -0.507424 -0.958935 -0.694282  2.756482e-16 -2.349590e-16         WNW   \n",
       "3     2.095096  1.537136 -0.041217  1.826794e-01 -2.183917e-01         SSE   \n",
       "4    -1.340833  0.035211 -0.694282  2.756482e-16 -2.349590e-16           N   \n",
       "...        ...       ...       ...           ...           ...         ...   \n",
       "1035 -0.857370 -1.488528  1.688862  2.756482e-16 -2.349590e-16         WNW   \n",
       "1036  2.493179  1.885951 -0.694282  9.572056e-01  1.219954e+00         WNW   \n",
       "1037  0.202027 -0.534460 -0.694282 -4.746466e-01 -1.246438e+00           E   \n",
       "1038  0.249465  0.536312 -0.694282  2.756482e-16 -2.349590e-16           E   \n",
       "1039  0.217851  0.841468 -0.694282  4.186236e-01  1.583899e+00         SSE   \n",
       "\n",
       "      WindGustSpeed WindDir9am WindDir3pm  WindSpeed9am  ...  Humidity9am  \\\n",
       "0          1.544685        SSW         SW      2.442634  ...    -0.095994   \n",
       "1          0.059860        SSW        WSW      0.794926  ...    -0.589850   \n",
       "2          1.168150        WNW        WNW      0.693755  ...    -1.519058   \n",
       "3          0.208773        SSE         SE     -0.208219  ...    -0.374334   \n",
       "4         -0.892648         NE          W      0.036051  ...    -0.798771   \n",
       "...             ...        ...        ...           ...  ...          ...   \n",
       "1035       0.813201          W         NW      1.800227  ...     1.764397   \n",
       "1036      -0.427733        NNE        NNW      0.693755  ...    -0.374334   \n",
       "1037      -0.892648        ENE         NE      0.036051  ...    -0.428819   \n",
       "1038      -0.095425          E        ESE      0.484930  ...    -0.900685   \n",
       "1039      -0.699185          E         SE     -0.907609  ...     0.075633   \n",
       "\n",
       "      Humidity3pm   Pressure9am   Pressure3pm      Cloud9am      Cloud3pm  \\\n",
       "0        1.934305  1.226448e-01  3.412276e-01 -1.241944e+00  1.252493e+00   \n",
       "1       -0.761588 -1.651764e+00 -1.524783e+00  8.309664e-01 -1.265987e+00   \n",
       "2       -0.508746 -4.550241e-17 -7.427743e-16 -1.398193e-16 -1.584439e-16   \n",
       "3        0.377551 -1.024127e+00 -1.041904e+00  5.054857e-01  2.427855e-01   \n",
       "4       -1.121876 -4.550241e-17 -7.427743e-16 -1.398193e-16 -1.584439e-16   \n",
       "...           ...           ...           ...           ...           ...   \n",
       "1035     1.141359 -1.698350e+00 -1.374129e+00  8.309664e-01  1.252493e+00   \n",
       "1036    -1.018104 -9.112407e-01 -1.119283e+00 -5.108824e-01 -1.265987e+00   \n",
       "1037     0.474111  9.746950e-01  9.642436e-01  8.309664e-01  9.233732e-01   \n",
       "1038    -1.069901  1.095134e+00  8.464726e-01 -1.398193e-16 -1.265987e+00   \n",
       "1039    -0.408525  1.087384e-01  8.762356e-02 -1.640239e+00 -8.607197e-01   \n",
       "\n",
       "       Temp9am   Temp3pm  RainToday Label_raintomorrow  \n",
       "0     0.123056 -0.872719        Yes                  1  \n",
       "1     0.888287  0.563184        Yes                  0  \n",
       "2    -0.586004 -0.952249         No                  0  \n",
       "3     2.208499  1.470187         No                  0  \n",
       "4    -0.435408 -0.026011         No                  0  \n",
       "...        ...       ...        ...                ...  \n",
       "1035 -1.202671 -1.324734        Yes                  0  \n",
       "1036  2.163348  2.005209         No                  0  \n",
       "1037 -0.023288 -0.497302         No                  0  \n",
       "1038  0.556452  0.678790         No                  0  \n",
       "1039  0.524620  0.793716         No                  0  \n",
       "\n",
       "[1040 rows x 21 columns]"
      ]
     },
     "execution_count": 26,
     "metadata": {},
     "output_type": "execute_result"
    }
   ],
   "source": [
    "df1"
   ]
  },
  {
   "cell_type": "code",
   "execution_count": 27,
   "metadata": {},
   "outputs": [],
   "source": [
    "# store the target variable 'Rain Tomorrow' in a dataframe 'df_target'\n",
    "df_target = df1['Label_raintomorrow']\n",
    "\n",
    "# store all the independent variables in a dataframe 'df_feature' \n",
    "# drop the column 'Chance of Admit' using drop()\n",
    "# 'axis = 1' drops the specified column\n",
    "df_feature = df1.drop('Label_raintomorrow', axis = 1)"
   ]
  },
  {
   "cell_type": "markdown",
   "metadata": {},
   "source": [
    "#### Filter numerical and categorical variables."
   ]
  },
  {
   "cell_type": "code",
   "execution_count": 28,
   "metadata": {},
   "outputs": [
    {
     "data": {
      "text/plain": [
       "Index(['MinTemp', 'MaxTemp', 'Rainfall', 'Evaporation', 'Sunshine',\n",
       "       'WindGustSpeed', 'WindSpeed9am', 'WindSpeed3pm', 'Humidity9am',\n",
       "       'Humidity3pm', 'Pressure9am', 'Pressure3pm', 'Cloud9am', 'Cloud3pm',\n",
       "       'Temp9am', 'Temp3pm'],\n",
       "      dtype='object')"
      ]
     },
     "execution_count": 28,
     "metadata": {},
     "output_type": "execute_result"
    }
   ],
   "source": [
    "# filter the numerical features in the dataset\n",
    "# 'select_dtypes' is used to select the variables with given data type\n",
    "# 'include = [np.number]' will include all the numerical variables\n",
    "df_num = df_feature.select_dtypes(include = [np.number])\n",
    "\n",
    "# display numerical features\n",
    "df_num.columns"
   ]
  },
  {
   "cell_type": "code",
   "execution_count": 29,
   "metadata": {},
   "outputs": [
    {
     "data": {
      "text/plain": [
       "Index(['WindGustDir', 'WindDir9am', 'WindDir3pm', 'RainToday'], dtype='object')"
      ]
     },
     "execution_count": 29,
     "metadata": {},
     "output_type": "execute_result"
    }
   ],
   "source": [
    "# filter the categorical features in the dataset\n",
    "# 'select_dtypes' is used to select the variables with given data type\n",
    "# 'include = [np.object]' will include all the categorical variables\n",
    "df_cat = df_feature.select_dtypes(include = [np.object])\n",
    "\n",
    "# display categorical features\n",
    "df_cat.columns"
   ]
  },
  {
   "cell_type": "markdown",
   "metadata": {},
   "source": [
    "The logistic regression method fails in presence of categorical variables. To overcome this we use (n-1) dummy encoding. \n",
    "\n",
    "**Encode the each categorical variable and create (n-1) dummy variables for n categories of the variable.**"
   ]
  },
  {
   "cell_type": "code",
   "execution_count": 30,
   "metadata": {},
   "outputs": [],
   "source": [
    "# use 'get_dummies' from pandas to create dummy variables\n",
    "# use 'drop_first' to create (n-1) dummy variables\n",
    "dummy_var = pd.get_dummies(data = df_cat, drop_first = True)"
   ]
  },
  {
   "cell_type": "code",
   "execution_count": 31,
   "metadata": {},
   "outputs": [
    {
     "data": {
      "text/html": [
       "<div>\n",
       "<style scoped>\n",
       "    .dataframe tbody tr th:only-of-type {\n",
       "        vertical-align: middle;\n",
       "    }\n",
       "\n",
       "    .dataframe tbody tr th {\n",
       "        vertical-align: top;\n",
       "    }\n",
       "\n",
       "    .dataframe thead th {\n",
       "        text-align: right;\n",
       "    }\n",
       "</style>\n",
       "<table border=\"1\" class=\"dataframe\">\n",
       "  <thead>\n",
       "    <tr style=\"text-align: right;\">\n",
       "      <th></th>\n",
       "      <th>WindGustDir_ENE</th>\n",
       "      <th>WindGustDir_ESE</th>\n",
       "      <th>WindGustDir_N</th>\n",
       "      <th>WindGustDir_NE</th>\n",
       "      <th>WindGustDir_NNE</th>\n",
       "      <th>WindGustDir_NNW</th>\n",
       "      <th>WindGustDir_NW</th>\n",
       "      <th>WindGustDir_S</th>\n",
       "      <th>WindGustDir_SE</th>\n",
       "      <th>WindGustDir_SSE</th>\n",
       "      <th>...</th>\n",
       "      <th>WindDir3pm_NW</th>\n",
       "      <th>WindDir3pm_S</th>\n",
       "      <th>WindDir3pm_SE</th>\n",
       "      <th>WindDir3pm_SSE</th>\n",
       "      <th>WindDir3pm_SSW</th>\n",
       "      <th>WindDir3pm_SW</th>\n",
       "      <th>WindDir3pm_W</th>\n",
       "      <th>WindDir3pm_WNW</th>\n",
       "      <th>WindDir3pm_WSW</th>\n",
       "      <th>RainToday_Yes</th>\n",
       "    </tr>\n",
       "  </thead>\n",
       "  <tbody>\n",
       "    <tr>\n",
       "      <th>0</th>\n",
       "      <td>0</td>\n",
       "      <td>0</td>\n",
       "      <td>0</td>\n",
       "      <td>0</td>\n",
       "      <td>0</td>\n",
       "      <td>0</td>\n",
       "      <td>0</td>\n",
       "      <td>1</td>\n",
       "      <td>0</td>\n",
       "      <td>0</td>\n",
       "      <td>...</td>\n",
       "      <td>0</td>\n",
       "      <td>0</td>\n",
       "      <td>0</td>\n",
       "      <td>0</td>\n",
       "      <td>0</td>\n",
       "      <td>1</td>\n",
       "      <td>0</td>\n",
       "      <td>0</td>\n",
       "      <td>0</td>\n",
       "      <td>1</td>\n",
       "    </tr>\n",
       "    <tr>\n",
       "      <th>1</th>\n",
       "      <td>0</td>\n",
       "      <td>0</td>\n",
       "      <td>0</td>\n",
       "      <td>0</td>\n",
       "      <td>0</td>\n",
       "      <td>0</td>\n",
       "      <td>0</td>\n",
       "      <td>0</td>\n",
       "      <td>0</td>\n",
       "      <td>0</td>\n",
       "      <td>...</td>\n",
       "      <td>0</td>\n",
       "      <td>0</td>\n",
       "      <td>0</td>\n",
       "      <td>0</td>\n",
       "      <td>0</td>\n",
       "      <td>0</td>\n",
       "      <td>0</td>\n",
       "      <td>0</td>\n",
       "      <td>1</td>\n",
       "      <td>1</td>\n",
       "    </tr>\n",
       "    <tr>\n",
       "      <th>2</th>\n",
       "      <td>0</td>\n",
       "      <td>0</td>\n",
       "      <td>0</td>\n",
       "      <td>0</td>\n",
       "      <td>0</td>\n",
       "      <td>0</td>\n",
       "      <td>0</td>\n",
       "      <td>0</td>\n",
       "      <td>0</td>\n",
       "      <td>0</td>\n",
       "      <td>...</td>\n",
       "      <td>0</td>\n",
       "      <td>0</td>\n",
       "      <td>0</td>\n",
       "      <td>0</td>\n",
       "      <td>0</td>\n",
       "      <td>0</td>\n",
       "      <td>0</td>\n",
       "      <td>1</td>\n",
       "      <td>0</td>\n",
       "      <td>0</td>\n",
       "    </tr>\n",
       "    <tr>\n",
       "      <th>3</th>\n",
       "      <td>0</td>\n",
       "      <td>0</td>\n",
       "      <td>0</td>\n",
       "      <td>0</td>\n",
       "      <td>0</td>\n",
       "      <td>0</td>\n",
       "      <td>0</td>\n",
       "      <td>0</td>\n",
       "      <td>0</td>\n",
       "      <td>1</td>\n",
       "      <td>...</td>\n",
       "      <td>0</td>\n",
       "      <td>0</td>\n",
       "      <td>1</td>\n",
       "      <td>0</td>\n",
       "      <td>0</td>\n",
       "      <td>0</td>\n",
       "      <td>0</td>\n",
       "      <td>0</td>\n",
       "      <td>0</td>\n",
       "      <td>0</td>\n",
       "    </tr>\n",
       "    <tr>\n",
       "      <th>4</th>\n",
       "      <td>0</td>\n",
       "      <td>0</td>\n",
       "      <td>1</td>\n",
       "      <td>0</td>\n",
       "      <td>0</td>\n",
       "      <td>0</td>\n",
       "      <td>0</td>\n",
       "      <td>0</td>\n",
       "      <td>0</td>\n",
       "      <td>0</td>\n",
       "      <td>...</td>\n",
       "      <td>0</td>\n",
       "      <td>0</td>\n",
       "      <td>0</td>\n",
       "      <td>0</td>\n",
       "      <td>0</td>\n",
       "      <td>0</td>\n",
       "      <td>1</td>\n",
       "      <td>0</td>\n",
       "      <td>0</td>\n",
       "      <td>0</td>\n",
       "    </tr>\n",
       "    <tr>\n",
       "      <th>...</th>\n",
       "      <td>...</td>\n",
       "      <td>...</td>\n",
       "      <td>...</td>\n",
       "      <td>...</td>\n",
       "      <td>...</td>\n",
       "      <td>...</td>\n",
       "      <td>...</td>\n",
       "      <td>...</td>\n",
       "      <td>...</td>\n",
       "      <td>...</td>\n",
       "      <td>...</td>\n",
       "      <td>...</td>\n",
       "      <td>...</td>\n",
       "      <td>...</td>\n",
       "      <td>...</td>\n",
       "      <td>...</td>\n",
       "      <td>...</td>\n",
       "      <td>...</td>\n",
       "      <td>...</td>\n",
       "      <td>...</td>\n",
       "      <td>...</td>\n",
       "    </tr>\n",
       "    <tr>\n",
       "      <th>1035</th>\n",
       "      <td>0</td>\n",
       "      <td>0</td>\n",
       "      <td>0</td>\n",
       "      <td>0</td>\n",
       "      <td>0</td>\n",
       "      <td>0</td>\n",
       "      <td>0</td>\n",
       "      <td>0</td>\n",
       "      <td>0</td>\n",
       "      <td>0</td>\n",
       "      <td>...</td>\n",
       "      <td>1</td>\n",
       "      <td>0</td>\n",
       "      <td>0</td>\n",
       "      <td>0</td>\n",
       "      <td>0</td>\n",
       "      <td>0</td>\n",
       "      <td>0</td>\n",
       "      <td>0</td>\n",
       "      <td>0</td>\n",
       "      <td>1</td>\n",
       "    </tr>\n",
       "    <tr>\n",
       "      <th>1036</th>\n",
       "      <td>0</td>\n",
       "      <td>0</td>\n",
       "      <td>0</td>\n",
       "      <td>0</td>\n",
       "      <td>0</td>\n",
       "      <td>0</td>\n",
       "      <td>0</td>\n",
       "      <td>0</td>\n",
       "      <td>0</td>\n",
       "      <td>0</td>\n",
       "      <td>...</td>\n",
       "      <td>0</td>\n",
       "      <td>0</td>\n",
       "      <td>0</td>\n",
       "      <td>0</td>\n",
       "      <td>0</td>\n",
       "      <td>0</td>\n",
       "      <td>0</td>\n",
       "      <td>0</td>\n",
       "      <td>0</td>\n",
       "      <td>0</td>\n",
       "    </tr>\n",
       "    <tr>\n",
       "      <th>1037</th>\n",
       "      <td>0</td>\n",
       "      <td>0</td>\n",
       "      <td>0</td>\n",
       "      <td>0</td>\n",
       "      <td>0</td>\n",
       "      <td>0</td>\n",
       "      <td>0</td>\n",
       "      <td>0</td>\n",
       "      <td>0</td>\n",
       "      <td>0</td>\n",
       "      <td>...</td>\n",
       "      <td>0</td>\n",
       "      <td>0</td>\n",
       "      <td>0</td>\n",
       "      <td>0</td>\n",
       "      <td>0</td>\n",
       "      <td>0</td>\n",
       "      <td>0</td>\n",
       "      <td>0</td>\n",
       "      <td>0</td>\n",
       "      <td>0</td>\n",
       "    </tr>\n",
       "    <tr>\n",
       "      <th>1038</th>\n",
       "      <td>0</td>\n",
       "      <td>0</td>\n",
       "      <td>0</td>\n",
       "      <td>0</td>\n",
       "      <td>0</td>\n",
       "      <td>0</td>\n",
       "      <td>0</td>\n",
       "      <td>0</td>\n",
       "      <td>0</td>\n",
       "      <td>0</td>\n",
       "      <td>...</td>\n",
       "      <td>0</td>\n",
       "      <td>0</td>\n",
       "      <td>0</td>\n",
       "      <td>0</td>\n",
       "      <td>0</td>\n",
       "      <td>0</td>\n",
       "      <td>0</td>\n",
       "      <td>0</td>\n",
       "      <td>0</td>\n",
       "      <td>0</td>\n",
       "    </tr>\n",
       "    <tr>\n",
       "      <th>1039</th>\n",
       "      <td>0</td>\n",
       "      <td>0</td>\n",
       "      <td>0</td>\n",
       "      <td>0</td>\n",
       "      <td>0</td>\n",
       "      <td>0</td>\n",
       "      <td>0</td>\n",
       "      <td>0</td>\n",
       "      <td>0</td>\n",
       "      <td>1</td>\n",
       "      <td>...</td>\n",
       "      <td>0</td>\n",
       "      <td>0</td>\n",
       "      <td>1</td>\n",
       "      <td>0</td>\n",
       "      <td>0</td>\n",
       "      <td>0</td>\n",
       "      <td>0</td>\n",
       "      <td>0</td>\n",
       "      <td>0</td>\n",
       "      <td>0</td>\n",
       "    </tr>\n",
       "  </tbody>\n",
       "</table>\n",
       "<p>1040 rows × 46 columns</p>\n",
       "</div>"
      ],
      "text/plain": [
       "      WindGustDir_ENE  WindGustDir_ESE  WindGustDir_N  WindGustDir_NE  \\\n",
       "0                   0                0              0               0   \n",
       "1                   0                0              0               0   \n",
       "2                   0                0              0               0   \n",
       "3                   0                0              0               0   \n",
       "4                   0                0              1               0   \n",
       "...               ...              ...            ...             ...   \n",
       "1035                0                0              0               0   \n",
       "1036                0                0              0               0   \n",
       "1037                0                0              0               0   \n",
       "1038                0                0              0               0   \n",
       "1039                0                0              0               0   \n",
       "\n",
       "      WindGustDir_NNE  WindGustDir_NNW  WindGustDir_NW  WindGustDir_S  \\\n",
       "0                   0                0               0              1   \n",
       "1                   0                0               0              0   \n",
       "2                   0                0               0              0   \n",
       "3                   0                0               0              0   \n",
       "4                   0                0               0              0   \n",
       "...               ...              ...             ...            ...   \n",
       "1035                0                0               0              0   \n",
       "1036                0                0               0              0   \n",
       "1037                0                0               0              0   \n",
       "1038                0                0               0              0   \n",
       "1039                0                0               0              0   \n",
       "\n",
       "      WindGustDir_SE  WindGustDir_SSE  ...  WindDir3pm_NW  WindDir3pm_S  \\\n",
       "0                  0                0  ...              0             0   \n",
       "1                  0                0  ...              0             0   \n",
       "2                  0                0  ...              0             0   \n",
       "3                  0                1  ...              0             0   \n",
       "4                  0                0  ...              0             0   \n",
       "...              ...              ...  ...            ...           ...   \n",
       "1035               0                0  ...              1             0   \n",
       "1036               0                0  ...              0             0   \n",
       "1037               0                0  ...              0             0   \n",
       "1038               0                0  ...              0             0   \n",
       "1039               0                1  ...              0             0   \n",
       "\n",
       "      WindDir3pm_SE  WindDir3pm_SSE  WindDir3pm_SSW  WindDir3pm_SW  \\\n",
       "0                 0               0               0              1   \n",
       "1                 0               0               0              0   \n",
       "2                 0               0               0              0   \n",
       "3                 1               0               0              0   \n",
       "4                 0               0               0              0   \n",
       "...             ...             ...             ...            ...   \n",
       "1035              0               0               0              0   \n",
       "1036              0               0               0              0   \n",
       "1037              0               0               0              0   \n",
       "1038              0               0               0              0   \n",
       "1039              1               0               0              0   \n",
       "\n",
       "      WindDir3pm_W  WindDir3pm_WNW  WindDir3pm_WSW  RainToday_Yes  \n",
       "0                0               0               0              1  \n",
       "1                0               0               1              1  \n",
       "2                0               1               0              0  \n",
       "3                0               0               0              0  \n",
       "4                1               0               0              0  \n",
       "...            ...             ...             ...            ...  \n",
       "1035             0               0               0              1  \n",
       "1036             0               0               0              0  \n",
       "1037             0               0               0              0  \n",
       "1038             0               0               0              0  \n",
       "1039             0               0               0              0  \n",
       "\n",
       "[1040 rows x 46 columns]"
      ]
     },
     "execution_count": 31,
     "metadata": {},
     "output_type": "execute_result"
    }
   ],
   "source": [
    "dummy_var"
   ]
  },
  {
   "cell_type": "markdown",
   "metadata": {},
   "source": [
    "# Inference:\n",
    "- <b>Split the dependent and independent variables:</b><br>\n",
    "i) df_target = df1['Label_raintomorrow']  - df_target dataframe contains the dependent variable. The dependent variable in \"Raintomorrow\" and we have done label encoding for target variable and we stored it in df_target dataframe.<br>\n",
    "ii) df_feature = df1.drop('Label_raintomorrow', axis = 1) - df_feature contains the independent variable. 'df1' dataframe contains both dependent and independent variable. we used 'drop' function to drop only the dependent variabe(\"raintomorrow\") from df1 and stored its results in 'df_feature'. 'df_feature' dataframe contains only independent variable.<br>\n",
    "\n",
    "- <b> Filter numerical and categorical variables.</b>:<br>\n",
    "i) df_num = df_feature.select_dtypes(include = [np.number]) -  select_dtype() is function is used to select the particular datatype columns from dataframe. Here, we selected only the\"numerical\" column by passing \"np.number\" to the include parameter.<br>\n",
    "ii) df_cat = df_feature.select_dtypes(include = [np.object]) -  select_dtype() is function is used to select the particular datatype columns from dataframe. Here, we selected only the\"categorical\" column by passing \"np.object\" to the include parameter.<br>\n",
    "\n",
    "- <b> Encode the each categorical variable and create (n-1) dummy variables for n categories of the variable.</b>:\n",
    "The logistic Regression model cannot be built with categorical columns without encoding. The encoding plays major role in building the model. Here, we encoded all 4 categorical columns. The n-1 dummy encoding is used to enccode the ccategorical variable present in the Rainfall prediction. A dummy variable is assigned a value of 1 if a particular condition is met and a value of 0 otherwise. The number of dummy variables for n different classes must equal n-1.\n",
    "\n",
    "\n"
   ]
  },
  {
   "cell_type": "markdown",
   "metadata": {},
   "source": [
    "<a id=\"scale\"></a>\n",
    "## 2.7 Scale the Data "
   ]
  },
  {
   "cell_type": "markdown",
   "metadata": {},
   "source": [
    "We scale the variables to get all the variables in the same range. With this, we can avoid a problem in which some features come to dominate solely because they tend to have larger values than others."
   ]
  },
  {
   "cell_type": "code",
   "execution_count": 32,
   "metadata": {},
   "outputs": [],
   "source": [
    "# initialize the standard scalar\n",
    "X_scaler = StandardScaler()\n",
    "\n",
    "# scale all the numerical columns\n",
    "# standardize all the columns of the dataframe 'df_num'\n",
    "num_scaled = X_scaler.fit_transform(df_num)\n",
    "\n",
    "# create a dataframe of scaled numerical variables\n",
    "# pass the required column names to the parameter 'columns'\n",
    "df_num_scaled = pd.DataFrame(num_scaled, columns = df_num.columns)"
   ]
  },
  {
   "cell_type": "markdown",
   "metadata": {},
   "source": [
    "#### Concatenate scaled numerical and dummy encoded categorical variables."
   ]
  },
  {
   "cell_type": "code",
   "execution_count": 33,
   "metadata": {},
   "outputs": [
    {
     "data": {
      "text/html": [
       "<div>\n",
       "<style scoped>\n",
       "    .dataframe tbody tr th:only-of-type {\n",
       "        vertical-align: middle;\n",
       "    }\n",
       "\n",
       "    .dataframe tbody tr th {\n",
       "        vertical-align: top;\n",
       "    }\n",
       "\n",
       "    .dataframe thead th {\n",
       "        text-align: right;\n",
       "    }\n",
       "</style>\n",
       "<table border=\"1\" class=\"dataframe\">\n",
       "  <thead>\n",
       "    <tr style=\"text-align: right;\">\n",
       "      <th></th>\n",
       "      <th>MinTemp</th>\n",
       "      <th>MaxTemp</th>\n",
       "      <th>Rainfall</th>\n",
       "      <th>Evaporation</th>\n",
       "      <th>Sunshine</th>\n",
       "      <th>WindGustSpeed</th>\n",
       "      <th>WindSpeed9am</th>\n",
       "      <th>WindSpeed3pm</th>\n",
       "      <th>Humidity9am</th>\n",
       "      <th>Humidity3pm</th>\n",
       "      <th>...</th>\n",
       "      <th>WindDir3pm_NW</th>\n",
       "      <th>WindDir3pm_S</th>\n",
       "      <th>WindDir3pm_SE</th>\n",
       "      <th>WindDir3pm_SSE</th>\n",
       "      <th>WindDir3pm_SSW</th>\n",
       "      <th>WindDir3pm_SW</th>\n",
       "      <th>WindDir3pm_W</th>\n",
       "      <th>WindDir3pm_WNW</th>\n",
       "      <th>WindDir3pm_WSW</th>\n",
       "      <th>RainToday_Yes</th>\n",
       "    </tr>\n",
       "  </thead>\n",
       "  <tbody>\n",
       "    <tr>\n",
       "      <th>0</th>\n",
       "      <td>0.658086</td>\n",
       "      <td>-0.352190</td>\n",
       "      <td>1.820652</td>\n",
       "      <td>3.158093e-18</td>\n",
       "      <td>-1.454809e-19</td>\n",
       "      <td>1.600276</td>\n",
       "      <td>2.452083</td>\n",
       "      <td>0.258458</td>\n",
       "      <td>-0.096412</td>\n",
       "      <td>1.957018</td>\n",
       "      <td>...</td>\n",
       "      <td>0</td>\n",
       "      <td>0</td>\n",
       "      <td>0</td>\n",
       "      <td>0</td>\n",
       "      <td>0</td>\n",
       "      <td>1</td>\n",
       "      <td>0</td>\n",
       "      <td>0</td>\n",
       "      <td>0</td>\n",
       "      <td>1</td>\n",
       "    </tr>\n",
       "    <tr>\n",
       "      <th>1</th>\n",
       "      <td>1.044274</td>\n",
       "      <td>0.452923</td>\n",
       "      <td>1.867085</td>\n",
       "      <td>4.063681e-01</td>\n",
       "      <td>1.620256e+00</td>\n",
       "      <td>0.062014</td>\n",
       "      <td>0.798001</td>\n",
       "      <td>0.483932</td>\n",
       "      <td>-0.592418</td>\n",
       "      <td>-0.770531</td>\n",
       "      <td>...</td>\n",
       "      <td>0</td>\n",
       "      <td>0</td>\n",
       "      <td>0</td>\n",
       "      <td>0</td>\n",
       "      <td>0</td>\n",
       "      <td>0</td>\n",
       "      <td>0</td>\n",
       "      <td>0</td>\n",
       "      <td>1</td>\n",
       "      <td>1</td>\n",
       "    </tr>\n",
       "    <tr>\n",
       "      <th>2</th>\n",
       "      <td>-0.508648</td>\n",
       "      <td>-0.961248</td>\n",
       "      <td>-0.697983</td>\n",
       "      <td>3.158093e-18</td>\n",
       "      <td>-1.454809e-19</td>\n",
       "      <td>1.210190</td>\n",
       "      <td>0.696439</td>\n",
       "      <td>0.483932</td>\n",
       "      <td>-1.525674</td>\n",
       "      <td>-0.514719</td>\n",
       "      <td>...</td>\n",
       "      <td>0</td>\n",
       "      <td>0</td>\n",
       "      <td>0</td>\n",
       "      <td>0</td>\n",
       "      <td>0</td>\n",
       "      <td>0</td>\n",
       "      <td>0</td>\n",
       "      <td>1</td>\n",
       "      <td>0</td>\n",
       "      <td>0</td>\n",
       "    </tr>\n",
       "    <tr>\n",
       "      <th>3</th>\n",
       "      <td>2.100151</td>\n",
       "      <td>1.540844</td>\n",
       "      <td>-0.041437</td>\n",
       "      <td>2.441994e-01</td>\n",
       "      <td>-3.050628e-01</td>\n",
       "      <td>0.216286</td>\n",
       "      <td>-0.209024</td>\n",
       "      <td>0.143141</td>\n",
       "      <td>-0.375964</td>\n",
       "      <td>0.381984</td>\n",
       "      <td>...</td>\n",
       "      <td>0</td>\n",
       "      <td>0</td>\n",
       "      <td>1</td>\n",
       "      <td>0</td>\n",
       "      <td>0</td>\n",
       "      <td>0</td>\n",
       "      <td>0</td>\n",
       "      <td>0</td>\n",
       "      <td>0</td>\n",
       "      <td>0</td>\n",
       "    </tr>\n",
       "    <tr>\n",
       "      <th>4</th>\n",
       "      <td>-1.344068</td>\n",
       "      <td>0.035296</td>\n",
       "      <td>-0.697983</td>\n",
       "      <td>3.158093e-18</td>\n",
       "      <td>-1.454809e-19</td>\n",
       "      <td>-0.924773</td>\n",
       "      <td>0.036190</td>\n",
       "      <td>-1.443331</td>\n",
       "      <td>-0.802250</td>\n",
       "      <td>-1.135049</td>\n",
       "      <td>...</td>\n",
       "      <td>0</td>\n",
       "      <td>0</td>\n",
       "      <td>0</td>\n",
       "      <td>0</td>\n",
       "      <td>0</td>\n",
       "      <td>0</td>\n",
       "      <td>1</td>\n",
       "      <td>0</td>\n",
       "      <td>0</td>\n",
       "      <td>0</td>\n",
       "    </tr>\n",
       "  </tbody>\n",
       "</table>\n",
       "<p>5 rows × 62 columns</p>\n",
       "</div>"
      ],
      "text/plain": [
       "    MinTemp   MaxTemp  Rainfall   Evaporation      Sunshine  WindGustSpeed  \\\n",
       "0  0.658086 -0.352190  1.820652  3.158093e-18 -1.454809e-19       1.600276   \n",
       "1  1.044274  0.452923  1.867085  4.063681e-01  1.620256e+00       0.062014   \n",
       "2 -0.508648 -0.961248 -0.697983  3.158093e-18 -1.454809e-19       1.210190   \n",
       "3  2.100151  1.540844 -0.041437  2.441994e-01 -3.050628e-01       0.216286   \n",
       "4 -1.344068  0.035296 -0.697983  3.158093e-18 -1.454809e-19      -0.924773   \n",
       "\n",
       "   WindSpeed9am  WindSpeed3pm  Humidity9am  Humidity3pm  ...  WindDir3pm_NW  \\\n",
       "0      2.452083      0.258458    -0.096412     1.957018  ...              0   \n",
       "1      0.798001      0.483932    -0.592418    -0.770531  ...              0   \n",
       "2      0.696439      0.483932    -1.525674    -0.514719  ...              0   \n",
       "3     -0.209024      0.143141    -0.375964     0.381984  ...              0   \n",
       "4      0.036190     -1.443331    -0.802250    -1.135049  ...              0   \n",
       "\n",
       "   WindDir3pm_S  WindDir3pm_SE  WindDir3pm_SSE  WindDir3pm_SSW  WindDir3pm_SW  \\\n",
       "0             0              0               0               0              1   \n",
       "1             0              0               0               0              0   \n",
       "2             0              0               0               0              0   \n",
       "3             0              1               0               0              0   \n",
       "4             0              0               0               0              0   \n",
       "\n",
       "   WindDir3pm_W  WindDir3pm_WNW  WindDir3pm_WSW  RainToday_Yes  \n",
       "0             0               0               0              1  \n",
       "1             0               0               1              1  \n",
       "2             0               1               0              0  \n",
       "3             0               0               0              0  \n",
       "4             1               0               0              0  \n",
       "\n",
       "[5 rows x 62 columns]"
      ]
     },
     "execution_count": 33,
     "metadata": {},
     "output_type": "execute_result"
    }
   ],
   "source": [
    "# concat the dummy variables with numeric features to create a dataframe of all independent variables\n",
    "# 'axis=1' concats the dataframes along columns \n",
    "X = pd.concat([df_num_scaled, dummy_var], axis = 1)\n",
    "\n",
    "# display first five observations\n",
    "X.head()"
   ]
  },
  {
   "cell_type": "markdown",
   "metadata": {},
   "source": [
    "# Inference:\n",
    "\n",
    "- <b>Scale the Data</b><br>\n",
    "i) We scale the variables to get all the variables in the same range. With this, we can avoid a problem in which some features come to dominate solely because they tend to have larger values than others.<br>\n",
    "ii) Here, we used standard scalar to scale all numerical variables. Standard scalar transforms the data and replaces the values by their z-score,, with mean=0 and Standard deviation=1<br>\n",
    "iii) Standard scalar is available in the sklearn.preprocessing libarary<br>\n",
    "iv) X_scaler = StandardScaler() num_scaled = X_scaler.fit_transform(df_num) - we sccale numerical columns present 'df_num\" dataframe and store the scaled data in 'df_num_scaled'<br>.\n",
    "\n",
    "- <b> Concatenate scaled numerical and dummy encoded categorical variables:</b><br>\n",
    "i) X = pd.concat([df_num_scaled, dummy_var], axis = 1) - we used pd.cconcate() function to joins the 'df_num_scaled' and 'dummy_var' dataframmes and created a  concated dataframe 'X'. The dataframe ccontains all the independent variables required to build the model\n",
    "\n"
   ]
  },
  {
   "cell_type": "markdown",
   "metadata": {},
   "source": [
    "<a id=\"split\"></a>\n",
    "## 2.8 Train-Test Split"
   ]
  },
  {
   "cell_type": "markdown",
   "metadata": {},
   "source": [
    "Before applying various classification techniques to predict the patient having cardiovascular disease or not, let us split the dataset in train and test set."
   ]
  },
  {
   "cell_type": "code",
   "execution_count": 34,
   "metadata": {},
   "outputs": [
    {
     "name": "stdout",
     "output_type": "stream",
     "text": [
      "X_train (832, 63)\n",
      "y_train (832,)\n",
      "X_test (208, 63)\n",
      "y_test (208,)\n"
     ]
    }
   ],
   "source": [
    "# add a constant column to the dataframe\n",
    "# while using the 'Logit' method in the Statsmodels library, the method do not consider the intercept by default\n",
    "# we can add the intercept to the set of independent variables using 'add_constant()'\n",
    "X = sm.add_constant(X)\n",
    "\n",
    "# split data into train subset and test subset\n",
    "# set 'random_state' to generate the same dataset each time you run the code \n",
    "# 'test_size' returns the proportion of data to be included in the testing set\n",
    "X_train, X_test, y_train, y_test = train_test_split(X, df_target, random_state = 42, test_size = 0.2,stratify=df_target)\n",
    "\n",
    "# check the dimensions of the train & test subset using 'shape'\n",
    "# print dimension of train set\n",
    "print('X_train', X_train.shape)\n",
    "print('y_train', y_train.shape)\n",
    "\n",
    "# print dimension of test set\n",
    "print('X_test', X_test.shape)\n",
    "print('y_test', y_test.shape)"
   ]
  },
  {
   "cell_type": "markdown",
   "metadata": {},
   "source": [
    "# Inference:\n",
    "- The train_test_split() method  of sklearn is used to split our data into train and test sets. \n",
    "- First, we need to divide our data into features (X) and labels (df_target). The dataframe gets divided into X_train,X_test , y_train and y_test. X_train and y_train sets are used for training and fitting the model. The X_test and y_test sets are used for testing the model if it’s predicting the right outputs/labels. \n",
    "- Here, X variable contains the indepedent variables and y contains the target variable.  \n",
    "- The \"test_size\" parameter is used to pass the proportion to perform the split on the dataset. Here , we splitted the 70%  of data for training and 20% data for testing\n",
    "- The rainfall_detection dataset is <b>imbalanced dataset</b>. The class labels are more biased in the observations. In order to make the dataset balanced and to reduce bias , we keep the <b>'stratify=df_target'</b>  parammeter in traintestsplit  function.stratification means that the train_test_split method returns training and test subsets that have the same proportions of class labels as the input dataset.\n",
    "- X_train (832, 63),y_train (832,),X_test (208, 63), y_test (208,) are the shape of training and testing dataset"
   ]
  },
  {
   "cell_type": "markdown",
   "metadata": {},
   "source": [
    "<a id=\"logit\"></a>\n",
    "# 3. Logistic Regression (Full Model)"
   ]
  },
  {
   "cell_type": "markdown",
   "metadata": {},
   "source": [
    "#### Build a full logistic model on a training dataset."
   ]
  },
  {
   "cell_type": "code",
   "execution_count": 35,
   "metadata": {},
   "outputs": [
    {
     "name": "stdout",
     "output_type": "stream",
     "text": [
      "Optimization terminated successfully.\n",
      "         Current function value: 0.317718\n",
      "         Iterations 7\n",
      "                           Logit Regression Results                           \n",
      "==============================================================================\n",
      "Dep. Variable:     Label_raintomorrow   No. Observations:                  832\n",
      "Model:                          Logit   Df Residuals:                      769\n",
      "Method:                           MLE   Df Model:                           62\n",
      "Date:                Tue, 02 May 2023   Pseudo R-squ.:                  0.3705\n",
      "Time:                        16:55:25   Log-Likelihood:                -264.34\n",
      "converged:                       True   LL-Null:                       -419.91\n",
      "Covariance Type:            nonrobust   LLR p-value:                 7.284e-35\n",
      "===================================================================================\n",
      "                      coef    std err          z      P>|z|      [0.025      0.975]\n",
      "-----------------------------------------------------------------------------------\n",
      "const              -2.4178      0.846     -2.859      0.004      -4.075      -0.761\n",
      "MinTemp            -0.2645      0.363     -0.728      0.466      -0.976       0.447\n",
      "MaxTemp            -0.2211      0.533     -0.415      0.678      -1.266       0.824\n",
      "Rainfall            0.3321      0.277      1.201      0.230      -0.210       0.874\n",
      "Evaporation         0.1258      0.141      0.890      0.373      -0.151       0.403\n",
      "Sunshine           -0.3992      0.162     -2.463      0.014      -0.717      -0.081\n",
      "WindGustSpeed       0.6662      0.181      3.690      0.000       0.312       1.020\n",
      "WindSpeed9am        0.1070      0.168      0.638      0.524      -0.222       0.436\n",
      "WindSpeed3pm       -0.1404      0.154     -0.911      0.362      -0.442       0.162\n",
      "Humidity9am         0.1798      0.217      0.827      0.408      -0.246       0.606\n",
      "Humidity3pm         1.4066      0.279      5.046      0.000       0.860       1.953\n",
      "Pressure9am         1.7255      0.555      3.109      0.002       0.638       2.813\n",
      "Pressure3pm        -2.1302      0.560     -3.806      0.000      -3.227      -1.033\n",
      "Cloud9am           -0.2453      0.182     -1.346      0.178      -0.603       0.112\n",
      "Cloud3pm            0.2176      0.183      1.187      0.235      -0.142       0.577\n",
      "Temp9am             0.1211      0.519      0.233      0.816      -0.897       1.139\n",
      "Temp3pm             0.1648      0.558      0.295      0.768      -0.928       1.258\n",
      "WindGustDir_ENE    -0.1197      0.778     -0.154      0.878      -1.645       1.405\n",
      "WindGustDir_ESE    -0.2162      0.855     -0.253      0.800      -1.892       1.459\n",
      "WindGustDir_N      -0.1338      0.757     -0.177      0.860      -1.617       1.349\n",
      "WindGustDir_NE      0.6917      0.791      0.874      0.382      -0.859       2.242\n",
      "WindGustDir_NNE    -0.2094      0.764     -0.274      0.784      -1.708       1.289\n",
      "WindGustDir_NNW    -1.3367      0.860     -1.554      0.120      -3.022       0.349\n",
      "WindGustDir_NW     -0.8902      0.820     -1.086      0.278      -2.497       0.717\n",
      "WindGustDir_S       0.3484      0.766      0.455      0.649      -1.153       1.850\n",
      "WindGustDir_SE      0.9903      0.744      1.330      0.183      -0.469       2.449\n",
      "WindGustDir_SSE     0.5830      0.784      0.743      0.457      -0.954       2.121\n",
      "WindGustDir_SSW    -1.0594      0.875     -1.211      0.226      -2.774       0.655\n",
      "WindGustDir_SW      0.5334      0.784      0.680      0.496      -1.004       2.070\n",
      "WindGustDir_W      -0.2811      0.707     -0.397      0.691      -1.668       1.105\n",
      "WindGustDir_WNW    -0.0103      0.798     -0.013      0.990      -1.574       1.554\n",
      "WindGustDir_WSW    -0.1142      0.867     -0.132      0.895      -1.814       1.585\n",
      "WindDir9am_ENE      0.3560      0.802      0.444      0.657      -1.216       1.928\n",
      "WindDir9am_ESE     -0.7994      0.888     -0.900      0.368      -2.540       0.942\n",
      "WindDir9am_N        0.3758      0.717      0.524      0.600      -1.029       1.780\n",
      "WindDir9am_NE       0.4283      0.760      0.564      0.573      -1.061       1.918\n",
      "WindDir9am_NNE      0.0949      0.867      0.109      0.913      -1.605       1.795\n",
      "WindDir9am_NNW     -0.2316      0.810     -0.286      0.775      -1.819       1.356\n",
      "WindDir9am_NW       0.1267      0.753      0.168      0.866      -1.349       1.603\n",
      "WindDir9am_S        0.8995      0.804      1.119      0.263      -0.675       2.474\n",
      "WindDir9am_SE       0.3772      0.765      0.493      0.622      -1.123       1.877\n",
      "WindDir9am_SSE     -0.3664      0.791     -0.463      0.643      -1.917       1.184\n",
      "WindDir9am_SSW     -0.1369      0.835     -0.164      0.870      -1.774       1.501\n",
      "WindDir9am_SW       0.0103      0.814      0.013      0.990      -1.586       1.606\n",
      "WindDir9am_W       -0.2028      0.791     -0.256      0.798      -1.754       1.348\n",
      "WindDir9am_WNW      0.1802      0.817      0.220      0.825      -1.422       1.782\n",
      "WindDir9am_WSW     -0.7847      0.953     -0.823      0.410      -2.653       1.084\n",
      "WindDir3pm_ENE     -0.2490      0.818     -0.304      0.761      -1.853       1.355\n",
      "WindDir3pm_ESE      0.1883      0.726      0.260      0.795      -1.234       1.610\n",
      "WindDir3pm_N        0.3180      0.780      0.408      0.683      -1.210       1.846\n",
      "WindDir3pm_NE       0.6182      0.722      0.856      0.392      -0.797       2.033\n",
      "WindDir3pm_NNE     -0.3866      0.903     -0.428      0.668      -2.156       1.382\n",
      "WindDir3pm_NNW      1.2676      0.785      1.615      0.106      -0.270       2.806\n",
      "WindDir3pm_NW       1.2795      0.741      1.726      0.084      -0.173       2.732\n",
      "WindDir3pm_S        0.3781      0.755      0.501      0.617      -1.102       1.858\n",
      "WindDir3pm_SE      -0.0291      0.690     -0.042      0.966      -1.381       1.323\n",
      "WindDir3pm_SSE     -0.8724      0.848     -1.029      0.303      -2.534       0.789\n",
      "WindDir3pm_SSW      0.3704      0.820      0.452      0.651      -1.237       1.977\n",
      "WindDir3pm_SW      -0.2643      0.811     -0.326      0.744      -1.853       1.325\n",
      "WindDir3pm_W        0.4469      0.768      0.582      0.561      -1.059       1.953\n",
      "WindDir3pm_WNW     -0.4221      0.774     -0.545      0.585      -1.939       1.095\n",
      "WindDir3pm_WSW      0.1970      0.848      0.232      0.816      -1.465       1.859\n",
      "RainToday_Yes       0.0635      0.617      0.103      0.918      -1.145       1.272\n",
      "===================================================================================\n"
     ]
    }
   ],
   "source": [
    "# build the model on train data (X_train and y_train)\n",
    "# use fit() to fit the logistic regression model\n",
    "logreg = sm.Logit(y_train, X_train).fit()\n",
    "\n",
    "# print the summary of the model\n",
    "print(logreg.summary())"
   ]
  },
  {
   "cell_type": "markdown",
   "metadata": {},
   "source": [
    "**Calculate the AIC (Akaike Information Criterion) value.**\n",
    "\n",
    "It is a relative measure of model evaluation. It gives a trade-off between model accuracy and model complexity."
   ]
  },
  {
   "cell_type": "code",
   "execution_count": 36,
   "metadata": {},
   "outputs": [
    {
     "name": "stdout",
     "output_type": "stream",
     "text": [
      "AIC: 654.6833924767091\n"
     ]
    }
   ],
   "source": [
    "# 'aic' retuns the AIC value for the model\n",
    "print('AIC:', logreg.aic)"
   ]
  },
  {
   "cell_type": "markdown",
   "metadata": {},
   "source": [
    "We can use the AIC value to compare different models created on the same dataset."
   ]
  },
  {
   "cell_type": "markdown",
   "metadata": {},
   "source": [
    "# Inference:\n",
    "- Logistic Regression : This type of statistical model (also known as logit model) is often used for classification and predictive analytics. Logistic regression estimates the probability of an event occurring, such as voted or didn't vote, based on a given dataset of independent variables.\n",
    "\n",
    "- The Pseudo R-squ. obtained from the above model summary is the value of McFadden's R-squared. This value can be obtained from the formula:\n",
    "    <p style='text-indent:25em'> <strong> McFadden's R-squared = $ 1 - \\frac{Log-Likelihood}{LL-Null} $</strong> </p>\n",
    " The LLR p-value is less than 0.05, implies that the model is significant. Here, we got the LLR  value as 0.37\n",
    " \n",
    " - Cox & Snell R-squared: The convergence of the logistic model can be determined by the R-squared value. The maximum of Cox & Snell R-squared is always less than 1. \n",
    " \n",
    " - AIC (Akaike Information Criterion) value is a relative measure of model evaluation. It gives a trade-off between model accuracy and model complexity.We can use the AIC value to compare different models created on the same dataset. Here, we got aic value as 654.6 for our logistic regression model.\n",
    " \n",
    " - logreg = sm.Logit(y_train, X_train).fit() print(logreg.summary()) -  'logreg' is our logistic regression model. we build model using statistical model libarary function 'Logit()' and passed our X_train and y_train for training the model.  logreg.summary()  gives the summary report for our logistic regression model.\n",
    " \n",
    " - logeg.aic  is function to get the AIC value for the 'logreg' model."
   ]
  },
  {
   "cell_type": "markdown",
   "metadata": {},
   "source": [
    "### Interpret the odds for each variable "
   ]
  },
  {
   "cell_type": "code",
   "execution_count": 37,
   "metadata": {},
   "outputs": [
    {
     "data": {
      "text/html": [
       "<div>\n",
       "<style scoped>\n",
       "    .dataframe tbody tr th:only-of-type {\n",
       "        vertical-align: middle;\n",
       "    }\n",
       "\n",
       "    .dataframe tbody tr th {\n",
       "        vertical-align: top;\n",
       "    }\n",
       "\n",
       "    .dataframe thead th {\n",
       "        text-align: right;\n",
       "    }\n",
       "</style>\n",
       "<table border=\"1\" class=\"dataframe\">\n",
       "  <thead>\n",
       "    <tr style=\"text-align: right;\">\n",
       "      <th></th>\n",
       "      <th>Odds</th>\n",
       "    </tr>\n",
       "  </thead>\n",
       "  <tbody>\n",
       "    <tr>\n",
       "      <th>const</th>\n",
       "      <td>0.089115</td>\n",
       "    </tr>\n",
       "    <tr>\n",
       "      <th>MinTemp</th>\n",
       "      <td>0.767572</td>\n",
       "    </tr>\n",
       "    <tr>\n",
       "      <th>MaxTemp</th>\n",
       "      <td>0.801625</td>\n",
       "    </tr>\n",
       "    <tr>\n",
       "      <th>Rainfall</th>\n",
       "      <td>1.393829</td>\n",
       "    </tr>\n",
       "    <tr>\n",
       "      <th>Evaporation</th>\n",
       "      <td>1.134036</td>\n",
       "    </tr>\n",
       "    <tr>\n",
       "      <th>...</th>\n",
       "      <td>...</td>\n",
       "    </tr>\n",
       "    <tr>\n",
       "      <th>WindDir3pm_SW</th>\n",
       "      <td>0.767780</td>\n",
       "    </tr>\n",
       "    <tr>\n",
       "      <th>WindDir3pm_W</th>\n",
       "      <td>1.563405</td>\n",
       "    </tr>\n",
       "    <tr>\n",
       "      <th>WindDir3pm_WNW</th>\n",
       "      <td>0.655693</td>\n",
       "    </tr>\n",
       "    <tr>\n",
       "      <th>WindDir3pm_WSW</th>\n",
       "      <td>1.217716</td>\n",
       "    </tr>\n",
       "    <tr>\n",
       "      <th>RainToday_Yes</th>\n",
       "      <td>1.065559</td>\n",
       "    </tr>\n",
       "  </tbody>\n",
       "</table>\n",
       "<p>63 rows × 1 columns</p>\n",
       "</div>"
      ],
      "text/plain": [
       "                    Odds\n",
       "const           0.089115\n",
       "MinTemp         0.767572\n",
       "MaxTemp         0.801625\n",
       "Rainfall        1.393829\n",
       "Evaporation     1.134036\n",
       "...                  ...\n",
       "WindDir3pm_SW   0.767780\n",
       "WindDir3pm_W    1.563405\n",
       "WindDir3pm_WNW  0.655693\n",
       "WindDir3pm_WSW  1.217716\n",
       "RainToday_Yes   1.065559\n",
       "\n",
       "[63 rows x 1 columns]"
      ]
     },
     "execution_count": 37,
     "metadata": {},
     "output_type": "execute_result"
    }
   ],
   "source": [
    "# take the exponential of the coefficient of a variable to calculate the odds\n",
    "# 'params' returns the coefficients of all the independent variables\n",
    "# pass the required column name to the parameter, 'columns'\n",
    "df_odds = pd.DataFrame(np.exp(logreg.params), columns= ['Odds']) \n",
    "\n",
    "# print the dataframe\n",
    "df_odds"
   ]
  },
  {
   "cell_type": "markdown",
   "metadata": {},
   "source": [
    "**Interpretation:** \n",
    "\n",
    "Write the interpretation of How does a unit change in each feature influence the odds of a patient having a cardiocascular disease?"
   ]
  },
  {
   "cell_type": "markdown",
   "metadata": {},
   "source": [
    "# Inference:\n",
    "odds_const: The odds of getting an  Rainfall tomorrow  is 0.0891155, considering all other variables take zero value \n",
    "\n",
    "odds_Min_Temp = 0.767, it implies that the odds of getting  rainfall tomorrow increases by a factor of 0.767 due to one unit increase in the minimum temperature, keeping other variables constant\n",
    "\n",
    "odds_Max_Temp = 0.8016, it implies that the odds of getting  rainfall tommorrow increases by a factor of 0.8016 due to one unit increase in the maximum temperature, keeping other variables constant\n",
    "\n",
    "odds_Rainfall =1.393829 , it implies that the odds of getting  rainfall tommorrow increases by a factor of 1.393829 due to one unit increase in the Rainfall , keeping other variables constant\n",
    "\n",
    "odds_WindDir3pm_SW\t =  0.767780, it implies that the odds of getting  rainfall tommorrow increases by a factor of 0.767780 due to one unit increase in the wind direction, keeping other variables constant\n",
    "\n",
    "odds_WindDir3pm_WSW\t = 1.217716, it implies that the odds of getting  rainfall tommorrow increases by a factor of  1.217716due to one unit increase in the wind direction, keeping other variables constant\n",
    "\n",
    "odds_RainToday_Yes = 1.065559, it implies that the odds of getting  rainfall tommorrow increases by a factor of 0.8016 due to one unit increase in the Rain today_yes, keeping other variables constant\n",
    "\n",
    "- similarly, if  there is  one unit increases in other variables then the  odds of getting  rainfall tommorrow increases by a its corresponding factor value\n",
    "\n",
    "\n"
   ]
  },
  {
   "cell_type": "markdown",
   "metadata": {},
   "source": [
    "**Do predictions on the test set.**"
   ]
  },
  {
   "cell_type": "code",
   "execution_count": 38,
   "metadata": {},
   "outputs": [
    {
     "data": {
      "text/plain": [
       "175    0.075627\n",
       "859    0.004126\n",
       "772    0.163680\n",
       "203    0.008915\n",
       "616    0.045944\n",
       "dtype: float64"
      ]
     },
     "execution_count": 38,
     "metadata": {},
     "output_type": "execute_result"
    }
   ],
   "source": [
    "# let 'y_pred_prob' be the predicted values of y\n",
    "y_pred_prob = logreg.predict(X_test)\n",
    "\n",
    "# print the y_pred_prob\n",
    "y_pred_prob.head()"
   ]
  },
  {
   "cell_type": "markdown",
   "metadata": {},
   "source": [
    "Since the target variable can take only two values either 0 or 1. We decide the cut-off of 0.5. i.e. if 'y_pred_prob' is less than 0.5, then consider it to be 0 else consider it to be 1."
   ]
  },
  {
   "cell_type": "code",
   "execution_count": 39,
   "metadata": {},
   "outputs": [],
   "source": [
    "# convert probabilities to 0 and 1 using 'if_else'\n",
    "y_pred = [ 0 if x < 0.5 else 1 for x in y_pred_prob]"
   ]
  },
  {
   "cell_type": "code",
   "execution_count": 40,
   "metadata": {},
   "outputs": [
    {
     "data": {
      "text/plain": [
       "[0, 0, 0, 0, 0, 0, 0, 0, 0, 0]"
      ]
     },
     "execution_count": 40,
     "metadata": {},
     "output_type": "execute_result"
    }
   ],
   "source": [
    "# print the first five observations of y_pred\n",
    "y_pred[0:10]"
   ]
  },
  {
   "cell_type": "markdown",
   "metadata": {},
   "source": [
    "#### Plot the confusion matrix."
   ]
  },
  {
   "cell_type": "code",
   "execution_count": 41,
   "metadata": {},
   "outputs": [
    {
     "data": {
      "image/png": "[encoded data removed]",
      "text/plain": [
       "<Figure size 432x288 with 1 Axes>"
      ]
     },
     "metadata": {
      "needs_background": "light"
     },
     "output_type": "display_data"
    }
   ],
   "source": [
    "# create a confusion matrix\n",
    "# pass the actual and predicted target values to the confusion_matrix()\n",
    "cm = confusion_matrix(y_test, y_pred)\n",
    "\n",
    "# label the confusion matrix  \n",
    "# pass the matrix as 'data'\n",
    "# pass the required column names to the parameter, 'columns'\n",
    "# pass the required row names to the parameter, 'index'\n",
    "conf_matrix = pd.DataFrame(data = cm,columns = ['Predicted:0','Predicted:1'], index = ['Actual:0','Actual:1'])\n",
    "\n",
    "# plot a heatmap to visualize the confusion matrix\n",
    "# 'annot' prints the value of each grid \n",
    "# 'fmt = d' returns the integer value in each grid\n",
    "# 'cmap' assigns color to each grid\n",
    "# as we do not require different colors for each grid in the heatmap,\n",
    "# use 'ListedColormap' to assign the specified color to the grid\n",
    "# 'cbar = False' will not return the color bar to the right side of the heatmap\n",
    "# 'linewidths' assigns the width to the line that divides each grid\n",
    "# 'annot_kws = {'size':25})' assigns the font size of the annotated text \n",
    "sns.heatmap(conf_matrix, annot = True, fmt = 'd', cmap = ListedColormap(['lightskyblue']), cbar = False, \n",
    "            linewidths = 0.1, annot_kws = {'size':15})\n",
    "\n",
    "# set the font size of x-axis ticks using 'fontsize'\n",
    "plt.xticks(fontsize = 20)\n",
    "\n",
    "# set the font size of y-axis ticks using 'fontsize'\n",
    "plt.yticks(fontsize = 20)\n",
    "\n",
    "# display the plot\n",
    "plt.show()"
   ]
  },
  {
   "cell_type": "code",
   "execution_count": 42,
   "metadata": {},
   "outputs": [],
   "source": [
    "# True Negatives are denoted by 'TN'\n",
    "# Actual 'O' values which are classified correctly\n",
    "TN = cm[0,0]\n",
    "\n",
    "# True Positives are denoted by 'TP'\n",
    "# Actual '1' values which are classified correctly\n",
    "TP = cm[1,1]\n",
    "\n",
    "# False Positives are denoted by 'FP'\n",
    "# it is the type 1 error\n",
    "# Actual 'O' values which are classified wrongly as '1'\n",
    "FP = cm[0,1]\n",
    "\n",
    "# False Negatives are denoted by 'FN'\n",
    "# it is the type 2 error\n",
    "# Actual '1' values which are classified wrongly as '0'\n",
    "FN = cm[1,0]"
   ]
  },
  {
   "cell_type": "markdown",
   "metadata": {},
   "source": [
    "**Compute various performance metrics.**"
   ]
  },
  {
   "cell_type": "markdown",
   "metadata": {},
   "source": [
    "**Precision:** It is defined as the ratio of true positives to the total positive predictions."
   ]
  },
  {
   "cell_type": "code",
   "execution_count": 43,
   "metadata": {},
   "outputs": [
    {
     "data": {
      "text/plain": [
       "0.68"
      ]
     },
     "execution_count": 43,
     "metadata": {},
     "output_type": "execute_result"
    }
   ],
   "source": [
    "# calculate the precision value\n",
    "precision = TP / (TP+FP)\n",
    "\n",
    "# print the value\n",
    "precision"
   ]
  },
  {
   "cell_type": "markdown",
   "metadata": {},
   "source": [
    "**Recall:** It is the ratio of true positives to the total actual positive observations. It is also known as, `Sensitivity` or `True Positive Rate`."
   ]
  },
  {
   "cell_type": "code",
   "execution_count": 44,
   "metadata": {},
   "outputs": [
    {
     "data": {
      "text/plain": [
       "0.40476190476190477"
      ]
     },
     "execution_count": 44,
     "metadata": {},
     "output_type": "execute_result"
    }
   ],
   "source": [
    "# calculate the recall value\n",
    "recall = TP / (TP+FN)\n",
    "\n",
    "# print the value\n",
    "recall"
   ]
  },
  {
   "cell_type": "markdown",
   "metadata": {},
   "source": [
    "**Specificity:** It is the ratio of true negatives to the total actual negative observations."
   ]
  },
  {
   "cell_type": "code",
   "execution_count": 45,
   "metadata": {},
   "outputs": [
    {
     "data": {
      "text/plain": [
       "0.9518072289156626"
      ]
     },
     "execution_count": 45,
     "metadata": {},
     "output_type": "execute_result"
    }
   ],
   "source": [
    "# calculate the specificity value\n",
    "specificity = TN / (TN+FP)\n",
    "\n",
    "# print the value\n",
    "specificity"
   ]
  },
  {
   "cell_type": "markdown",
   "metadata": {},
   "source": [
    "**f1-score:** It is defined as the harmonic mean of precision and recall."
   ]
  },
  {
   "cell_type": "code",
   "execution_count": 46,
   "metadata": {},
   "outputs": [
    {
     "data": {
      "text/plain": [
       "0.5074626865671642"
      ]
     },
     "execution_count": 46,
     "metadata": {},
     "output_type": "execute_result"
    }
   ],
   "source": [
    "# calculate the f1_score\n",
    "f1_score = 2*((precision*recall)/(precision+recall))\n",
    "\n",
    "# print the f1_score\n",
    "f1_score"
   ]
  },
  {
   "cell_type": "markdown",
   "metadata": {},
   "source": [
    "**Accuracy:** It is the ratio of correct predictions (i.e. TN+TP) to the total observations. According to the confusion matrix, it is the ratio of the sum of diagonal elements to the sum of all the in the matrix. It is not a very good measure if the dataset is imbalanced."
   ]
  },
  {
   "cell_type": "code",
   "execution_count": 47,
   "metadata": {},
   "outputs": [
    {
     "data": {
      "text/plain": [
       "0.8413461538461539"
      ]
     },
     "execution_count": 47,
     "metadata": {},
     "output_type": "execute_result"
    }
   ],
   "source": [
    "# calculate the accuracy\n",
    "accuracy = (TN+TP) / (TN+FP+FN+TP)\n",
    "\n",
    "# print the accuracy\n",
    "accuracy"
   ]
  },
  {
   "cell_type": "markdown",
   "metadata": {},
   "source": [
    "# Inference:\n",
    "-  we used our model and done predictions on test data . Since the target variable can take only two values either 0 or 1. We decide the cut-off of 0.5. i.e. if 'y_pred_prob' is less than 0.5, then consider it to be 0 else consider it to be 1.\n",
    "- we also drawn the confusion matrix with TP,FP,TN,FN and calculated the metrics for our logistic regression model\n",
    "- For our dataset, both the values for accuracy and f1-score are not equal since it is a imbalanced dataset. so, accuracy is not a good metrics for this rainfall_prediction dataset. Our accuracy score is 0.841 which is 84.1%"
   ]
  },
  {
   "cell_type": "markdown",
   "metadata": {},
   "source": [
    "We can also calculate the above measures using the `classification_report()`"
   ]
  },
  {
   "cell_type": "code",
   "execution_count": 48,
   "metadata": {},
   "outputs": [
    {
     "name": "stdout",
     "output_type": "stream",
     "text": [
      "              precision    recall  f1-score   support\n",
      "\n",
      "           0       0.86      0.95      0.91       166\n",
      "           1       0.68      0.40      0.51        42\n",
      "\n",
      "    accuracy                           0.84       208\n",
      "   macro avg       0.77      0.68      0.71       208\n",
      "weighted avg       0.83      0.84      0.83       208\n",
      "\n"
     ]
    }
   ],
   "source": [
    "# calculate various performance measures\n",
    "acc_table = classification_report(y_test, y_pred)\n",
    "\n",
    "# print the table\n",
    "print(acc_table)"
   ]
  },
  {
   "cell_type": "markdown",
   "metadata": {},
   "source": []
  },
  {
   "cell_type": "markdown",
   "metadata": {},
   "source": [
    "**Kappa score:** It is a measure of inter-rater reliability. For logistic regression, the actual and predicted values of the target variable are the raters."
   ]
  },
  {
   "cell_type": "code",
   "execution_count": 49,
   "metadata": {},
   "outputs": [
    {
     "name": "stdout",
     "output_type": "stream",
     "text": [
      "kappa value: 0.4200743494423792\n"
     ]
    }
   ],
   "source": [
    "# compute the kappa value\n",
    "kappa = cohen_kappa_score(y_test, y_pred)\n",
    "\n",
    "# print the kappa value\n",
    "print('kappa value:',kappa)"
   ]
  },
  {
   "cell_type": "markdown",
   "metadata": {},
   "source": [
    "# Inference: \n",
    "- Kappa score: It is a measure of inter-rater reliability. For logistic regression, the actual and predicted values of the target variable are the raters.\n",
    "- As the kappa score for the full model (with cut-off probability 0.5) is 0.4200, we can say that there is substantial agreement between the actual and predicted values.\n",
    "-The kappa score can be used to determine the level of agreement between two observers or between an observer and a classification model. In this case, we can use the kappa score to determine the level of agreement between the actual data and the model's predictions. A kappa score of 0.4200 suggests that the level of agreement is moderate."
   ]
  },
  {
   "cell_type": "markdown",
   "metadata": {},
   "source": [
    "#### Plot the ROC curve.\n",
    "\n",
    "ROC curve is plotted with the true positive rate (tpr) on the y-axis and false positive rate (fpr) on the x-axis. The area under this curve is used as a measure of separability of the model."
   ]
  },
  {
   "cell_type": "code",
   "execution_count": 50,
   "metadata": {},
   "outputs": [
    {
     "data": {
      "image/png": "[encoded data removed]",
      "text/plain": [
       "<Figure size 432x288 with 1 Axes>"
      ]
     },
     "metadata": {
      "needs_background": "light"
     },
     "output_type": "display_data"
    }
   ],
   "source": [
    "# the roc_curve() returns the values for false positive rate, true positive rate and threshold\n",
    "# pass the actual target values and predicted probabilities to the function\n",
    "fpr, tpr, thresholds = roc_curve(y_test, y_pred_prob)\n",
    "\n",
    "# plot the ROC curve\n",
    "plt.plot(fpr, tpr)\n",
    "\n",
    "# set limits for x and y axes\n",
    "plt.xlim([0.0, 1.0])\n",
    "plt.ylim([0.0, 1.0])\n",
    "\n",
    "# plot the straight line showing worst prediction for the model\n",
    "plt.plot([0, 1], [0, 1],'r--')\n",
    "\n",
    "# add plot and axes labels\n",
    "# set text size using 'fontsize'\n",
    "plt.title('ROC curve for Admission Prediction Classifier (Full Model)', fontsize = 15)\n",
    "plt.xlabel('False positive rate (1-Specificity)', fontsize = 15)\n",
    "plt.ylabel('True positive rate (Sensitivity)', fontsize = 15)\n",
    "\n",
    "# add the AUC score to the plot\n",
    "# 'x' and 'y' gives position of the text\n",
    "# 's' is the text \n",
    "# use round() to round-off the AUC score upto 4 digits\n",
    "plt.text(x = 0.02, y = 0.9, s = ('AUC Score:', round(metrics.roc_auc_score(y_test, y_pred_prob),4)))\n",
    "                               \n",
    "# plot the grid\n",
    "plt.grid(True)"
   ]
  },
  {
   "cell_type": "markdown",
   "metadata": {},
   "source": [
    "# Inference:\n",
    "- ROC curve is plotted with the true positive rate (tpr) on the y-axis and false positive rate (fpr) on the x-axis. The area under this curve is used as a measure of separability of the model.\n",
    "-The red dotted line represents the ROC curve of a purely random classifier; a good classifier stays as far away from that line as possible (toward the top-left corner).\n",
    "- From the above plot, we can see that our classifier (logistic regression) is away from the dotted line; with the AUC score 0.819.\n",
    "- as the score is significantly higher than 0.5. This means that the classifier is capable of distinguishing between the positive and negative classes with a fair degree of accuracy. However, the score is not close to 1, so there is still room for improvement in the model's performance."
   ]
  },
  {
   "cell_type": "markdown",
   "metadata": {},
   "source": [
    "<a id=\"cut_off\"></a>\n",
    "## 3.1 Identify the Best Cut-off Value"
   ]
  },
  {
   "cell_type": "markdown",
   "metadata": {},
   "source": [
    "<a id=\"youden\"></a>\n",
    "### 3.1.1 Youden's Index"
   ]
  },
  {
   "cell_type": "code",
   "execution_count": 51,
   "metadata": {},
   "outputs": [
    {
     "data": {
      "text/html": [
       "<div>\n",
       "<style scoped>\n",
       "    .dataframe tbody tr th:only-of-type {\n",
       "        vertical-align: middle;\n",
       "    }\n",
       "\n",
       "    .dataframe tbody tr th {\n",
       "        vertical-align: top;\n",
       "    }\n",
       "\n",
       "    .dataframe thead th {\n",
       "        text-align: right;\n",
       "    }\n",
       "</style>\n",
       "<table border=\"1\" class=\"dataframe\">\n",
       "  <thead>\n",
       "    <tr style=\"text-align: right;\">\n",
       "      <th></th>\n",
       "      <th>TPR</th>\n",
       "      <th>FPR</th>\n",
       "      <th>Threshold</th>\n",
       "      <th>Difference</th>\n",
       "    </tr>\n",
       "  </thead>\n",
       "  <tbody>\n",
       "    <tr>\n",
       "      <th>0</th>\n",
       "      <td>0.690476</td>\n",
       "      <td>0.144578</td>\n",
       "      <td>0.241623</td>\n",
       "      <td>0.545898</td>\n",
       "    </tr>\n",
       "    <tr>\n",
       "      <th>1</th>\n",
       "      <td>0.666667</td>\n",
       "      <td>0.138554</td>\n",
       "      <td>0.271286</td>\n",
       "      <td>0.528112</td>\n",
       "    </tr>\n",
       "    <tr>\n",
       "      <th>2</th>\n",
       "      <td>0.666667</td>\n",
       "      <td>0.144578</td>\n",
       "      <td>0.252101</td>\n",
       "      <td>0.522088</td>\n",
       "    </tr>\n",
       "    <tr>\n",
       "      <th>3</th>\n",
       "      <td>0.642857</td>\n",
       "      <td>0.132530</td>\n",
       "      <td>0.273661</td>\n",
       "      <td>0.510327</td>\n",
       "    </tr>\n",
       "    <tr>\n",
       "      <th>4</th>\n",
       "      <td>0.642857</td>\n",
       "      <td>0.138554</td>\n",
       "      <td>0.272906</td>\n",
       "      <td>0.504303</td>\n",
       "    </tr>\n",
       "  </tbody>\n",
       "</table>\n",
       "</div>"
      ],
      "text/plain": [
       "        TPR       FPR  Threshold  Difference\n",
       "0  0.690476  0.144578   0.241623    0.545898\n",
       "1  0.666667  0.138554   0.271286    0.528112\n",
       "2  0.666667  0.144578   0.252101    0.522088\n",
       "3  0.642857  0.132530   0.273661    0.510327\n",
       "4  0.642857  0.138554   0.272906    0.504303"
      ]
     },
     "execution_count": 51,
     "metadata": {},
     "output_type": "execute_result"
    }
   ],
   "source": [
    "# create a dataframe to store the values for false positive rate, true positive rate and threshold\n",
    "youdens_table = pd.DataFrame({'TPR': tpr,\n",
    "                             'FPR': fpr,\n",
    "                             'Threshold': thresholds})\n",
    "\n",
    "# calculate the difference between TPR and FPR for each threshold and store the values in a new column 'Difference'\n",
    "youdens_table['Difference'] = youdens_table.TPR - youdens_table.FPR\n",
    "\n",
    "# sort the dataframe based on the values of difference \n",
    "# 'ascending = False' sorts the data in descending order\n",
    "# 'reset_index' resets the index of the dataframe\n",
    "# 'drop = True' drops the previous index\n",
    "youdens_table = youdens_table.sort_values('Difference', ascending = False).reset_index(drop = True)\n",
    "\n",
    "# print the first five observations\n",
    "youdens_table.head()"
   ]
  },
  {
   "cell_type": "markdown",
   "metadata": {},
   "source": [
    "#### Plot the confusion matrix, with the optimal threshold computed using Youden's index method."
   ]
  },
  {
   "cell_type": "code",
   "execution_count": 52,
   "metadata": {},
   "outputs": [],
   "source": [
    "# convert probabilities to 0 and 1 using 'if_else'\n",
    "y_pred_youden = [ 0 if x < 0.24 else 1 for x in y_pred_prob]"
   ]
  },
  {
   "cell_type": "code",
   "execution_count": 53,
   "metadata": {},
   "outputs": [
    {
     "data": {
      "image/png": "[encoded data removed]",
      "text/plain": [
       "<Figure size 432x288 with 1 Axes>"
      ]
     },
     "metadata": {
      "needs_background": "light"
     },
     "output_type": "display_data"
    }
   ],
   "source": [
    "# create a confusion matrix\n",
    "# pass the actual and predicted target values to the confusion_matrix()\n",
    "cm = confusion_matrix(y_test, y_pred_youden)\n",
    "\n",
    "# label the confusion matrix  \n",
    "# pass the matrix as 'data'\n",
    "# pass the required column names to the parameter, 'columns'\n",
    "# pass the required row names to the parameter, 'index'\n",
    "conf_matrix = pd.DataFrame(data = cm,columns = ['Predicted:0','Predicted:1'], index = ['Actual:0','Actual:1'])\n",
    "\n",
    "# plot a heatmap to visualize the confusion matrix\n",
    "# 'annot' prints the value of each grid \n",
    "# 'fmt = d' returns the integer value in each grid\n",
    "# 'cmap' assigns color to each grid\n",
    "# as we do not require different colors for each grid in the heatmap,\n",
    "# use 'ListedColormap' to assign the specified color to the grid\n",
    "# 'cbar = False' will not return the color bar to the right side of the heatmap\n",
    "# 'linewidths' assigns the width to the line that divides each grid\n",
    "# 'annot_kws = {'size':25})' assigns the font size of the annotated text \n",
    "sns.heatmap(conf_matrix, annot = True, fmt = 'd', cmap = ListedColormap(['lightskyblue']), cbar = False, \n",
    "            linewidths = 0.1, annot_kws = {'size':25})\n",
    "\n",
    "# set the font size of x-axis ticks using 'fontsize'\n",
    "plt.xticks(fontsize = 20)\n",
    "\n",
    "# set the font size of y-axis ticks using 'fontsize'\n",
    "plt.yticks(fontsize = 20)\n",
    "\n",
    "# display the plot\n",
    "plt.show()"
   ]
  },
  {
   "cell_type": "markdown",
   "metadata": {},
   "source": [
    "**Compute various performance metrics using classification report.**"
   ]
  },
  {
   "cell_type": "code",
   "execution_count": 54,
   "metadata": {},
   "outputs": [
    {
     "name": "stdout",
     "output_type": "stream",
     "text": [
      "              precision    recall  f1-score   support\n",
      "\n",
      "           0       0.92      0.86      0.88       166\n",
      "           1       0.55      0.69      0.61        42\n",
      "\n",
      "    accuracy                           0.82       208\n",
      "   macro avg       0.73      0.77      0.75       208\n",
      "weighted avg       0.84      0.82      0.83       208\n",
      "\n"
     ]
    }
   ],
   "source": [
    "# calculate various performance measures\n",
    "acc_table = classification_report(y_test, y_pred_youden)\n",
    "\n",
    "# print the table\n",
    "print(acc_table)"
   ]
  },
  {
   "cell_type": "markdown",
   "metadata": {},
   "source": [
    "# Inference:\n",
    "- The performance measures that we obtained above, are for the cut_off = 0.5. Now, let us consider a list of values as cut-off and calculate the different performance measures.\n",
    "- In the above method, we passed the list of values for the cut-off. But, this method is not efficient as one can pass different values and obtain a cut-off based on the passed values.To obtain the optimal cut-off value we use the following methods:  i) Youden's Index   ii)Cost-based Method\n",
    "- Youden's Index is the classification cut-off probability for which the (Sensitivity + Specificity - 1) is maximized.<br>\n",
    "\n",
    "<p style='text-indent:12em'> <strong>Youden's Index = max(Sensitivity + Specificity - 1) = max(TPR + TNR - 1) = max(TPR - FPR) </strong> </p>\n",
    "\n",
    "i.e. select the cut-off probability for which the (TPR - FPR) is maximum.\n",
    "\n",
    "- As we can see that the optimal cut-off probability is approximately 0.24 for Rainfall_prediction dataset. Let us consider this cut-off to predict the target values. i.e. if 'y_pred_prob' is less than 0.24, then consider it to be 0 else consider it to be 1.\n",
    "\n",
    "- As the kappa score for the full model (with cut-off probability 0.24) is 0.49, we can say that there is substantial agreement between the actual and predicted values.\n",
    "The kappa score can be used to determine the level of agreement between two observers or between an observer and a classification model. In this case, we can use the kappa score to determine the level of agreement between the actual data and the model's predictions. A kappa score of 0.49 suggests that the level of agreement is moderate.\n",
    "\n",
    "\n",
    "- From the classification report generated based on optimal cutoff, we can see the accuracy is of 82% and Recall is of 0.69%. Since our objective is to predict the rainfall for tomorrow, Both FP and FN is important so we can consider the the F1 score as our metrics to evaluate the model performance. our F1 score is 0.61 which means there are 61% acccurate in predicting the occuranace of rainfall tomorrow.\n",
    "\n",
    "- accuracy is not a good metrics for this rainfall_prediction dataset because the dataset is biased and it is a immbalanced dataset. Our accuracy score is 0.841 which is 82% \n",
    "\n",
    "- The precision score of 0.55 suggests that, out of all the instances where the model predicted rain, 55% of them actually had rain the next day. This indicates that the model is relatively cautious when predicting rainfall.\n",
    "\n",
    "- The recall score of approximately 69% indicates that the model is able to identify 69% of the actual rainy days. This means that the model is not very sensitive in detecting rainy days and may miss some of them.\n",
    "\n",
    "- The F1 score, which is a harmonic mean of precision and recall, is 0.61, indicating that the model has a moderate balance between precision and recall. The F1 score provides a single metric that considers both false positives and false negatives, which is useful when dealing with imbalanced datasets.\n",
    "\n",
    "- In conclusion, the logistic regression model has an overall moderate performance in predicting 'RainfallTomorrow', with a good specificity score and a moderate balance between precision and recall. However, there is room for improvement, especially in increasing the recall score to better identify rainy days. "
   ]
  },
  {
   "cell_type": "code",
   "execution_count": 55,
   "metadata": {},
   "outputs": [
    {
     "name": "stdout",
     "output_type": "stream",
     "text": [
      "kappa value: 0.49725633655604906\n"
     ]
    }
   ],
   "source": [
    "# compute the kappa value\n",
    "kappa = cohen_kappa_score(y_test, y_pred_youden)\n",
    "\n",
    "# print the kappa value\n",
    "print('kappa value:',kappa)\n"
   ]
  },
  {
   "cell_type": "markdown",
   "metadata": {},
   "source": [
    "# Inference:\n",
    "As the kappa score for the full model (with cut-off probability 0.24) is 0.49, we can say that there is substantial agreement between the actual and predicted values.\n"
   ]
  },
  {
   "cell_type": "code",
   "execution_count": null,
   "metadata": {},
   "outputs": [],
   "source": []
  }
 ],
 "metadata": {
  "kernelspec": {
   "display_name": "Python 3 (ipykernel)",
   "language": "python",
   "name": "python3"
  },
  "language_info": {
   "codemirror_mode": {
    "name": "ipython",
    "version": 3
   },
   "file_extension": ".py",
   "mimetype": "text/x-python",
   "name": "python",
   "nbconvert_exporter": "python",
   "pygments_lexer": "ipython3",
   "version": "3.9.12"
  }
 },
 "nbformat": 4,
 "nbformat_minor": 2
}
