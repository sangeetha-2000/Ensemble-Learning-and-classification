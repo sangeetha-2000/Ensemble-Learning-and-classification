{
 "cells": [
  {
   "cell_type": "markdown",
   "metadata": {
    "id": "Cq4duMOubHBP"
   },
   "source": [
    "## MLSC - Classification"
   ]
  },
  {
   "cell_type": "markdown",
   "metadata": {
    "id": "p0QekeSkbHBb"
   },
   "source": [
    "### About the data set (Bank Client Data)\n",
    "\n",
    "#### Bank client data:\n",
    "**age:** Age of the client<br>\n",
    "**duration:** last contact duration, in seconds.<br>\n",
    "\n",
    "#### Other attributes:\n",
    "**campaign:** number of contacts performed during this campaign and for this client<br>\n",
    "**pdays:** number of days that passed by after the client was last contacted from a previous campaign (999 means client was not previously contacted)<br>\n",
    "**previous:** number of contacts performed before this campaign and for this client<br>\n",
    "\n",
    "#### Social and economic context\n",
    "\n",
    "**emp.var.rate:** employment variation rate - quarterly indicator<br>\n",
    "**cons.price.idx:** consumer price index - monthly indicator<br>\n",
    "**cons.conf.idx:** consumer confidence index - monthly indicator<br>\n",
    "**euribor3m:** euribor 3 month rate - daily indicator<br>\n",
    "**nr.employed:** number of employees - quarterly indicator<br>\n",
    "\n",
    "**y** - (Output variable) has the client subscribed a term deposit?"
   ]
  },
  {
   "cell_type": "markdown",
   "metadata": {
    "id": "2aJza2JdbHBd"
   },
   "source": [
    "# Table of Content\n",
    "\n",
    "1. Data Preprocessing - **3 Marks**\n",
    "2. Logistic Regression Model - **3 Marks**\n",
    "3. Decision Tree Model - **3 Marks**\n",
    "4. Random Forest Model - **5 Marks**\n",
    "5. XGBoost Model - **5 Marks**\n",
    "6. Compare the Results of all the above mentioned algorithms - **5 Marks**\n",
    "7. Intrepret your solution based on the results - **6 Marks**\n"
   ]
  },
  {
   "cell_type": "markdown",
   "metadata": {
    "id": "jiseJMpnbHBe"
   },
   "source": [
    "<a id=\"logreg\"> </a>\n",
    "## 1. Data Pre-Processing"
   ]
  },
  {
   "cell_type": "markdown",
   "metadata": {
    "id": "vAf5JlUEbHBg"
   },
   "source": [
    "**Import the required libraries**"
   ]
  },
  {
   "cell_type": "code",
   "execution_count": 1,
   "metadata": {},
   "outputs": [
    {
     "name": "stdout",
     "output_type": "stream",
     "text": [
      "Requirement already satisfied: xgboost in c:\\users\\royal\\anaconda3\\lib\\site-packages (1.7.5)\n",
      "Requirement already satisfied: numpy in c:\\users\\royal\\anaconda3\\lib\\site-packages (from xgboost) (1.21.5)\n",
      "Requirement already satisfied: scipy in c:\\users\\royal\\anaconda3\\lib\\site-packages (from xgboost) (1.7.3)\n"
     ]
    }
   ],
   "source": [
    "!pip install xgboost"
   ]
  },
  {
   "cell_type": "code",
   "execution_count": 2,
   "metadata": {
    "id": "t12CP4yKbHBi"
   },
   "outputs": [],
   "source": [
    "import pandas as pd\n",
    "from sklearn.model_selection import train_test_split\n",
    "from sklearn.preprocessing import StandardScaler\n",
    "from sklearn.linear_model import LogisticRegression\n",
    "from sklearn.tree import DecisionTreeClassifier\n",
    "from sklearn.ensemble import RandomForestClassifier\n",
    "from xgboost import XGBClassifier\n",
    "from sklearn.metrics import accuracy_score, precision_score, recall_score, f1_score\n"
   ]
  },
  {
   "cell_type": "markdown",
   "metadata": {
    "id": "sbFquSGrbHBl"
   },
   "source": [
    "#### Load the csv file"
   ]
  },
  {
   "cell_type": "code",
   "execution_count": 3,
   "metadata": {
    "id": "qtuixt85bHBn"
   },
   "outputs": [
    {
     "data": {
      "text/html": [
       "<div>\n",
       "<style scoped>\n",
       "    .dataframe tbody tr th:only-of-type {\n",
       "        vertical-align: middle;\n",
       "    }\n",
       "\n",
       "    .dataframe tbody tr th {\n",
       "        vertical-align: top;\n",
       "    }\n",
       "\n",
       "    .dataframe thead th {\n",
       "        text-align: right;\n",
       "    }\n",
       "</style>\n",
       "<table border=\"1\" class=\"dataframe\">\n",
       "  <thead>\n",
       "    <tr style=\"text-align: right;\">\n",
       "      <th></th>\n",
       "      <th>age</th>\n",
       "      <th>duration</th>\n",
       "      <th>campaign</th>\n",
       "      <th>pdays</th>\n",
       "      <th>previous</th>\n",
       "      <th>emp.var.rate</th>\n",
       "      <th>cons.price.idx</th>\n",
       "      <th>cons.conf.idx</th>\n",
       "      <th>euribor3m</th>\n",
       "      <th>nr.employed</th>\n",
       "      <th>y</th>\n",
       "    </tr>\n",
       "  </thead>\n",
       "  <tbody>\n",
       "    <tr>\n",
       "      <th>0</th>\n",
       "      <td>32</td>\n",
       "      <td>205</td>\n",
       "      <td>2</td>\n",
       "      <td>999</td>\n",
       "      <td>0</td>\n",
       "      <td>1.1</td>\n",
       "      <td>93.994</td>\n",
       "      <td>-36.4</td>\n",
       "      <td>4.858</td>\n",
       "      <td>5191.0</td>\n",
       "      <td>no</td>\n",
       "    </tr>\n",
       "    <tr>\n",
       "      <th>1</th>\n",
       "      <td>32</td>\n",
       "      <td>691</td>\n",
       "      <td>10</td>\n",
       "      <td>999</td>\n",
       "      <td>0</td>\n",
       "      <td>1.4</td>\n",
       "      <td>93.918</td>\n",
       "      <td>-42.7</td>\n",
       "      <td>4.960</td>\n",
       "      <td>5228.1</td>\n",
       "      <td>yes</td>\n",
       "    </tr>\n",
       "    <tr>\n",
       "      <th>2</th>\n",
       "      <td>45</td>\n",
       "      <td>45</td>\n",
       "      <td>8</td>\n",
       "      <td>999</td>\n",
       "      <td>0</td>\n",
       "      <td>1.4</td>\n",
       "      <td>93.444</td>\n",
       "      <td>-36.1</td>\n",
       "      <td>4.963</td>\n",
       "      <td>5228.1</td>\n",
       "      <td>no</td>\n",
       "    </tr>\n",
       "    <tr>\n",
       "      <th>3</th>\n",
       "      <td>33</td>\n",
       "      <td>400</td>\n",
       "      <td>1</td>\n",
       "      <td>5</td>\n",
       "      <td>2</td>\n",
       "      <td>-1.1</td>\n",
       "      <td>94.601</td>\n",
       "      <td>-49.5</td>\n",
       "      <td>1.032</td>\n",
       "      <td>4963.6</td>\n",
       "      <td>yes</td>\n",
       "    </tr>\n",
       "    <tr>\n",
       "      <th>4</th>\n",
       "      <td>47</td>\n",
       "      <td>903</td>\n",
       "      <td>2</td>\n",
       "      <td>999</td>\n",
       "      <td>1</td>\n",
       "      <td>-1.8</td>\n",
       "      <td>93.075</td>\n",
       "      <td>-47.1</td>\n",
       "      <td>1.415</td>\n",
       "      <td>5099.1</td>\n",
       "      <td>yes</td>\n",
       "    </tr>\n",
       "  </tbody>\n",
       "</table>\n",
       "</div>"
      ],
      "text/plain": [
       "   age  duration  campaign  pdays  previous  emp.var.rate  cons.price.idx  \\\n",
       "0   32       205         2    999         0           1.1          93.994   \n",
       "1   32       691        10    999         0           1.4          93.918   \n",
       "2   45        45         8    999         0           1.4          93.444   \n",
       "3   33       400         1      5         2          -1.1          94.601   \n",
       "4   47       903         2    999         1          -1.8          93.075   \n",
       "\n",
       "   cons.conf.idx  euribor3m  nr.employed    y  \n",
       "0          -36.4      4.858       5191.0   no  \n",
       "1          -42.7      4.960       5228.1  yes  \n",
       "2          -36.1      4.963       5228.1   no  \n",
       "3          -49.5      1.032       4963.6  yes  \n",
       "4          -47.1      1.415       5099.1  yes  "
      ]
     },
     "execution_count": 3,
     "metadata": {},
     "output_type": "execute_result"
    }
   ],
   "source": [
    "# Load the dataset\n",
    "data = pd.read_csv('bank.csv')\n",
    "data.head()  # Display the first few rows of the dataset"
   ]
  },
  {
   "cell_type": "markdown",
   "metadata": {
    "id": "0YRQKcuMbHBo"
   },
   "source": [
    "<table align=\"left\">\n",
    "    <tr>\n",
    "        <td>\n",
    "            <div align=\"left\", style=\"font-size:120%\">\n",
    "                <font color=\"#21618C\">\n",
    "                    <b>Prepare the data </b>\n",
    "                </font>\n",
    "            </div>\n",
    "        </td>\n",
    "    </tr>\n",
    "</table>"
   ]
  },
  {
   "cell_type": "code",
   "execution_count": 4,
   "metadata": {
    "id": "X_4qWf-EbHBq"
   },
   "outputs": [
    {
     "name": "stdout",
     "output_type": "stream",
     "text": [
      "<class 'pandas.core.frame.DataFrame'>\n",
      "RangeIndex: 9640 entries, 0 to 9639\n",
      "Data columns (total 11 columns):\n",
      " #   Column          Non-Null Count  Dtype  \n",
      "---  ------          --------------  -----  \n",
      " 0   age             9640 non-null   int64  \n",
      " 1   duration        9640 non-null   int64  \n",
      " 2   campaign        9640 non-null   int64  \n",
      " 3   pdays           9640 non-null   int64  \n",
      " 4   previous        9640 non-null   int64  \n",
      " 5   emp.var.rate    9640 non-null   float64\n",
      " 6   cons.price.idx  9640 non-null   float64\n",
      " 7   cons.conf.idx   9640 non-null   float64\n",
      " 8   euribor3m       9640 non-null   float64\n",
      " 9   nr.employed     9640 non-null   float64\n",
      " 10  y               9640 non-null   object \n",
      "dtypes: float64(5), int64(5), object(1)\n",
      "memory usage: 828.6+ KB\n"
     ]
    }
   ],
   "source": [
    "data.info()  # Check the data types and missing values"
   ]
  },
  {
   "cell_type": "markdown",
   "metadata": {
    "id": "PWUDs5ePbHBr"
   },
   "source": [
    "<table align=\"left\">\n",
    "    <tr>\n",
    "        <td>\n",
    "            <div align=\"left\", style=\"font-size:120%\">\n",
    "                <font color=\"#21618C\">\n",
    "                    <b>Perform an analysis for missing values </b>\n",
    "                </font>\n",
    "            </div>\n",
    "        </td>\n",
    "    </tr>\n",
    "</table>"
   ]
  },
  {
   "cell_type": "code",
   "execution_count": 5,
   "metadata": {
    "id": "aeip2hndbHBt"
   },
   "outputs": [
    {
     "name": "stdout",
     "output_type": "stream",
     "text": [
      "                Missing Values  Missing Percentage\n",
      "age                          0                 0.0\n",
      "duration                     0                 0.0\n",
      "campaign                     0                 0.0\n",
      "pdays                        0                 0.0\n",
      "previous                     0                 0.0\n",
      "emp.var.rate                 0                 0.0\n",
      "cons.price.idx               0                 0.0\n",
      "cons.conf.idx                0                 0.0\n",
      "euribor3m                    0                 0.0\n",
      "nr.employed                  0                 0.0\n",
      "y                            0                 0.0\n"
     ]
    }
   ],
   "source": [
    "# Check for missing values\n",
    "missing_values = data.isnull().sum()\n",
    "missing_percentage = (missing_values / len(data)) * 100\n",
    "\n",
    "# Create a DataFrame to display missing value information\n",
    "missing_data = pd.DataFrame({'Missing Values': missing_values, 'Missing Percentage': missing_percentage})\n",
    "missing_data.sort_values(by='Missing Percentage', ascending=False, inplace=True)\n",
    "\n",
    "print(missing_data)"
   ]
  },
  {
   "cell_type": "markdown",
   "metadata": {
    "id": "FFHPAeTQbHBu"
   },
   "source": [
    "<table align=\"left\">\n",
    "    <tr>\n",
    "        <td>\n",
    "            <div align=\"left\", style=\"font-size:120%\">\n",
    "                <font color=\"#21618C\">\n",
    "                    <b>Remove the outliers (if any) </b>\n",
    "                </font>\n",
    "            </div>\n",
    "        </td>\n",
    "    </tr>\n",
    "</table>"
   ]
  },
  {
   "cell_type": "code",
   "execution_count": 6,
   "metadata": {
    "id": "FAyLiFcSbHBw"
   },
   "outputs": [
    {
     "data": {
      "image/png": "[encoded data removed]",
      "text/plain": [
       "<Figure size 864x576 with 10 Axes>"
      ]
     },
     "metadata": {
      "needs_background": "light"
     },
     "output_type": "display_data"
    }
   ],
   "source": [
    "import matplotlib.pyplot as plt\n",
    "\n",
    "# Select the numerical columns\n",
    "numerical_columns = ['age', 'duration', 'campaign', 'pdays', 'previous', 'emp.var.rate', 'cons.price.idx', 'cons.conf.idx', 'euribor3m', 'nr.employed']\n",
    "\n",
    "# Create box plots for each numerical column\n",
    "fig, axes = plt.subplots(nrows=2, ncols=5, figsize=(12, 8))\n",
    "axes = axes.flatten()\n",
    "\n",
    "for i, col in enumerate(numerical_columns):\n",
    "    ax = axes[i]\n",
    "    ax.boxplot(data[col])\n",
    "    ax.set_title(col)\n",
    "    ax.set_ylabel(col)\n",
    "\n",
    "plt.tight_layout()\n",
    "plt.show()"
   ]
  },
  {
   "cell_type": "code",
   "execution_count": 7,
   "metadata": {},
   "outputs": [],
   "source": [
    "# Set the percentile thresholds\n",
    "lower_threshold = 0.01\n",
    "upper_threshold = 0.99\n",
    "\n",
    "# Iterate over each numerical column\n",
    "numerical_columns = ['age', 'duration', 'campaign', 'pdays', 'previous', 'emp.var.rate', 'cons.price.idx', 'cons.conf.idx', 'euribor3m', 'nr.employed']\n",
    "for col in numerical_columns:\n",
    "    # Calculate the lower and upper limits\n",
    "    lower_limit = data[col].quantile(lower_threshold)\n",
    "    upper_limit = data[col].quantile(upper_threshold)\n",
    "    \n",
    "    # Apply capping to the column\n",
    "    data[col] = data[col].clip(lower_limit, upper_limit)"
   ]
  },
  {
   "cell_type": "code",
   "execution_count": 8,
   "metadata": {},
   "outputs": [
    {
     "data": {
      "image/png": "[encoded data removed]",
      "text/plain": [
       "<Figure size 864x576 with 10 Axes>"
      ]
     },
     "metadata": {
      "needs_background": "light"
     },
     "output_type": "display_data"
    }
   ],
   "source": [
    "# Select the numerical columns\n",
    "numerical_columns = ['age', 'duration', 'campaign', 'pdays', 'previous', 'emp.var.rate', 'cons.price.idx', 'cons.conf.idx', 'euribor3m', 'nr.employed']\n",
    "\n",
    "# Create box plots for each numerical column\n",
    "fig, axes = plt.subplots(nrows=2, ncols=5, figsize=(12, 8))\n",
    "axes = axes.flatten()\n",
    "\n",
    "for i, col in enumerate(numerical_columns):\n",
    "    ax = axes[i]\n",
    "    ax.boxplot(data[col])\n",
    "    ax.set_title(col)\n",
    "    ax.set_ylabel(col)\n",
    "\n",
    "plt.tight_layout()\n",
    "plt.show()"
   ]
  },
  {
   "cell_type": "markdown",
   "metadata": {
    "id": "6INDLtkYbHBx"
   },
   "source": [
    "<table align=\"left\">\n",
    "    <tr>\n",
    "        <td>\n",
    "            <div align=\"left\", style=\"font-size:120%\">\n",
    "                <font color=\"#21618C\">\n",
    "                    <b>Separate the dependent and the independent variables. Also, in the target variable, replace yes with 0 and no with 1 </b>\n",
    "                </font>\n",
    "            </div>\n",
    "        </td>\n",
    "    </tr>\n",
    "</table>"
   ]
  },
  {
   "cell_type": "code",
   "execution_count": 9,
   "metadata": {
    "id": "UxkqgSUsbHBy"
   },
   "outputs": [],
   "source": [
    "# Separate the dependent variable (target) and independent variables\n",
    "X = data.drop('y', axis=1)\n",
    "y = data['y']\n",
    "\n",
    "# Replace 'yes' with 0 and 'no' with 1 in the target variable\n",
    "y = y.replace({'yes': 0, 'no': 1})"
   ]
  },
  {
   "cell_type": "code",
   "execution_count": 10,
   "metadata": {},
   "outputs": [
    {
     "data": {
      "text/html": [
       "<div>\n",
       "<style scoped>\n",
       "    .dataframe tbody tr th:only-of-type {\n",
       "        vertical-align: middle;\n",
       "    }\n",
       "\n",
       "    .dataframe tbody tr th {\n",
       "        vertical-align: top;\n",
       "    }\n",
       "\n",
       "    .dataframe thead th {\n",
       "        text-align: right;\n",
       "    }\n",
       "</style>\n",
       "<table border=\"1\" class=\"dataframe\">\n",
       "  <thead>\n",
       "    <tr style=\"text-align: right;\">\n",
       "      <th></th>\n",
       "      <th>age</th>\n",
       "      <th>duration</th>\n",
       "      <th>campaign</th>\n",
       "      <th>pdays</th>\n",
       "      <th>previous</th>\n",
       "      <th>emp.var.rate</th>\n",
       "      <th>cons.price.idx</th>\n",
       "      <th>cons.conf.idx</th>\n",
       "      <th>euribor3m</th>\n",
       "      <th>nr.employed</th>\n",
       "    </tr>\n",
       "  </thead>\n",
       "  <tbody>\n",
       "    <tr>\n",
       "      <th>0</th>\n",
       "      <td>32.0</td>\n",
       "      <td>205.0</td>\n",
       "      <td>2.0</td>\n",
       "      <td>999.0</td>\n",
       "      <td>0.0</td>\n",
       "      <td>1.1</td>\n",
       "      <td>93.994</td>\n",
       "      <td>-36.4</td>\n",
       "      <td>4.858</td>\n",
       "      <td>5191.0</td>\n",
       "    </tr>\n",
       "    <tr>\n",
       "      <th>1</th>\n",
       "      <td>32.0</td>\n",
       "      <td>691.0</td>\n",
       "      <td>10.0</td>\n",
       "      <td>999.0</td>\n",
       "      <td>0.0</td>\n",
       "      <td>1.4</td>\n",
       "      <td>93.918</td>\n",
       "      <td>-42.7</td>\n",
       "      <td>4.960</td>\n",
       "      <td>5228.1</td>\n",
       "    </tr>\n",
       "    <tr>\n",
       "      <th>2</th>\n",
       "      <td>45.0</td>\n",
       "      <td>45.0</td>\n",
       "      <td>8.0</td>\n",
       "      <td>999.0</td>\n",
       "      <td>0.0</td>\n",
       "      <td>1.4</td>\n",
       "      <td>93.444</td>\n",
       "      <td>-36.1</td>\n",
       "      <td>4.963</td>\n",
       "      <td>5228.1</td>\n",
       "    </tr>\n",
       "    <tr>\n",
       "      <th>3</th>\n",
       "      <td>33.0</td>\n",
       "      <td>400.0</td>\n",
       "      <td>1.0</td>\n",
       "      <td>5.0</td>\n",
       "      <td>2.0</td>\n",
       "      <td>-1.1</td>\n",
       "      <td>94.601</td>\n",
       "      <td>-49.5</td>\n",
       "      <td>1.032</td>\n",
       "      <td>4963.6</td>\n",
       "    </tr>\n",
       "    <tr>\n",
       "      <th>4</th>\n",
       "      <td>47.0</td>\n",
       "      <td>903.0</td>\n",
       "      <td>2.0</td>\n",
       "      <td>999.0</td>\n",
       "      <td>1.0</td>\n",
       "      <td>-1.8</td>\n",
       "      <td>93.075</td>\n",
       "      <td>-47.1</td>\n",
       "      <td>1.415</td>\n",
       "      <td>5099.1</td>\n",
       "    </tr>\n",
       "    <tr>\n",
       "      <th>...</th>\n",
       "      <td>...</td>\n",
       "      <td>...</td>\n",
       "      <td>...</td>\n",
       "      <td>...</td>\n",
       "      <td>...</td>\n",
       "      <td>...</td>\n",
       "      <td>...</td>\n",
       "      <td>...</td>\n",
       "      <td>...</td>\n",
       "      <td>...</td>\n",
       "    </tr>\n",
       "    <tr>\n",
       "      <th>9635</th>\n",
       "      <td>37.0</td>\n",
       "      <td>854.0</td>\n",
       "      <td>3.0</td>\n",
       "      <td>999.0</td>\n",
       "      <td>0.0</td>\n",
       "      <td>1.4</td>\n",
       "      <td>94.465</td>\n",
       "      <td>-41.8</td>\n",
       "      <td>4.961</td>\n",
       "      <td>5228.1</td>\n",
       "    </tr>\n",
       "    <tr>\n",
       "      <th>9636</th>\n",
       "      <td>40.0</td>\n",
       "      <td>353.0</td>\n",
       "      <td>2.0</td>\n",
       "      <td>999.0</td>\n",
       "      <td>0.0</td>\n",
       "      <td>1.4</td>\n",
       "      <td>93.918</td>\n",
       "      <td>-42.7</td>\n",
       "      <td>4.960</td>\n",
       "      <td>5228.1</td>\n",
       "    </tr>\n",
       "    <tr>\n",
       "      <th>9637</th>\n",
       "      <td>42.0</td>\n",
       "      <td>86.0</td>\n",
       "      <td>1.0</td>\n",
       "      <td>999.0</td>\n",
       "      <td>1.0</td>\n",
       "      <td>-0.1</td>\n",
       "      <td>93.200</td>\n",
       "      <td>-42.0</td>\n",
       "      <td>4.191</td>\n",
       "      <td>5195.8</td>\n",
       "    </tr>\n",
       "    <tr>\n",
       "      <th>9638</th>\n",
       "      <td>39.0</td>\n",
       "      <td>233.0</td>\n",
       "      <td>1.0</td>\n",
       "      <td>999.0</td>\n",
       "      <td>0.0</td>\n",
       "      <td>1.4</td>\n",
       "      <td>94.465</td>\n",
       "      <td>-41.8</td>\n",
       "      <td>4.864</td>\n",
       "      <td>5228.1</td>\n",
       "    </tr>\n",
       "    <tr>\n",
       "      <th>9639</th>\n",
       "      <td>35.0</td>\n",
       "      <td>417.0</td>\n",
       "      <td>1.0</td>\n",
       "      <td>999.0</td>\n",
       "      <td>0.0</td>\n",
       "      <td>1.4</td>\n",
       "      <td>94.465</td>\n",
       "      <td>-41.8</td>\n",
       "      <td>4.962</td>\n",
       "      <td>5228.1</td>\n",
       "    </tr>\n",
       "  </tbody>\n",
       "</table>\n",
       "<p>9640 rows × 10 columns</p>\n",
       "</div>"
      ],
      "text/plain": [
       "       age  duration  campaign  pdays  previous  emp.var.rate  cons.price.idx  \\\n",
       "0     32.0     205.0       2.0  999.0       0.0           1.1          93.994   \n",
       "1     32.0     691.0      10.0  999.0       0.0           1.4          93.918   \n",
       "2     45.0      45.0       8.0  999.0       0.0           1.4          93.444   \n",
       "3     33.0     400.0       1.0    5.0       2.0          -1.1          94.601   \n",
       "4     47.0     903.0       2.0  999.0       1.0          -1.8          93.075   \n",
       "...    ...       ...       ...    ...       ...           ...             ...   \n",
       "9635  37.0     854.0       3.0  999.0       0.0           1.4          94.465   \n",
       "9636  40.0     353.0       2.0  999.0       0.0           1.4          93.918   \n",
       "9637  42.0      86.0       1.0  999.0       1.0          -0.1          93.200   \n",
       "9638  39.0     233.0       1.0  999.0       0.0           1.4          94.465   \n",
       "9639  35.0     417.0       1.0  999.0       0.0           1.4          94.465   \n",
       "\n",
       "      cons.conf.idx  euribor3m  nr.employed  \n",
       "0             -36.4      4.858       5191.0  \n",
       "1             -42.7      4.960       5228.1  \n",
       "2             -36.1      4.963       5228.1  \n",
       "3             -49.5      1.032       4963.6  \n",
       "4             -47.1      1.415       5099.1  \n",
       "...             ...        ...          ...  \n",
       "9635          -41.8      4.961       5228.1  \n",
       "9636          -42.7      4.960       5228.1  \n",
       "9637          -42.0      4.191       5195.8  \n",
       "9638          -41.8      4.864       5228.1  \n",
       "9639          -41.8      4.962       5228.1  \n",
       "\n",
       "[9640 rows x 10 columns]"
      ]
     },
     "execution_count": 10,
     "metadata": {},
     "output_type": "execute_result"
    }
   ],
   "source": [
    "X"
   ]
  },
  {
   "cell_type": "code",
   "execution_count": 11,
   "metadata": {},
   "outputs": [
    {
     "data": {
      "text/plain": [
       "0       1\n",
       "1       0\n",
       "2       1\n",
       "3       0\n",
       "4       0\n",
       "       ..\n",
       "9635    1\n",
       "9636    1\n",
       "9637    1\n",
       "9638    1\n",
       "9639    1\n",
       "Name: y, Length: 9640, dtype: int64"
      ]
     },
     "execution_count": 11,
     "metadata": {},
     "output_type": "execute_result"
    }
   ],
   "source": [
    "y"
   ]
  },
  {
   "cell_type": "markdown",
   "metadata": {
    "id": "aav8Z0_ObHB0"
   },
   "source": [
    "<table align=\"left\">\n",
    "    <tr>\n",
    "        <td>\n",
    "            <div align=\"left\", style=\"font-size:120%\">\n",
    "                <font color=\"#21618C\">\n",
    "                    <b>Remove the unnecessary variables that will not contribute to the model. </b>\n",
    "                </font>\n",
    "            </div>\n",
    "        </td>\n",
    "    </tr>\n",
    "</table>"
   ]
  },
  {
   "cell_type": "raw",
   "metadata": {
    "id": "gRHV17qQbHB1"
   },
   "source": [
    "Based on the given information about the dataset, it's challenging to determine definitively which columns might be unnecessary without having a deeper understanding of the data and the specific modeling task. However, I can provide some general guidance on identifying potentially unnecessary columns.\n",
    "\n",
    "Here are a few considerations to help identify columns that may not contribute significantly to the model:\n",
    "\n",
    "Unique identifiers: If the dataset contains unique identifiers such as client IDs, customer names, or other irrelevant identification numbers, these columns can be dropped as they do not provide any meaningful information for the modeling task.\n",
    "\n",
    "Highly correlated features: If there are multiple columns that are highly correlated with each other, keeping all of them in the model may introduce multicollinearity. In such cases, you can consider dropping one of the highly correlated columns to avoid redundancy.\n",
    "\n",
    "Irrelevant or redundant information: Look for columns that provide irrelevant or redundant information for the modeling task. For example, if a column contains constant values or doesn't have any meaningful variation, it may not contribute to the model's predictive power.\n",
    "\n",
    "Domain knowledge: Consider the domain knowledge and expertise related to the specific modeling task. If you have knowledge about the data and understand that certain columns are unlikely to have a significant impact on the outcome, they can be dropped.\n",
    "\n",
    "It's important to note that the determination of unnecessary columns depends on the specific context and requirements of your modeling task. Therefore, it's advisable to carefully analyze the dataset, consult with domain experts if available, and make informed decisions about which columns to keep and which to remove based on your specific needs."
   ]
  },
  {
   "cell_type": "markdown",
   "metadata": {
    "id": "r4UVaROYbHB2"
   },
   "source": [
    "<table align=\"left\">\n",
    "    <tr>\n",
    "        <td>\n",
    "            <div align=\"left\", style=\"font-size:120%\">\n",
    "                <font color=\"#21618C\">\n",
    "                    <b>Plot the distribution of all the numeric variables and find the value of skewness for each variable. </b>\n",
    "                </font>\n",
    "            </div>\n",
    "        </td>\n",
    "    </tr>\n",
    "</table>"
   ]
  },
  {
   "cell_type": "code",
   "execution_count": 12,
   "metadata": {
    "id": "ohhwszQxbHB4"
   },
   "outputs": [
    {
     "data": {
      "image/png": "[encoded data removed]",
      "text/plain": [
       "<Figure size 432x288 with 1 Axes>"
      ]
     },
     "metadata": {
      "needs_background": "light"
     },
     "output_type": "display_data"
    },
    {
     "data": {
      "image/png": "[encoded data removed]",
      "text/plain": [
       "<Figure size 432x288 with 1 Axes>"
      ]
     },
     "metadata": {
      "needs_background": "light"
     },
     "output_type": "display_data"
    },
    {
     "data": {
      "image/png": "[encoded data removed]",
      "text/plain": [
       "<Figure size 432x288 with 1 Axes>"
      ]
     },
     "metadata": {
      "needs_background": "light"
     },
     "output_type": "display_data"
    },
    {
     "data": {
      "image/png": "[encoded data removed]",
      "text/plain": [
       "<Figure size 432x288 with 1 Axes>"
      ]
     },
     "metadata": {
      "needs_background": "light"
     },
     "output_type": "display_data"
    },
    {
     "data": {
      "image/png": "[encoded data removed]",
      "text/plain": [
       "<Figure size 432x288 with 1 Axes>"
      ]
     },
     "metadata": {
      "needs_background": "light"
     },
     "output_type": "display_data"
    },
    {
     "data": {
      "image/png": "[encoded data removed]",
      "text/plain": [
       "<Figure size 432x288 with 1 Axes>"
      ]
     },
     "metadata": {
      "needs_background": "light"
     },
     "output_type": "display_data"
    },
    {
     "data": {
      "image/png": "[encoded data removed]",
      "text/plain": [
       "<Figure size 432x288 with 1 Axes>"
      ]
     },
     "metadata": {
      "needs_background": "light"
     },
     "output_type": "display_data"
    },
    {
     "data": {
      "image/png": "[encoded data removed]",
      "text/plain": [
       "<Figure size 432x288 with 1 Axes>"
      ]
     },
     "metadata": {
      "needs_background": "light"
     },
     "output_type": "display_data"
    },
    {
     "data": {
      "image/png": "[encoded data removed]",
      "text/plain": [
       "<Figure size 432x288 with 1 Axes>"
      ]
     },
     "metadata": {
      "needs_background": "light"
     },
     "output_type": "display_data"
    },
    {
     "data": {
      "image/png": "[encoded data removed]",
      "text/plain": [
       "<Figure size 432x288 with 1 Axes>"
      ]
     },
     "metadata": {
      "needs_background": "light"
     },
     "output_type": "display_data"
    }
   ],
   "source": [
    "import seaborn as sns\n",
    "# Select numeric columns\n",
    "numeric_columns = data.select_dtypes(include=['int64', 'float64']).columns\n",
    "\n",
    "# Plot the distribution of numeric variables\n",
    "for column in numeric_columns:\n",
    "    sns.histplot(data[column])\n",
    "    plt.title(f'Distribution of {column}')\n",
    "    plt.show()\n",
    "\n"
   ]
  },
  {
   "cell_type": "code",
   "execution_count": 13,
   "metadata": {},
   "outputs": [
    {
     "name": "stdout",
     "output_type": "stream",
     "text": [
      "Skewness:\n",
      "age               0.893615\n",
      "duration          1.582500\n",
      "campaign          2.494168\n",
      "pdays            -2.549352\n",
      "previous          2.388135\n",
      "emp.var.rate     -0.181234\n",
      "cons.price.idx   -0.142934\n",
      "cons.conf.idx     0.362093\n",
      "euribor3m        -0.058310\n",
      "nr.employed      -0.463581\n",
      "dtype: float64\n"
     ]
    }
   ],
   "source": [
    "# Calculate the skewness for each variable\n",
    "skewness = data[numeric_columns].skew()\n",
    "print(\"Skewness:\")\n",
    "print(skewness)"
   ]
  },
  {
   "cell_type": "markdown",
   "metadata": {
    "id": "CW77zNXjbHB5"
   },
   "source": [
    "<table align=\"left\">\n",
    "    <tr>\n",
    "        <td>\n",
    "            <div align=\"left\", style=\"font-size:120%\">\n",
    "                <font color=\"#21618C\">\n",
    "                    <b>Plot the distribution of the target variable.</b>\n",
    "                </font>\n",
    "            </div>\n",
    "        </td>\n",
    "    </tr>\n",
    "</table>"
   ]
  },
  {
   "cell_type": "code",
   "execution_count": 14,
   "metadata": {
    "id": "5o9Y76mgbHB6"
   },
   "outputs": [
    {
     "data": {
      "image/png": "[encoded data removed]",
      "text/plain": [
       "<Figure size 576x432 with 1 Axes>"
      ]
     },
     "metadata": {
      "needs_background": "light"
     },
     "output_type": "display_data"
    }
   ],
   "source": [
    "plt.figure(figsize=(8, 6))\n",
    "data['y'].value_counts().plot(kind='bar')\n",
    "plt.title('Distribution of Target Variable')\n",
    "plt.xlabel('Target Variable')\n",
    "plt.ylabel('Count')\n",
    "plt.show()"
   ]
  },
  {
   "cell_type": "markdown",
   "metadata": {
    "id": "Fax-hYXbbHB6"
   },
   "source": [
    "<table align=\"left\">\n",
    "    <tr>\n",
    "        <td>\n",
    "            <div align=\"left\", style=\"font-size:120%\">\n",
    "                <font color=\"#21618C\">\n",
    "                    <b>Scale all the numeric variables using standard scalar.</b>\n",
    "                </font>\n",
    "            </div>\n",
    "        </td>\n",
    "    </tr>\n",
    "</table>"
   ]
  },
  {
   "cell_type": "code",
   "execution_count": 15,
   "metadata": {
    "id": "LHf2wilWbHB7"
   },
   "outputs": [],
   "source": [
    "from sklearn.preprocessing import StandardScaler\n",
    "# Create a StandardScaler object\n",
    "scaler = StandardScaler()\n",
    "\n",
    "# Scale the numeric variables\n",
    "data[numeric_columns] = scaler.fit_transform(data[numeric_columns])"
   ]
  },
  {
   "cell_type": "code",
   "execution_count": 16,
   "metadata": {},
   "outputs": [
    {
     "data": {
      "text/html": [
       "<div>\n",
       "<style scoped>\n",
       "    .dataframe tbody tr th:only-of-type {\n",
       "        vertical-align: middle;\n",
       "    }\n",
       "\n",
       "    .dataframe tbody tr th {\n",
       "        vertical-align: top;\n",
       "    }\n",
       "\n",
       "    .dataframe thead th {\n",
       "        text-align: right;\n",
       "    }\n",
       "</style>\n",
       "<table border=\"1\" class=\"dataframe\">\n",
       "  <thead>\n",
       "    <tr style=\"text-align: right;\">\n",
       "      <th></th>\n",
       "      <th>age</th>\n",
       "      <th>duration</th>\n",
       "      <th>campaign</th>\n",
       "      <th>pdays</th>\n",
       "      <th>previous</th>\n",
       "      <th>emp.var.rate</th>\n",
       "      <th>cons.price.idx</th>\n",
       "      <th>cons.conf.idx</th>\n",
       "      <th>euribor3m</th>\n",
       "      <th>nr.employed</th>\n",
       "    </tr>\n",
       "  </thead>\n",
       "  <tbody>\n",
       "    <tr>\n",
       "      <th>0</th>\n",
       "      <td>-0.705287</td>\n",
       "      <td>-0.512891</td>\n",
       "      <td>-0.148821</td>\n",
       "      <td>0.345495</td>\n",
       "      <td>-0.464270</td>\n",
       "      <td>0.908285</td>\n",
       "      <td>0.810242</td>\n",
       "      <td>0.726681</td>\n",
       "      <td>0.983269</td>\n",
       "      <td>0.620697</td>\n",
       "    </tr>\n",
       "    <tr>\n",
       "      <th>1</th>\n",
       "      <td>-0.705287</td>\n",
       "      <td>0.953196</td>\n",
       "      <td>3.979373</td>\n",
       "      <td>0.345495</td>\n",
       "      <td>-0.464270</td>\n",
       "      <td>1.082931</td>\n",
       "      <td>0.689391</td>\n",
       "      <td>-0.459614</td>\n",
       "      <td>1.037353</td>\n",
       "      <td>1.050379</td>\n",
       "    </tr>\n",
       "    <tr>\n",
       "      <th>2</th>\n",
       "      <td>0.406270</td>\n",
       "      <td>-0.995553</td>\n",
       "      <td>2.947324</td>\n",
       "      <td>0.345495</td>\n",
       "      <td>-0.464270</td>\n",
       "      <td>1.082931</td>\n",
       "      <td>-0.064335</td>\n",
       "      <td>0.783171</td>\n",
       "      <td>1.038944</td>\n",
       "      <td>1.050379</td>\n",
       "    </tr>\n",
       "    <tr>\n",
       "      <th>3</th>\n",
       "      <td>-0.619782</td>\n",
       "      <td>0.075354</td>\n",
       "      <td>-0.664845</td>\n",
       "      <td>-2.897706</td>\n",
       "      <td>2.650248</td>\n",
       "      <td>-0.372451</td>\n",
       "      <td>1.775456</td>\n",
       "      <td>-1.740060</td>\n",
       "      <td>-1.045415</td>\n",
       "      <td>-2.012985</td>\n",
       "    </tr>\n",
       "    <tr>\n",
       "      <th>4</th>\n",
       "      <td>0.577278</td>\n",
       "      <td>1.592724</td>\n",
       "      <td>-0.148821</td>\n",
       "      <td>0.345495</td>\n",
       "      <td>1.092989</td>\n",
       "      <td>-0.779958</td>\n",
       "      <td>-0.651096</td>\n",
       "      <td>-1.288138</td>\n",
       "      <td>-0.842335</td>\n",
       "      <td>-0.443662</td>\n",
       "    </tr>\n",
       "    <tr>\n",
       "      <th>...</th>\n",
       "      <td>...</td>\n",
       "      <td>...</td>\n",
       "      <td>...</td>\n",
       "      <td>...</td>\n",
       "      <td>...</td>\n",
       "      <td>...</td>\n",
       "      <td>...</td>\n",
       "      <td>...</td>\n",
       "      <td>...</td>\n",
       "      <td>...</td>\n",
       "    </tr>\n",
       "    <tr>\n",
       "      <th>9635</th>\n",
       "      <td>-0.277765</td>\n",
       "      <td>1.444908</td>\n",
       "      <td>0.367203</td>\n",
       "      <td>0.345495</td>\n",
       "      <td>-0.464270</td>\n",
       "      <td>1.082931</td>\n",
       "      <td>1.559197</td>\n",
       "      <td>-0.290143</td>\n",
       "      <td>1.037883</td>\n",
       "      <td>1.050379</td>\n",
       "    </tr>\n",
       "    <tr>\n",
       "      <th>9636</th>\n",
       "      <td>-0.021252</td>\n",
       "      <td>-0.066428</td>\n",
       "      <td>-0.148821</td>\n",
       "      <td>0.345495</td>\n",
       "      <td>-0.464270</td>\n",
       "      <td>1.082931</td>\n",
       "      <td>0.689391</td>\n",
       "      <td>-0.459614</td>\n",
       "      <td>1.037353</td>\n",
       "      <td>1.050379</td>\n",
       "    </tr>\n",
       "    <tr>\n",
       "      <th>9637</th>\n",
       "      <td>0.149757</td>\n",
       "      <td>-0.871871</td>\n",
       "      <td>-0.664845</td>\n",
       "      <td>0.345495</td>\n",
       "      <td>1.092989</td>\n",
       "      <td>0.209702</td>\n",
       "      <td>-0.452329</td>\n",
       "      <td>-0.327804</td>\n",
       "      <td>0.629601</td>\n",
       "      <td>0.676289</td>\n",
       "    </tr>\n",
       "    <tr>\n",
       "      <th>9638</th>\n",
       "      <td>-0.106756</td>\n",
       "      <td>-0.428425</td>\n",
       "      <td>-0.664845</td>\n",
       "      <td>0.345495</td>\n",
       "      <td>-0.464270</td>\n",
       "      <td>1.082931</td>\n",
       "      <td>1.559197</td>\n",
       "      <td>-0.290143</td>\n",
       "      <td>0.986450</td>\n",
       "      <td>1.050379</td>\n",
       "    </tr>\n",
       "    <tr>\n",
       "      <th>9639</th>\n",
       "      <td>-0.448774</td>\n",
       "      <td>0.126637</td>\n",
       "      <td>-0.664845</td>\n",
       "      <td>0.345495</td>\n",
       "      <td>-0.464270</td>\n",
       "      <td>1.082931</td>\n",
       "      <td>1.559197</td>\n",
       "      <td>-0.290143</td>\n",
       "      <td>1.038413</td>\n",
       "      <td>1.050379</td>\n",
       "    </tr>\n",
       "  </tbody>\n",
       "</table>\n",
       "<p>9640 rows × 10 columns</p>\n",
       "</div>"
      ],
      "text/plain": [
       "           age  duration  campaign     pdays  previous  emp.var.rate  \\\n",
       "0    -0.705287 -0.512891 -0.148821  0.345495 -0.464270      0.908285   \n",
       "1    -0.705287  0.953196  3.979373  0.345495 -0.464270      1.082931   \n",
       "2     0.406270 -0.995553  2.947324  0.345495 -0.464270      1.082931   \n",
       "3    -0.619782  0.075354 -0.664845 -2.897706  2.650248     -0.372451   \n",
       "4     0.577278  1.592724 -0.148821  0.345495  1.092989     -0.779958   \n",
       "...        ...       ...       ...       ...       ...           ...   \n",
       "9635 -0.277765  1.444908  0.367203  0.345495 -0.464270      1.082931   \n",
       "9636 -0.021252 -0.066428 -0.148821  0.345495 -0.464270      1.082931   \n",
       "9637  0.149757 -0.871871 -0.664845  0.345495  1.092989      0.209702   \n",
       "9638 -0.106756 -0.428425 -0.664845  0.345495 -0.464270      1.082931   \n",
       "9639 -0.448774  0.126637 -0.664845  0.345495 -0.464270      1.082931   \n",
       "\n",
       "      cons.price.idx  cons.conf.idx  euribor3m  nr.employed  \n",
       "0           0.810242       0.726681   0.983269     0.620697  \n",
       "1           0.689391      -0.459614   1.037353     1.050379  \n",
       "2          -0.064335       0.783171   1.038944     1.050379  \n",
       "3           1.775456      -1.740060  -1.045415    -2.012985  \n",
       "4          -0.651096      -1.288138  -0.842335    -0.443662  \n",
       "...              ...            ...        ...          ...  \n",
       "9635        1.559197      -0.290143   1.037883     1.050379  \n",
       "9636        0.689391      -0.459614   1.037353     1.050379  \n",
       "9637       -0.452329      -0.327804   0.629601     0.676289  \n",
       "9638        1.559197      -0.290143   0.986450     1.050379  \n",
       "9639        1.559197      -0.290143   1.038413     1.050379  \n",
       "\n",
       "[9640 rows x 10 columns]"
      ]
     },
     "execution_count": 16,
     "metadata": {},
     "output_type": "execute_result"
    }
   ],
   "source": [
    "data[numeric_columns]"
   ]
  },
  {
   "cell_type": "markdown",
   "metadata": {
    "id": "Ca0_IAwVbHB7"
   },
   "source": [
    "<a id=\"logreg\"> </a>\n",
    "## 2. Logistic regression model"
   ]
  },
  {
   "cell_type": "code",
   "execution_count": null,
   "metadata": {
    "id": "j5OlzQoebHB8"
   },
   "outputs": [],
   "source": []
  },
  {
   "cell_type": "markdown",
   "metadata": {
    "collapsed": true,
    "id": "7PG3S_LBbHB8",
    "jupyter": {
     "outputs_hidden": true
    }
   },
   "source": [
    "<table align=\"left\">\n",
    "    <tr>\n",
    "        <td>\n",
    "            <div align=\"left\", style=\"font-size:120%\">\n",
    "                <font color=\"#21618C\">\n",
    "                    <b>How does a unit change in each feature influence the odds of a client subscribed a term deposit or not?</b>\n",
    "                </font>\n",
    "            </div>\n",
    "        </td>\n",
    "    </tr>\n",
    "</table>"
   ]
  },
  {
   "cell_type": "raw",
   "metadata": {},
   "source": [
    "To understand how a unit change in each feature influences the odds of a client subscribing to a term deposit, you can use a logistic regression model. Logistic regression provides coefficients that can be interpreted as the log-odds of the target variable."
   ]
  },
  {
   "cell_type": "code",
   "execution_count": 17,
   "metadata": {
    "id": "IjSbeTFobHB9"
   },
   "outputs": [
    {
     "name": "stdout",
     "output_type": "stream",
     "text": [
      "Feature: age, Coefficient: -0.00271794074067542\n",
      "Feature: duration, Coefficient: -0.006702206031637094\n",
      "Feature: campaign, Coefficient: -0.0007357151078200147\n",
      "Feature: pdays, Coefficient: 0.0018856505508126633\n",
      "Feature: previous, Coefficient: 0.03572118813709743\n",
      "Feature: emp.var.rate, Coefficient: 0.3505183756407891\n",
      "Feature: cons.price.idx, Coefficient: -0.28576241989053724\n",
      "Feature: cons.conf.idx, Coefficient: -0.05044283236795972\n",
      "Feature: euribor3m, Coefficient: 0.32566680720100305\n",
      "Feature: nr.employed, Coefficient: 0.004818579544665857\n"
     ]
    },
    {
     "name": "stderr",
     "output_type": "stream",
     "text": [
      "C:\\Users\\ROYAL\\anaconda3\\lib\\site-packages\\sklearn\\linear_model\\_logistic.py:814: ConvergenceWarning: lbfgs failed to converge (status=1):\n",
      "STOP: TOTAL NO. of ITERATIONS REACHED LIMIT.\n",
      "\n",
      "Increase the number of iterations (max_iter) or scale the data as shown in:\n",
      "    https://scikit-learn.org/stable/modules/preprocessing.html\n",
      "Please also refer to the documentation for alternative solver options:\n",
      "    https://scikit-learn.org/stable/modules/linear_model.html#logistic-regression\n",
      "  n_iter_i = _check_optimize_result(\n"
     ]
    }
   ],
   "source": [
    "# Fit a logistic regression model\n",
    "logreg = LogisticRegression()\n",
    "logreg.fit(X, y)\n",
    "\n",
    "# Retrieve the coefficients (log-odds)\n",
    "coefficients = logreg.coef_[0]\n",
    "\n",
    "# Retrieve the feature names\n",
    "feature_names = X.columns\n",
    "\n",
    "# Print the interpretation of coefficients\n",
    "for feature, coef in zip(feature_names, coefficients):\n",
    "    print(f\"Feature: {feature}, Coefficient: {coef}\")"
   ]
  },
  {
   "cell_type": "raw",
   "metadata": {},
   "source": [
    "Next, we fit a logistic regression model on the data using LogisticRegression from scikit-learn. The model learns the coefficients for each feature that represent the log-odds of the target variable.\n",
    "\n",
    "We retrieve the coefficients using logreg.coef_, which returns a 2-dimensional array. We access the coefficients for the first class (not subscribed) using logreg.coef_[0].\n",
    "\n",
    "We also retrieve the feature names using X.columns.\n",
    "\n",
    "Finally, we iterate over the feature names and coefficients, printing the interpretation of each coefficient. A positive coefficient indicates that an increase in the corresponding feature value increases the log-odds (and thus the odds) of a client subscribing to a term deposit, while a negative coefficient indicates the opposite.\n",
    "\n",
    "By examining the coefficients, you can gain insights into the influence of each feature on the odds of a client subscribing to a term deposit."
   ]
  },
  {
   "cell_type": "markdown",
   "metadata": {
    "id": "JJ-vOcmMbHB-"
   },
   "source": [
    "<table align=\"left\">\n",
    "    <tr>\n",
    "        <td>\n",
    "            <div align=\"left\", style=\"font-size:120%\">\n",
    "                <font color=\"#21618C\">\n",
    "                    <b>Determining optimal threshold</b>\n",
    "                </font>\n",
    "            </div>\n",
    "        </td>\n",
    "    </tr>\n",
    "</table>"
   ]
  },
  {
   "cell_type": "code",
   "execution_count": 18,
   "metadata": {
    "id": "-KOJdF35bHB-"
   },
   "outputs": [
    {
     "name": "stdout",
     "output_type": "stream",
     "text": [
      "Best Threshold: 0.4\n",
      "Best F1-Score: 0.8520992366412213\n"
     ]
    }
   ],
   "source": [
    "# Split the data into training and testing sets\n",
    "X_train, X_test, y_train, y_test = train_test_split(X, y, test_size=0.2, random_state=42)\n",
    "from sklearn.metrics import precision_recall_fscore_support\n",
    "# Predict probabilities for the test set\n",
    "y_pred_proba = logreg.predict_proba(X_test)[:, 1]\n",
    "\n",
    "# Define a range of thresholds to evaluate\n",
    "thresholds = [0.1, 0.2, 0.3, 0.4, 0.5, 0.6, 0.7, 0.8, 0.9]\n",
    "\n",
    "# Evaluate F1-score for each threshold\n",
    "best_threshold = None\n",
    "best_f1_score = 0.0\n",
    "\n",
    "for threshold in thresholds:\n",
    "    y_pred = (y_pred_proba >= threshold).astype(int)\n",
    "    _, _, f1_score, _ = precision_recall_fscore_support(y_test, y_pred, average='binary')\n",
    "    if f1_score > best_f1_score:\n",
    "        best_f1_score = f1_score\n",
    "        best_threshold = threshold\n",
    "\n",
    "print(\"Best Threshold:\", best_threshold)\n",
    "print(\"Best F1-Score:\", best_f1_score)"
   ]
  },
  {
   "cell_type": "raw",
   "metadata": {},
   "source": [
    "We split the data into training and testing sets using train_test_split from scikit-learn.\n",
    "\n",
    "Next, we fit a logistic regression model on the training data using LogisticRegression from scikit-learn. We obtain the predicted probabilities for the test set using predict_proba.\n",
    "\n",
    "We define a range of thresholds to evaluate and iterate over each threshold. For each threshold, we convert the predicted probabilities to binary predictions based on whether they are greater than or equal to the threshold. We calculate the precision, recall, F1-score, and support using precision_recall_fscore_support from scikit-learn.\n",
    "\n",
    "We track the best F1-score and its corresponding threshold and print them at the end.\n",
    "\n",
    "By examining different thresholds and their impact on the F1-score, you can determine the optimal threshold that maximizes your desired evaluation metric."
   ]
  },
  {
   "cell_type": "markdown",
   "metadata": {
    "collapsed": true,
    "id": "0oCE6T8cbHB_",
    "jupyter": {
     "outputs_hidden": true
    }
   },
   "source": [
    "<table align=\"left\">\n",
    "    <tr>\n",
    "        <td>\n",
    "            <div align=\"left\", style=\"font-size:120%\">\n",
    "                <font color=\"#21618C\">\n",
    "                        <b>For the full model, calculate the accuracy manually using the confusion matrix. Consider 0.5 as the probability threshold.</b>\n",
    "                </font>\n",
    "            </div>\n",
    "        </td>\n",
    "    </tr>\n",
    "</table>"
   ]
  },
  {
   "cell_type": "code",
   "execution_count": 19,
   "metadata": {
    "id": "41MGkqavbHCA"
   },
   "outputs": [
    {
     "name": "stdout",
     "output_type": "stream",
     "text": [
      "Confusion Matrix:\n",
      "[[781 143]\n",
      " [153 851]]\n",
      "Accuracy: 0.8464730290456431\n"
     ]
    }
   ],
   "source": [
    "from sklearn.metrics import confusion_matrix\n",
    "# Set the threshold\n",
    "threshold = 0.5\n",
    "\n",
    "# Convert probabilities to binary predictions based on the threshold\n",
    "y_pred = (y_pred_proba >= threshold).astype(int)\n",
    "\n",
    "# Calculate the confusion matrix\n",
    "confusion_mat = confusion_matrix(y_test, y_pred)\n",
    "\n",
    "# Extract the values from the confusion matrix\n",
    "true_negative, false_positive, false_negative, true_positive = confusion_mat.ravel()\n",
    "\n",
    "# Calculate the accuracy\n",
    "accuracy = (true_positive + true_negative) / (true_positive + true_negative + false_positive + false_negative)\n",
    "\n",
    "print(\"Confusion Matrix:\")\n",
    "print(confusion_mat)\n",
    "print(\"Accuracy:\", accuracy)"
   ]
  },
  {
   "cell_type": "raw",
   "metadata": {},
   "source": [
    "We set the threshold to 0.5 and convert the predicted probabilities to binary predictions based on whether they are greater than or equal to the threshold.\n",
    "\n",
    "We calculate the confusion matrix using confusion_matrix from scikit-learn.\n",
    "\n",
    "We extract the values from the confusion matrix and calculate the accuracy by dividing the sum of true positive and true negative by the total sum of all four values in the confusion matrix.\n",
    "\n",
    "Finally, we print the confusion matrix and the calculated accuracy.\n",
    "\n",
    "By manually calculating the accuracy using the confusion matrix, you can evaluate the performance of the model at a specific threshold."
   ]
  },
  {
   "cell_type": "markdown",
   "metadata": {
    "collapsed": true,
    "id": "0q8WuD0GbHCA",
    "jupyter": {
     "outputs_hidden": true
    }
   },
   "source": [
    "<table align=\"left\">\n",
    "    <tr>\n",
    "        <td>\n",
    "            <div align=\"left\", style=\"font-size:120%\">\n",
    "                <font color=\"#21618C\">\n",
    "                    <b>Calculate value of kappa for the full model . Consider threshold value as 0.18</b>\n",
    "                </font>\n",
    "            </div>\n",
    "        </td>\n",
    "    </tr>\n",
    "</table>"
   ]
  },
  {
   "cell_type": "code",
   "execution_count": 20,
   "metadata": {
    "id": "RXzL8ItsbHCB"
   },
   "outputs": [
    {
     "name": "stdout",
     "output_type": "stream",
     "text": [
      "Cohen's Kappa: 0.4475833062025395\n"
     ]
    }
   ],
   "source": [
    "from sklearn.metrics import cohen_kappa_score\n",
    "# Set the threshold\n",
    "threshold = 0.1\n",
    "\n",
    "# Convert probabilities to binary predictions based on the threshold\n",
    "y_pred = (y_pred_proba >= threshold).astype(int)\n",
    "\n",
    "# Calculate Cohen's kappa\n",
    "kappa = cohen_kappa_score(y_test, y_pred)\n",
    "\n",
    "print(\"Cohen's Kappa:\", kappa)"
   ]
  },
  {
   "cell_type": "raw",
   "metadata": {},
   "source": [
    "We set the threshold to 0.1 and convert the predicted probabilities to binary predictions based on whether they are greater than or equal to the threshold.\n",
    "\n",
    "We calculate Cohen's kappa using cohen_kappa_score from scikit-learn, which compares the agreement between the predicted and true labels while taking into account the possibility of agreement by chance.\n",
    "\n",
    "Finally, we print the value of Cohen's kappa.\n",
    "\n",
    "Cohen's kappa ranges from -1 to 1, with values closer to 1 indicating higher agreement between the predicted and true labels. A kappa value of 0 indicates agreement by chance, while negative values indicate agreement worse than chance."
   ]
  },
  {
   "cell_type": "markdown",
   "metadata": {
    "collapsed": true,
    "id": "8iWBB-k5bHCC",
    "jupyter": {
     "outputs_hidden": true
    }
   },
   "source": [
    "<table align=\"left\">\n",
    "    <tr>\n",
    "        <td>\n",
    "            <div align=\"left\", style=\"font-size:120%\">\n",
    "                <font color=\"#21618C\">\n",
    "                    <b>Calculate the cross entropy for the logistic regression model.</b>\n",
    "                </font>\n",
    "            </div>\n",
    "        </td>\n",
    "    </tr>\n",
    "</table>"
   ]
  },
  {
   "cell_type": "code",
   "execution_count": 21,
   "metadata": {
    "id": "vwOlktkYbHCD"
   },
   "outputs": [
    {
     "name": "stdout",
     "output_type": "stream",
     "text": [
      "Cross-Entropy Loss: 0.3608536907115025\n"
     ]
    }
   ],
   "source": [
    "from sklearn.metrics import log_loss\n",
    "# Calculate the cross-entropy loss\n",
    "cross_entropy = log_loss(y_test, y_pred_proba)\n",
    "\n",
    "print(\"Cross-Entropy Loss:\", cross_entropy)"
   ]
  },
  {
   "cell_type": "raw",
   "metadata": {},
   "source": [
    "We calculate the cross-entropy loss using log_loss from scikit-learn, which measures the difference between the true labels and predicted probabilities. It is a commonly used loss function for binary classification problems.\n",
    "\n",
    "Finally, we print the value of the cross-entropy loss.\n",
    "\n",
    "Lower values of cross-entropy indicate better performance of the logistic regression model, as it represents the average amount of surprise or information gained per data point."
   ]
  },
  {
   "cell_type": "markdown",
   "metadata": {
    "collapsed": true,
    "id": "IFnpTesIbHCE",
    "jupyter": {
     "outputs_hidden": true
    }
   },
   "source": [
    "<table align=\"left\">\n",
    "    <tr>\n",
    "        <td>\n",
    "            <div align=\"left\", style=\"font-size:120%\">\n",
    "                <font color=\"#21618C\">\n",
    "                    <b>Predict whether a client subscribed a term deposit or not. For the logistic regression model find the following:<br> <ol type = \"a\">\n",
    "                        <li> Precision </li>\n",
    "                        <li> Recall</li>\n",
    "                        <li> F<sub>1</sub> score </li>\n",
    "                        </ol>\n",
    "                    </b>\n",
    "                </font>\n",
    "            </div>\n",
    "        </td>\n",
    "    </tr>\n",
    "</table>"
   ]
  },
  {
   "cell_type": "code",
   "execution_count": 22,
   "metadata": {},
   "outputs": [
    {
     "name": "stdout",
     "output_type": "stream",
     "text": [
      "Precision: 0.6646216768916156\n",
      "Recall: 0.9711155378486056\n",
      "F1-Score: 0.7891541885876163\n"
     ]
    }
   ],
   "source": [
    "from sklearn.metrics import precision_score, recall_score, f1_score\n",
    "precision = precision_score(y_test, y_pred)\n",
    "recall = recall_score(y_test, y_pred)\n",
    "f1 = f1_score(y_test, y_pred)\n",
    "\n",
    "print(\"Precision:\", precision)\n",
    "print(\"Recall:\", recall)\n",
    "print(\"F1-Score:\", f1)"
   ]
  },
  {
   "cell_type": "raw",
   "metadata": {},
   "source": [
    "Precision: Precision represents the proportion of correctly predicted positive instances (clients who subscribed to a term deposit) out of all instances predicted as positive. It measures the accuracy of the positive predictions made by the model.\n",
    "\n",
    "For example, if the precision is 0.8, it means that out of all the clients predicted as subscribers, 80% of them actually subscribed to a term deposit.\n",
    "Recall: Recall, also known as sensitivity or true positive rate, represents the proportion of correctly predicted positive instances (clients who subscribed to a term deposit) out of all actual positive instances. It measures the model's ability to identify positive instances correctly.\n",
    "\n",
    "For example, if the recall is 0.7, it means that the model identified 70% of the actual subscribers correctly.\n",
    "F1-score: The F1-score is the harmonic mean of precision and recall. It provides a balanced measure that considers both precision and recall. It is particularly useful when you want to find a balance between precision and recall.\n",
    "\n",
    "For example, if the F1-score is 0.75, it indicates that the model has achieved a good balance between precision and recall.\n",
    "In general:\n",
    "\n",
    "A high precision suggests that when the model predicts a client has subscribed to a term deposit, it is likely to be correct. The model makes fewer false positive predictions.\n",
    "A high recall indicates that the model is effective at capturing the actual positive instances (subscribers). It makes fewer false negative predictions, correctly identifying most of the subscribers.\n",
    "A high F1-score suggests that the model has achieved a good balance between precision and recall, indicating overall good performance.\n",
    "It's important to consider the specific context and requirements of the problem when interpreting these metrics. The interpretation can vary depending on the desired trade-off between precision and recall, as well as the consequences of false positives and false negatives in the specific application."
   ]
  },
  {
   "cell_type": "markdown",
   "metadata": {
    "id": "NeeCURQpbHCF"
   },
   "source": [
    "## 3.Build a Decision Tree model and generate a classification report.\n",
    "\n"
   ]
  },
  {
   "cell_type": "code",
   "execution_count": 23,
   "metadata": {
    "id": "zWNt5XHsbHCG"
   },
   "outputs": [],
   "source": [
    "from sklearn.tree import DecisionTreeClassifier\n",
    "from sklearn.metrics import classification_report\n",
    "\n"
   ]
  },
  {
   "cell_type": "code",
   "execution_count": 24,
   "metadata": {
    "id": "YisvcH4jbHCe"
   },
   "outputs": [
    {
     "name": "stdout",
     "output_type": "stream",
     "text": [
      "              precision    recall  f1-score   support\n",
      "\n",
      "           0       0.83      0.83      0.83       924\n",
      "           1       0.84      0.84      0.84      1004\n",
      "\n",
      "    accuracy                           0.83      1928\n",
      "   macro avg       0.83      0.83      0.83      1928\n",
      "weighted avg       0.83      0.83      0.83      1928\n",
      "\n"
     ]
    }
   ],
   "source": [
    "# Fit a Decision Tree model\n",
    "dt = DecisionTreeClassifier()\n",
    "dt.fit(X_train, y_train)\n",
    "\n",
    "# Make predictions on the test set\n",
    "y_pred = dt.predict(X_test)\n",
    "\n",
    "# Generate a classification report\n",
    "report = classification_report(y_test, y_pred)\n",
    "\n",
    "print(report)"
   ]
  },
  {
   "cell_type": "raw",
   "metadata": {},
   "source": [
    "we fit a Decision Tree model on the training data using DecisionTreeClassifier from scikit-learn.\n",
    "\n",
    "We make predictions on the test set using predict and store the results in y_pred.\n",
    "\n",
    "Finally, we generate a classification report using classification_report from scikit-learn. The classification report provides metrics such as precision, recall, F1-score, and support for each class (subscribed or not subscribed).\n",
    "\n",
    "Running this code will print the classification report, which includes various metrics to evaluate the performance of the Decision Tree model."
   ]
  },
  {
   "cell_type": "markdown",
   "metadata": {
    "collapsed": true,
    "id": "VWrASMEAbHCf",
    "jupyter": {
     "outputs_hidden": true
    }
   },
   "source": [
    "<table align=\"left\">\n",
    "    <tr>\n",
    "        <td>\n",
    "            <div align=\"left\", style=\"font-size:120%\">\n",
    "                <font color=\"#21618C\">\n",
    "                    <b>Determining optimal hyperparameters using GridSearchCV</b>\n",
    "                </font>\n",
    "            </div>\n",
    "        </td>\n",
    "    </tr>\n",
    "</table>"
   ]
  },
  {
   "cell_type": "code",
   "execution_count": 25,
   "metadata": {
    "id": "Y_BR0H1PbHCg"
   },
   "outputs": [
    {
     "name": "stdout",
     "output_type": "stream",
     "text": [
      "Best Hyperparameters: {'criterion': 'gini', 'max_depth': 6, 'min_samples_leaf': 2, 'min_samples_split': 2}\n",
      "Accuracy: 0.8781120331950207\n"
     ]
    }
   ],
   "source": [
    "from sklearn.model_selection import train_test_split, GridSearchCV\n",
    "# Define the parameter grid for GridSearchCV\n",
    "param_grid = {\n",
    "    'criterion': ['gini', 'entropy'],\n",
    "    'max_depth': [3, 4, 5, 6, None],\n",
    "    'min_samples_split': [2, 3, 4],\n",
    "    'min_samples_leaf': [1, 2, 3],\n",
    "}\n",
    "\n",
    "# Create a Decision Tree model\n",
    "dt = DecisionTreeClassifier()\n",
    "\n",
    "# Perform grid search to find the best hyperparameters\n",
    "grid_search = GridSearchCV(dt, param_grid, cv=5)\n",
    "grid_search.fit(X_train, y_train)\n",
    "\n",
    "# Get the best hyperparameters\n",
    "best_params = grid_search.best_params_\n",
    "print(\"Best Hyperparameters:\", best_params)\n",
    "\n",
    "# Use the best model to make predictions on the test set\n",
    "best_model = grid_search.best_estimator_\n",
    "y_pred = best_model.predict(X_test)\n",
    "\n",
    "# Evaluate the performance of the best model\n",
    "accuracy = best_model.score(X_test, y_test)\n",
    "print(\"Accuracy:\", accuracy)"
   ]
  },
  {
   "cell_type": "raw",
   "metadata": {},
   "source": [
    "we define the parameter grid param_grid that specifies the different hyperparameters and their values to be searched during the grid search.\n",
    "\n",
    "We create a Decision Tree model using DecisionTreeClassifier from scikit-learn.\n",
    "\n",
    "We perform a grid search using GridSearchCV by passing the model, parameter grid, and the number of cross-validation folds (cv=5).\n",
    "\n",
    "The grid search then finds the best hyperparameters based on the provided parameter grid and cross-validation scores.\n",
    "\n",
    "We retrieve the best hyperparameters using best_params_ attribute of the grid search object and print them.\n",
    "\n",
    "We use the best model obtained from the grid search to make predictions on the test set and calculate the accuracy of the best model.\n",
    "\n",
    "Running this code will output the best hyperparameters found by GridSearchCV and the accuracy of the best model on the test set."
   ]
  },
  {
   "cell_type": "markdown",
   "metadata": {
    "collapsed": true,
    "id": "ezuTaalRbHCh",
    "jupyter": {
     "outputs_hidden": true
    }
   },
   "source": [
    "<table align=\"left\">\n",
    "    <tr>\n",
    "        <td>\n",
    "            <div align=\"left\", style=\"font-size:120%\">\n",
    "                <font color=\"#21618C\">\n",
    "                    <b>Compare the Full model and optimized model using model performance metrics\n",
    "                    </b>\n",
    "                </font>\n",
    "            </div>\n",
    "        </td>\n",
    "    </tr>\n",
    "</table>"
   ]
  },
  {
   "cell_type": "code",
   "execution_count": 27,
   "metadata": {
    "id": "X8gsYxR_bHCi"
   },
   "outputs": [
    {
     "name": "stdout",
     "output_type": "stream",
     "text": [
      "Full Model Metrics:\n",
      "Accuracy: 0.8475103734439834\n",
      "Precision: 0.8585858585858586\n",
      "Recall: 0.8466135458167331\n",
      "F1-Score: 0.8525576730190572\n",
      "\n",
      "Optimized Model Metrics:\n",
      "Accuracy: 0.8786307053941909\n",
      "Precision: 0.9355203619909502\n",
      "Recall: 0.8237051792828686\n",
      "F1-Score: 0.8760593220338982\n"
     ]
    },
    {
     "name": "stderr",
     "output_type": "stream",
     "text": [
      "C:\\Users\\ROYAL\\anaconda3\\lib\\site-packages\\sklearn\\linear_model\\_logistic.py:814: ConvergenceWarning: lbfgs failed to converge (status=1):\n",
      "STOP: TOTAL NO. of ITERATIONS REACHED LIMIT.\n",
      "\n",
      "Increase the number of iterations (max_iter) or scale the data as shown in:\n",
      "    https://scikit-learn.org/stable/modules/preprocessing.html\n",
      "Please also refer to the documentation for alternative solver options:\n",
      "    https://scikit-learn.org/stable/modules/linear_model.html#logistic-regression\n",
      "  n_iter_i = _check_optimize_result(\n"
     ]
    }
   ],
   "source": [
    "# Fit the Full model (Logistic Regression)\n",
    "full_model = LogisticRegression()\n",
    "full_model.fit(X_train, y_train)\n",
    "\n",
    "# Make predictions using the Full model\n",
    "y_pred_full = full_model.predict(X_test)\n",
    "\n",
    "# Calculate metrics for the Full model\n",
    "accuracy_full = accuracy_score(y_test, y_pred_full)\n",
    "precision_full = precision_score(y_test, y_pred_full)\n",
    "recall_full = recall_score(y_test, y_pred_full)\n",
    "f1_full = f1_score(y_test, y_pred_full)\n",
    "\n",
    "# Fit the Optimized model (Decision Tree)\n",
    "optimized_model = DecisionTreeClassifier(criterion='entropy', max_depth=5, min_samples_split=2, min_samples_leaf=1)\n",
    "optimized_model.fit(X_train, y_train)\n",
    "\n",
    "# Make predictions using the Optimized model\n",
    "y_pred_optimized = optimized_model.predict(X_test)\n",
    "\n",
    "# Calculate metrics for the Optimized model\n",
    "accuracy_optimized = accuracy_score(y_test, y_pred_optimized)\n",
    "precision_optimized = precision_score(y_test, y_pred_optimized)\n",
    "recall_optimized = recall_score(y_test, y_pred_optimized)\n",
    "f1_optimized = f1_score(y_test, y_pred_optimized)\n",
    "\n",
    "# Print the metrics for both models\n",
    "print(\"Full Model Metrics:\")\n",
    "print(\"Accuracy:\", accuracy_full)\n",
    "print(\"Precision:\", precision_full)\n",
    "print(\"Recall:\", recall_full)\n",
    "print(\"F1-Score:\", f1_full)\n",
    "print()\n",
    "print(\"Optimized Model Metrics:\")\n",
    "print(\"Accuracy:\", accuracy_optimized)\n",
    "print(\"Precision:\", precision_optimized)\n",
    "print(\"Recall:\", recall_optimized)\n",
    "print(\"F1-Score:\", f1_optimized)"
   ]
  },
  {
   "cell_type": "raw",
   "metadata": {},
   "source": [
    "We fit the Full model, which is a logistic regression model, on the training data and make predictions on the test set.\n",
    "\n",
    "We calculate the accuracy, precision, recall, and F1-score for the Full model using the corresponding functions from scikit-learn.\n",
    "\n",
    "Next, we fit the Optimized model, which is a decision tree model with hyperparameters obtained from optimization, on the training data and make predictions on the test set.\n",
    "\n",
    "We calculate the metrics for the Optimized model in a similar way.\n",
    "\n",
    "Finally, we print the metrics for both models, allowing us to compare their performance.\n",
    "\n",
    "Running this code will output the metrics for both the Full model (Logistic Regression) and the Optimized model (Decision Tree) in terms of accuracy, precision, recall, and F1-score. This will enable a direct comparison of the performance of the two models."
   ]
  },
  {
   "cell_type": "markdown",
   "metadata": {
    "id": "mzQOib_mbHCj"
   },
   "source": [
    "## 4.Build a Random Forest model with n_estimators=30 and generate a classification report.\n",
    "\n"
   ]
  },
  {
   "cell_type": "code",
   "execution_count": 28,
   "metadata": {
    "id": "S-wotGQlbHCk"
   },
   "outputs": [],
   "source": [
    "from sklearn.ensemble import RandomForestClassifier\n",
    "from sklearn.metrics import classification_report\n"
   ]
  },
  {
   "cell_type": "code",
   "execution_count": 29,
   "metadata": {
    "id": "o_HQiYsybHCm"
   },
   "outputs": [
    {
     "name": "stdout",
     "output_type": "stream",
     "text": [
      "              precision    recall  f1-score   support\n",
      "\n",
      "           0       0.85      0.92      0.88       924\n",
      "           1       0.92      0.85      0.88      1004\n",
      "\n",
      "    accuracy                           0.88      1928\n",
      "   macro avg       0.88      0.88      0.88      1928\n",
      "weighted avg       0.89      0.88      0.88      1928\n",
      "\n"
     ]
    }
   ],
   "source": [
    "# Create a Random Forest model with n_estimators=30\n",
    "random_forest = RandomForestClassifier(n_estimators=30)\n",
    "\n",
    "# Fit the model on the training data\n",
    "random_forest.fit(X_train, y_train)\n",
    "\n",
    "# Make predictions on the test set\n",
    "y_pred = random_forest.predict(X_test)\n",
    "\n",
    "# Generate a classification report\n",
    "report = classification_report(y_test, y_pred)\n",
    "print(report)"
   ]
  },
  {
   "cell_type": "raw",
   "metadata": {},
   "source": [
    "The classification report provides a detailed interpretation of the performance of the Random Forest model based on precision, recall, F1-score, and support for each class in the target variable. Let's discuss the interpretation of each metric:\n",
    "\n",
    "Precision: Precision is the ratio of true positive predictions to the total number of positive predictions. It measures the model's ability to correctly identify positive instances. A high precision indicates a low false positive rate. In the classification report, precision is reported for each class.\n",
    "\n",
    "Recall: Recall, also known as sensitivity or true positive rate, is the ratio of true positive predictions to the total number of actual positive instances. It measures the model's ability to correctly identify all positive instances. A high recall indicates a low false negative rate. In the classification report, recall is reported for each class.\n",
    "\n",
    "F1-score: The F1-score is the harmonic mean of precision and recall. It provides a balanced measure of the model's performance, taking both precision and recall into account. The F1-score is a single value that summarizes the model's accuracy. In the classification report, the F1-score is reported for each class.\n",
    "\n",
    "Support: Support refers to the number of samples in each class. It provides information about the distribution of the classes in the dataset. In the classification report, support is reported for each class.\n",
    "\n",
    "To interpret the classification report, you should focus on the metrics that are most important for your specific problem. In general, you want to maximize precision, recall, and F1-score while considering the support of each class. A high F1-score indicates a balanced trade-off between precision and recall, while a high support indicates a sufficient number of samples for reliable evaluation.\n",
    "\n",
    "Additionally, you can compare the metrics across different classes to identify any class imbalances or specific performance patterns. It is essential to consider the specific requirements and objectives of your problem when interpreting the classification report and selecting the most appropriate metrics for evaluation."
   ]
  },
  {
   "cell_type": "markdown",
   "metadata": {
    "collapsed": true,
    "id": "OtDKIvK5bHCn",
    "jupyter": {
     "outputs_hidden": true
    }
   },
   "source": [
    "<table align=\"left\">\n",
    "    <tr>\n",
    "        <td>\n",
    "            <div align=\"left\", style=\"font-size:120%\">\n",
    "                <font color=\"#21618C\">\n",
    "                    <b>Determining optimal hyperparameters using GridSearchCV</b>\n",
    "                </font>\n",
    "            </div>\n",
    "        </td>\n",
    "    </tr>\n",
    "</table>"
   ]
  },
  {
   "cell_type": "code",
   "execution_count": 31,
   "metadata": {
    "id": "xiM8FHKdbHCo"
   },
   "outputs": [],
   "source": [
    "model = RandomForestClassifier()\n",
    "param_grid = {\n",
    "    'n_estimators': [10, 30, 50],  # Example values, modify as needed\n",
    "    'max_depth': [None, 5, 10],    # Example values, modify as needed\n",
    "    'min_samples_split': [2, 5, 10]  # Example values, modify as needed\n",
    "}\n",
    "grid_search = GridSearchCV(model, param_grid, cv=5, scoring='accuracy')  # Modify cv and scoring as needed\n",
    "grid_search.fit(X_train, y_train)  # X_train and y_train are your training data\n",
    "best_params = grid_search.best_params_\n",
    "best_score = grid_search.best_score_"
   ]
  },
  {
   "cell_type": "code",
   "execution_count": 32,
   "metadata": {},
   "outputs": [
    {
     "data": {
      "text/plain": [
       "RandomForestClassifier(min_samples_split=10, n_estimators=30)"
      ]
     },
     "execution_count": 32,
     "metadata": {},
     "output_type": "execute_result"
    }
   ],
   "source": [
    "optimized_model = RandomForestClassifier(**best_params)\n",
    "optimized_model.fit(X_train, y_train)"
   ]
  },
  {
   "cell_type": "raw",
   "metadata": {},
   "source": [
    "The GridSearchCV performs a grid search over the specified parameter grid, training and evaluating the model using cross-validation. It iterates through all possible combinations of hyperparameters and selects the best performing ones based on the provided scoring metric.\n",
    "\n",
    "After fitting the grid search object to the training data, you can retrieve the best parameters and best score using the best_params_ and best_score_ attributes, respectively. These represent the hyperparameters that yielded the highest performance during cross-validation.\n",
    "\n",
    "Finally, you can build the optimized model using the best parameters and fit it to the training data.\n",
    "\n",
    "Remember to replace X_train and y_train with your actual training data. Additionally, modify the parameter grid and scoring metric according to your specific requirements."
   ]
  },
  {
   "cell_type": "markdown",
   "metadata": {
    "collapsed": true,
    "id": "Ue6kHT1cbHCp",
    "jupyter": {
     "outputs_hidden": true
    }
   },
   "source": [
    "<table align=\"left\">\n",
    "    <tr>\n",
    "        <td>\n",
    "            <div align=\"left\", style=\"font-size:120%\">\n",
    "                <font color=\"#21618C\">\n",
    "                    <b>Compare the Full model and optimized model using model performance metrics\n",
    "                    </b>\n",
    "                </font>\n",
    "            </div>\n",
    "        </td>\n",
    "    </tr>\n",
    "</table>"
   ]
  },
  {
   "cell_type": "code",
   "execution_count": 33,
   "metadata": {
    "id": "BIv9kcPbbHCq"
   },
   "outputs": [
    {
     "name": "stdout",
     "output_type": "stream",
     "text": [
      "Full Model Metrics:\n",
      "Accuracy: 0.8475103734439834\n",
      "Precision: 0.8585858585858586\n",
      "Recall: 0.8466135458167331\n",
      "F1-Score: 0.8525576730190572\n",
      "\n",
      "Optimized Model Metrics:\n",
      "Accuracy: 0.8884854771784232\n",
      "Precision: 0.9228295819935691\n",
      "Recall: 0.8575697211155379\n",
      "F1-Score: 0.8890036138358286\n"
     ]
    }
   ],
   "source": [
    "# Make predictions using the Full model\n",
    "y_pred_full = full_model.predict(X_test)\n",
    "\n",
    "# Calculate metrics for the Full model\n",
    "accuracy_full = accuracy_score(y_test, y_pred_full)\n",
    "precision_full = precision_score(y_test, y_pred_full)\n",
    "recall_full = recall_score(y_test, y_pred_full)\n",
    "f1_full = f1_score(y_test, y_pred_full)\n",
    "\n",
    "# Make predictions using the Optimized model\n",
    "y_pred_optimized = optimized_model.predict(X_test)\n",
    "\n",
    "# Calculate metrics for the Optimized model\n",
    "accuracy_optimized = accuracy_score(y_test, y_pred_optimized)\n",
    "precision_optimized = precision_score(y_test, y_pred_optimized)\n",
    "recall_optimized = recall_score(y_test, y_pred_optimized)\n",
    "f1_optimized = f1_score(y_test, y_pred_optimized)\n",
    "\n",
    "# Print the metrics for both models\n",
    "print(\"Full Model Metrics:\")\n",
    "print(\"Accuracy:\", accuracy_full)\n",
    "print(\"Precision:\", precision_full)\n",
    "print(\"Recall:\", recall_full)\n",
    "print(\"F1-Score:\", f1_full)\n",
    "print()\n",
    "print(\"Optimized Model Metrics:\")\n",
    "print(\"Accuracy:\", accuracy_optimized)\n",
    "print(\"Precision:\", precision_optimized)\n",
    "print(\"Recall:\", recall_optimized)\n",
    "print(\"F1-Score:\", f1_optimized)"
   ]
  },
  {
   "cell_type": "raw",
   "metadata": {},
   "source": [
    "In this code, we assume that you have already trained and tested the Full model and the optimized model. We use the predict method to obtain predictions for the test set for both models.\n",
    "\n",
    "We then calculate the accuracy, precision, recall, and F1-score for both the Full model and the optimized model using the corresponding functions from scikit-learn.\n",
    "\n",
    "Finally, we print the metrics for both models to compare their performance.\n",
    "\n",
    "By comparing the accuracy, precision, recall, and F1-score for both models, you can assess which model performs better. Higher values indicate better performance for each metric, so the model with higher values for most or all of the metrics is considered to be performing better. However, it's important to consider the specific context and requirements of your problem when interpreting and comparing the performance metrics."
   ]
  },
  {
   "cell_type": "markdown",
   "metadata": {
    "id": "shwvglglbHCq"
   },
   "source": [
    "## 5.Build the XGBoost model with a learning rate of 0.4 and gamma equal to 3. Calculate the accuracy by plotting the confusion matrix"
   ]
  },
  {
   "cell_type": "code",
   "execution_count": 35,
   "metadata": {
    "id": "-xaXqQ9lbHCs"
   },
   "outputs": [],
   "source": [
    "import xgboost as xgb"
   ]
  },
  {
   "cell_type": "code",
   "execution_count": 36,
   "metadata": {
    "id": "Hohnmg7sbHCr"
   },
   "outputs": [
    {
     "data": {
      "image/png": "[encoded data removed]",
      "text/plain": [
       "<Figure size 576x432 with 2 Axes>"
      ]
     },
     "metadata": {
      "needs_background": "light"
     },
     "output_type": "display_data"
    },
    {
     "name": "stdout",
     "output_type": "stream",
     "text": [
      "Accuracy: 0.8874481327800829\n"
     ]
    }
   ],
   "source": [
    "# Create the XGBoost model\n",
    "xgb_model = xgb.XGBClassifier(learning_rate=0.4, gamma=3)\n",
    "\n",
    "# Fit the model on the training data\n",
    "xgb_model.fit(X_train, y_train)\n",
    "\n",
    "# Make predictions on the test set\n",
    "y_pred = xgb_model.predict(X_test)\n",
    "\n",
    "# Calculate the accuracy\n",
    "accuracy = accuracy_score(y_test, y_pred)\n",
    "\n",
    "# Create the confusion matrix\n",
    "cm = confusion_matrix(y_test, y_pred)\n",
    "\n",
    "# Plot the confusion matrix\n",
    "plt.figure(figsize=(8, 6))\n",
    "sns.heatmap(cm, annot=True, fmt='d', cmap='Blues')\n",
    "plt.title('Confusion Matrix')\n",
    "plt.xlabel('Predicted Labels')\n",
    "plt.ylabel('True Labels')\n",
    "plt.show()\n",
    "\n",
    "# Print the accuracy\n",
    "print(\"Accuracy:\", accuracy)"
   ]
  },
  {
   "cell_type": "raw",
   "metadata": {},
   "source": [
    "We create an XGBoost model using xgb.XGBClassifier and set the learning rate to 0.4 and gamma to 3.\n",
    "\n",
    "We fit the model on the training data using the fit method.\n",
    "\n",
    "Next, we make predictions on the test set using the predict method.\n",
    "\n",
    "We calculate the accuracy by comparing the predicted labels with the true labels using accuracy_score from scikit-learn.\n",
    "\n",
    "We create the confusion matrix using confusion_matrix from scikit-learn.\n",
    "\n",
    "Finally, we plot the confusion matrix using heatmap from seaborn and display the accuracy.\n",
    "\n",
    "The confusion matrix provides a visual representation of the model's performance, showing the number of true positive, true negative, false positive, and false negative predictions. The accuracy represents the proportion of correct predictions over the total number of predictions."
   ]
  },
  {
   "cell_type": "markdown",
   "metadata": {
    "collapsed": true,
    "id": "amHq3miJbHCx",
    "jupyter": {
     "outputs_hidden": true
    }
   },
   "source": [
    "<table align=\"left\">\n",
    "    <tr>\n",
    "        <td>\n",
    "            <div align=\"left\", style=\"font-size:120%\">\n",
    "                <font color=\"#21618C\">\n",
    "                    <b>Determining optimal hyperparameters using GridSearchCV</b>\n",
    "                </font>\n",
    "            </div>\n",
    "        </td>\n",
    "    </tr>\n",
    "</table>"
   ]
  },
  {
   "cell_type": "code",
   "execution_count": 37,
   "metadata": {
    "id": "IgO-dOYRbHCz"
   },
   "outputs": [],
   "source": [
    "param_grid = {\n",
    "    'learning_rate': [0.1, 0.2, 0.3],\n",
    "    'gamma': [1, 2, 3]\n",
    "}\n",
    "xgb_model = xgb.XGBClassifier()\n",
    "grid_search = GridSearchCV(xgb_model, param_grid, cv=5, scoring='accuracy')\n",
    "grid_search.fit(X, y)\n",
    "best_params = grid_search.best_params_\n",
    "best_score = grid_search.best_score_"
   ]
  },
  {
   "cell_type": "raw",
   "metadata": {},
   "source": [
    "The GridSearchCV performs a grid search over the specified parameter grid, training and evaluating the model using cross-validation. It iterates through all possible combinations of hyperparameters and selects the best performing ones based on the provided scoring metric.\n",
    "\n",
    "After fitting the grid search object to the data, you can retrieve the best parameters and best score using the best_params_ and best_score_ attributes, respectively. These represent the hyperparameters that yielded the highest performance during cross-validation.\n",
    "\n",
    "You can then use the best parameters to build the optimized XGBoost model and further evaluate its performance."
   ]
  },
  {
   "cell_type": "markdown",
   "metadata": {
    "collapsed": true,
    "id": "tMY-oaZybHC0",
    "jupyter": {
     "outputs_hidden": true
    }
   },
   "source": [
    "<table align=\"left\">\n",
    "    <tr>\n",
    "        <td>\n",
    "            <div align=\"left\", style=\"font-size:120%\">\n",
    "                <font color=\"#21618C\">\n",
    "                    <b>Compare the Full model and optimized model using model performance metrics\n",
    "                    </b>\n",
    "                </font>\n",
    "            </div>\n",
    "        </td>\n",
    "    </tr>\n",
    "</table>"
   ]
  },
  {
   "cell_type": "code",
   "execution_count": 38,
   "metadata": {
    "id": "wNDGg36mbHC1"
   },
   "outputs": [
    {
     "name": "stdout",
     "output_type": "stream",
     "text": [
      "Full Model Metrics:\n",
      "Accuracy: 0.8874481327800829\n",
      "Precision: 0.919062832800852\n",
      "Recall: 0.8595617529880478\n",
      "F1-Score: 0.8883170355120946\n",
      "\n",
      "Optimized Model Metrics:\n",
      "Accuracy: 0.8931535269709544\n",
      "Precision: 0.9281115879828327\n",
      "Recall: 0.8615537848605578\n",
      "F1-Score: 0.8935950413223142\n"
     ]
    }
   ],
   "source": [
    "# Full model\n",
    "full_model = xgb.XGBClassifier()\n",
    "full_model.fit(X_train, y_train)\n",
    "y_pred_full = full_model.predict(X_test)\n",
    "\n",
    "# Optimized model\n",
    "optimized_model = xgb.XGBClassifier(learning_rate=0.1, gamma=1)  # Replace with the optimized hyperparameters\n",
    "optimized_model.fit(X_train, y_train)\n",
    "y_pred_optimized = optimized_model.predict(X_test)\n",
    "\n",
    "# Calculate the performance metrics for the Full model\n",
    "accuracy_full = accuracy_score(y_test, y_pred_full)\n",
    "precision_full = precision_score(y_test, y_pred_full)\n",
    "recall_full = recall_score(y_test, y_pred_full)\n",
    "f1_full = f1_score(y_test, y_pred_full)\n",
    "\n",
    "# Calculate the performance metrics for the Optimized model\n",
    "accuracy_optimized = accuracy_score(y_test, y_pred_optimized)\n",
    "precision_optimized = precision_score(y_test, y_pred_optimized)\n",
    "recall_optimized = recall_score(y_test, y_pred_optimized)\n",
    "f1_optimized = f1_score(y_test, y_pred_optimized)\n",
    "\n",
    "# Print the performance metrics for both models\n",
    "print(\"Full Model Metrics:\")\n",
    "print(\"Accuracy:\", accuracy_full)\n",
    "print(\"Precision:\", precision_full)\n",
    "print(\"Recall:\", recall_full)\n",
    "print(\"F1-Score:\", f1_full)\n",
    "print()\n",
    "print(\"Optimized Model Metrics:\")\n",
    "print(\"Accuracy:\", accuracy_optimized)\n",
    "print(\"Precision:\", precision_optimized)\n",
    "print(\"Recall:\", recall_optimized)\n",
    "print(\"F1-Score:\", f1_optimized)"
   ]
  },
  {
   "cell_type": "raw",
   "metadata": {},
   "source": [
    "We create a Full model using xgb.XGBClassifier and fit it on the training data. We make predictions on the test set and calculate the accuracy, precision, recall, and F1-score for the Full model using the corresponding functions from scikit-learn.\n",
    "\n",
    "Similarly, we create an Optimized model using xgb.XGBClassifier and set the hyperparameters obtained from the optimization step. We fit the Optimized model on the training data, make predictions on the test set, and calculate the performance metrics.\n",
    "\n",
    "Finally, we print the performance metrics for both models to compare their performance.\n",
    "\n",
    "By comparing the accuracy, precision, recall, and F1-score for both models, you can assess which model performs better. Higher values indicate better performance for each metric, so the model with higher values for most or all of the metrics is considered to be performing better. However, it's important to consider the specific context and requirements of your problem when interpreting and comparing the performance metrics."
   ]
  },
  {
   "cell_type": "raw",
   "metadata": {},
   "source": [
    "Interpretation:\n",
    "    Based on the provided metrics for the full model and the optimized model, we can interpret the following:\n",
    "\n",
    "Full Model:\n",
    "\n",
    "Accuracy: The full model achieved an accuracy of 0.8874481327800829, which indicates that around 88.74% of the predictions made by the model are correct.\n",
    "Precision: The precision of the full model is 0.919062832800852, suggesting that around 91.91% of the positive predictions made by the model are true positives.\n",
    "Recall: The recall of the full model is 0.8595617529880478, indicating that the model is able to correctly identify around 85.96% of the actual positive cases.\n",
    "F1-Score: The F1-score of the full model is 0.8883170355120946, which is a harmonic mean of precision and recall. It provides a balanced measure of the model's overall performance, with a higher value indicating better performance.\n",
    "Optimized Model:\n",
    "\n",
    "Accuracy: The optimized model achieved an accuracy of 0.8931535269709544, which is slightly higher than the full model. It indicates that around 89.32% of the predictions made by the model are correct.\n",
    "Precision: The precision of the optimized model is 0.9281115879828327, which is higher than the full model. It suggests that around 92.81% of the positive predictions made by the model are true positives.\n",
    "Recall: The recall of the optimized model is 0.8615537848605578, which is slightly higher than the full model. It indicates that the optimized model is able to correctly identify around 86.16% of the actual positive cases.\n",
    "F1-Score: The F1-score of the optimized model is 0.8935950413223142, which is slightly higher than the full model. It reflects the overall performance of the model, with a higher value indicating better performance.\n",
    "Based on these interpretations, we can see that the optimized model performs slightly better than the full model across all the metrics. The optimized model has higher precision, recall, and F1-score, indicating improved performance in terms of both correctly identifying positive cases and minimizing false positives. However, the difference in performance between the full model and the optimized model is relatively small."
   ]
  },
  {
   "cell_type": "markdown",
   "metadata": {
    "id": "o7k7MKpQbHDO"
   },
   "source": [
    "## 8. Compare the results of all above mentioned algorithms"
   ]
  },
  {
   "cell_type": "markdown",
   "metadata": {
    "collapsed": true,
    "id": "9sQ6oPLNbHDP",
    "jupyter": {
     "outputs_hidden": true
    }
   },
   "source": [
    "<table align=\"left\">\n",
    "    <tr>\n",
    "        <td>\n",
    "            <div align=\"left\", style=\"font-size:120%\">\n",
    "                <font color=\"#21618C\">\n",
    "                    <b>Compare all the classification models using model performance evaluation metrics\n",
    "                    </b>\n",
    "                </font>\n",
    "            </div>\n",
    "        </td>\n",
    "    </tr>\n",
    "</table>"
   ]
  },
  {
   "cell_type": "code",
   "execution_count": 40,
   "metadata": {},
   "outputs": [
    {
     "name": "stderr",
     "output_type": "stream",
     "text": [
      "C:\\Users\\ROYAL\\anaconda3\\lib\\site-packages\\sklearn\\linear_model\\_logistic.py:814: ConvergenceWarning: lbfgs failed to converge (status=1):\n",
      "STOP: TOTAL NO. of ITERATIONS REACHED LIMIT.\n",
      "\n",
      "Increase the number of iterations (max_iter) or scale the data as shown in:\n",
      "    https://scikit-learn.org/stable/modules/preprocessing.html\n",
      "Please also refer to the documentation for alternative solver options:\n",
      "    https://scikit-learn.org/stable/modules/linear_model.html#logistic-regression\n",
      "  n_iter_i = _check_optimize_result(\n"
     ]
    }
   ],
   "source": [
    "# Logistic Regression model\n",
    "lr_model = LogisticRegression()\n",
    "lr_model.fit(X_train, y_train)\n",
    "y_pred_lr = lr_model.predict(X_test)\n",
    "\n",
    "# Decision Tree model\n",
    "dt_model = DecisionTreeClassifier()\n",
    "dt_model.fit(X_train, y_train)\n",
    "y_pred_dt = dt_model.predict(X_test)\n",
    "\n",
    "# Random Forest model\n",
    "rf_model = RandomForestClassifier()\n",
    "rf_model.fit(X_train, y_train)\n",
    "y_pred_rf = rf_model.predict(X_test)\n",
    "\n",
    "# XGBoost model\n",
    "xgb_model = xgb.XGBClassifier()\n",
    "xgb_model.fit(X_train, y_train)\n",
    "y_pred_xgb = xgb_model.predict(X_test)"
   ]
  },
  {
   "cell_type": "code",
   "execution_count": 41,
   "metadata": {
    "id": "EIM9Z0_-bHDQ"
   },
   "outputs": [
    {
     "name": "stdout",
     "output_type": "stream",
     "text": [
      "                     Accuracy Precision    Recall  F1-Score\n",
      "Logistic Regression   0.84751  0.858586  0.846614  0.852558\n",
      "Decision Tree        0.829357   0.83449  0.838645  0.836562\n",
      "Random Forest        0.881224  0.917115  0.848606  0.881531\n",
      "XGBoost              0.887448  0.919063  0.859562  0.888317\n"
     ]
    },
    {
     "name": "stderr",
     "output_type": "stream",
     "text": [
      "C:\\Users\\ROYAL\\AppData\\Local\\Temp\\ipykernel_1920\\948887546.py:12: FutureWarning: The frame.append method is deprecated and will be removed from pandas in a future version. Use pandas.concat instead.\n",
      "  results = results.append(pd.Series([accuracy, precision, recall, f1], index=metrics), ignore_index=True)\n",
      "C:\\Users\\ROYAL\\AppData\\Local\\Temp\\ipykernel_1920\\948887546.py:12: FutureWarning: The frame.append method is deprecated and will be removed from pandas in a future version. Use pandas.concat instead.\n",
      "  results = results.append(pd.Series([accuracy, precision, recall, f1], index=metrics), ignore_index=True)\n",
      "C:\\Users\\ROYAL\\AppData\\Local\\Temp\\ipykernel_1920\\948887546.py:12: FutureWarning: The frame.append method is deprecated and will be removed from pandas in a future version. Use pandas.concat instead.\n",
      "  results = results.append(pd.Series([accuracy, precision, recall, f1], index=metrics), ignore_index=True)\n",
      "C:\\Users\\ROYAL\\AppData\\Local\\Temp\\ipykernel_1920\\948887546.py:12: FutureWarning: The frame.append method is deprecated and will be removed from pandas in a future version. Use pandas.concat instead.\n",
      "  results = results.append(pd.Series([accuracy, precision, recall, f1], index=metrics), ignore_index=True)\n"
     ]
    }
   ],
   "source": [
    "# Calculate the performance metrics for each model\n",
    "metrics = ['Accuracy', 'Precision', 'Recall', 'F1-Score']\n",
    "results = pd.DataFrame(columns=metrics)\n",
    "models = [lr_model, dt_model, rf_model, xgb_model]\n",
    "predictions = [y_pred_lr, y_pred_dt, y_pred_rf, y_pred_xgb]\n",
    "\n",
    "for model, prediction in zip(models, predictions):\n",
    "    accuracy = accuracy_score(y_test, prediction)\n",
    "    precision = precision_score(y_test, prediction)\n",
    "    recall = recall_score(y_test, prediction)\n",
    "    f1 = f1_score(y_test, prediction)\n",
    "    results = results.append(pd.Series([accuracy, precision, recall, f1], index=metrics), ignore_index=True)\n",
    "\n",
    "# Print the performance metrics for each model\n",
    "models_names = ['Logistic Regression', 'Decision Tree', 'Random Forest', 'XGBoost']\n",
    "results.index = models_names\n",
    "print(results)"
   ]
  },
  {
   "cell_type": "raw",
   "metadata": {},
   "source": [
    "We create and fit the Logistic Regression, Decision Tree, Random Forest, and XGBoost models on the training data. We make predictions on the test set and calculate the accuracy, precision, recall, and F1-score for each model using the corresponding functions from scikit-learn.\n",
    "\n",
    "We store the performance metrics in a DataFrame called results, where each row corresponds to a model and each column corresponds to a metric.\n",
    "\n",
    "Finally, we print the performance metrics for each model, comparing their accuracy, precision, recall, and F1-score.\n",
    "\n",
    "By analyzing the performance metrics for each model, you can determine which model performs better overall or excels in specific metrics. Keep in mind that the interpretation and importance of the metrics may vary depending on the specific context and requirements of your problem"
   ]
  },
  {
   "cell_type": "raw",
   "metadata": {},
   "source": [
    "Interpretation:\n",
    "    To determine which model is best among the evaluated classification models, you can consider multiple performance metrics and their trade-offs. In this case, we have the accuracy, precision, recall, and F1-score values for each model.\n",
    "\n",
    "The choice of the best model depends on the specific requirements and priorities of the problem. Here are a few considerations based on the provided performance metrics:\n",
    "\n",
    "Accuracy: The Random Forest model has the highest accuracy of 0.881224, followed closely by the XGBoost model with an accuracy of 0.887448. These models have higher overall prediction accuracy on the test data.\n",
    "\n",
    "Precision: The Random Forest and XGBoost models have the highest precision values of 0.917115 and 0.919063, respectively. Precision measures the proportion of true positive predictions among all positive predictions, indicating how well the model avoids false positives.\n",
    "\n",
    "Recall: The XGBoost model has the highest recall value of 0.859562, which indicates its ability to correctly identify a higher proportion of positive cases compared to other models.\n",
    "\n",
    "F1-score: The XGBoost model also has the highest F1-score of 0.888317, which combines precision and recall into a single metric. It provides a balance between precision and recall and is useful when the classes are imbalanced.\n",
    "\n",
    "Based on these considerations, the XGBoost model appears to perform the best overall among the evaluated models, as it demonstrates high precision, recall, and F1-score while maintaining a good level of accuracy. However, the final decision should consider the specific requirements of the problem, the relative importance of different performance metrics, and potential trade-offs between them."
   ]
  },
  {
   "cell_type": "markdown",
   "metadata": {
    "collapsed": true,
    "id": "csPVrRWnbHDS",
    "jupyter": {
     "outputs_hidden": true
    }
   },
   "source": [
    "<table align=\"left\">\n",
    "    <tr>\n",
    "        <td>\n",
    "            <div align=\"left\", style=\"font-size:120%\">\n",
    "                <font color=\"#21618C\">\n",
    "                    <b>Compare all the classification models using their ROC curves.\n",
    "                    </b>\n",
    "                </font>\n",
    "            </div>\n",
    "        </td>\n",
    "    </tr>\n",
    "</table>"
   ]
  },
  {
   "cell_type": "code",
   "execution_count": 43,
   "metadata": {},
   "outputs": [],
   "source": [
    "from sklearn.metrics import roc_curve, auc"
   ]
  },
  {
   "cell_type": "code",
   "execution_count": 44,
   "metadata": {
    "id": "FY5EzjpAbHDT"
   },
   "outputs": [
    {
     "name": "stderr",
     "output_type": "stream",
     "text": [
      "C:\\Users\\ROYAL\\anaconda3\\lib\\site-packages\\sklearn\\linear_model\\_logistic.py:814: ConvergenceWarning: lbfgs failed to converge (status=1):\n",
      "STOP: TOTAL NO. of ITERATIONS REACHED LIMIT.\n",
      "\n",
      "Increase the number of iterations (max_iter) or scale the data as shown in:\n",
      "    https://scikit-learn.org/stable/modules/preprocessing.html\n",
      "Please also refer to the documentation for alternative solver options:\n",
      "    https://scikit-learn.org/stable/modules/linear_model.html#logistic-regression\n",
      "  n_iter_i = _check_optimize_result(\n"
     ]
    }
   ],
   "source": [
    "# Logistic Regression model\n",
    "lr_model = LogisticRegression()\n",
    "lr_model.fit(X_train, y_train)\n",
    "y_pred_lr = lr_model.predict_proba(X_test)[:, 1]\n",
    "fpr_lr, tpr_lr, thresholds_lr = roc_curve(y_test, y_pred_lr)\n",
    "auc_lr = auc(fpr_lr, tpr_lr)\n",
    "\n",
    "# Decision Tree model\n",
    "dt_model = DecisionTreeClassifier()\n",
    "dt_model.fit(X_train, y_train)\n",
    "y_pred_dt = dt_model.predict_proba(X_test)[:, 1]\n",
    "fpr_dt, tpr_dt, thresholds_dt = roc_curve(y_test, y_pred_dt)\n",
    "auc_dt = auc(fpr_dt, tpr_dt)\n",
    "\n",
    "# Random Forest model\n",
    "rf_model = RandomForestClassifier()\n",
    "rf_model.fit(X_train, y_train)\n",
    "y_pred_rf = rf_model.predict_proba(X_test)[:, 1]\n",
    "fpr_rf, tpr_rf, thresholds_rf = roc_curve(y_test, y_pred_rf)\n",
    "auc_rf = auc(fpr_rf, tpr_rf)\n",
    "\n",
    "# XGBoost model\n",
    "xgb_model = xgb.XGBClassifier()\n",
    "xgb_model.fit(X_train, y_train)\n",
    "y_pred_xgb = xgb_model.predict_proba(X_test)[:, 1]\n",
    "fpr_xgb, tpr_xgb, thresholds_xgb = roc_curve(y_test, y_pred_xgb)\n",
    "auc_xgb = auc(fpr_xgb, tpr_xgb)"
   ]
  },
  {
   "cell_type": "code",
   "execution_count": 45,
   "metadata": {},
   "outputs": [
    {
     "data": {
      "image/png": "[encoded data removed]",
      "text/plain": [
       "<Figure size 432x288 with 1 Axes>"
      ]
     },
     "metadata": {
      "needs_background": "light"
     },
     "output_type": "display_data"
    }
   ],
   "source": [
    "# Plotting the ROC curves\n",
    "plt.plot(fpr_lr, tpr_lr, label='Logistic Regression (AUC = %0.2f)' % auc_lr)\n",
    "plt.plot(fpr_dt, tpr_dt, label='Decision Tree (AUC = %0.2f)' % auc_dt)\n",
    "plt.plot(fpr_rf, tpr_rf, label='Random Forest (AUC = %0.2f)' % auc_rf)\n",
    "plt.plot(fpr_xgb, tpr_xgb, label='XGBoost (AUC = %0.2f)' % auc_xgb)\n",
    "\n",
    "plt.plot([0, 1], [0, 1], 'k--')  # Diagonal line\n",
    "plt.xlim([0.0, 1.0])\n",
    "plt.ylim([0.0, 1.05])\n",
    "plt.xlabel('False Positive Rate')\n",
    "plt.ylabel('True Positive Rate')\n",
    "plt.title('Receiver Operating Characteristic (ROC) Curve')\n",
    "plt.legend(loc='lower right')\n",
    "plt.show()"
   ]
  },
  {
   "cell_type": "raw",
   "metadata": {},
   "source": [
    "We create and fit the Logistic Regression, Decision Tree, Random Forest, and XGBoost models on the training data. We make probability predictions (predict_proba) on the test set and calculate the false positive rate (fpr), true positive rate (tpr), and thresholds for each model using the roc_curve function from scikit-learn.\n",
    "\n",
    "We also calculate the area under the ROC curve (roc_auc) for each model using the auc function.\n",
    "\n",
    "Finally, we plot the ROC curves for each model using plt.plot from matplotlib. The AUC values are displayed in the legend.\n",
    "\n",
    "By analyzing the ROC curves, you can compare the models based on their overall performance in terms of the trade-off between true positive rate (sensitivity) and false positive rate (1-specificity). A model with a higher AUC value generally indicates better performance in distinguishing between positive and negative cases."
   ]
  },
  {
   "cell_type": "raw",
   "metadata": {},
   "source": [
    "Interpreting ROC curves involves assessing the performance of the classification models based on their ability to discriminate between positive and negative cases. Here's how you can interpret the ROC curves:\n",
    "\n",
    "Shape of the Curve: The shape of the ROC curve indicates the model's performance. A curve that is closer to the top-left corner and hugs the upper-left corner suggests better performance, as it indicates a higher true positive rate (sensitivity) and a lower false positive rate (1-specificity).\n",
    "\n",
    "Area Under the Curve (AUC): The AUC represents the overall performance of the model. A higher AUC value indicates better discrimination between positive and negative cases. An AUC of 1.0 represents a perfect classifier, while an AUC of 0.5 suggests random performance (no discrimination).\n",
    "\n",
    "Comparison of Models: By comparing the ROC curves and their AUC values, you can determine which model performs better. If one model's curve is consistently above another model's curve and has a higher AUC, it suggests that the former model has better discriminatory power and is more effective at distinguishing between positive and negative cases.\n",
    "\n",
    "Decision Threshold: The ROC curve does not provide information about the specific decision threshold for classification. It only shows the performance at different thresholds. The optimal decision threshold depends on the specific requirements and trade-offs of the problem. You can choose a threshold that balances between false positives and false negatives based on the specific context.\n",
    "\n",
    "In summary, when interpreting ROC curves, focus on the overall shape, the position of the curves, and the AUC values to compare the performance of the classification models. However, keep in mind that ROC curves provide a general assessment of model performance and should be considered alongside other evaluation metrics and domain-specific considerations to make informed decisions."
   ]
  },
  {
   "cell_type": "raw",
   "metadata": {},
   "source": [
    "Interpretation:\n",
    "    Based on the AUC (Area Under the Curve) values obtained, a higher AUC generally indicates better discrimination and classification performance. In this case, both the Random Forest and XGBoost models have an AUC of 0.95, which is the highest among the evaluated models. The Logistic Regression model has an AUC of 0.93, while the Decision Tree model has the lowest AUC of 0.83.\n",
    "\n",
    "Therefore, based on the given AUC values, both the Random Forest and XGBoost models are considered the best among the evaluated classification models in terms of discrimination and classification performance. It's important to note that AUC alone may not be the sole determinant of the best model, and other evaluation metrics, domain-specific considerations, and trade-offs should be taken into account when making a final decision."
   ]
  },
  {
   "cell_type": "markdown",
   "metadata": {
    "collapsed": true,
    "id": "QZaMa70kbHDU",
    "jupyter": {
     "outputs_hidden": true
    }
   },
   "source": [
    "<table align=\"left\">\n",
    "    <tr>\n",
    "        <td>\n",
    "            <div align=\"left\", style=\"font-size:120%\">\n",
    "                <font color=\"#21618C\">\n",
    "                    <b>comput cross entropy and Compare all the classification models.\n",
    "                    </b>\n",
    "                </font>\n",
    "            </div>\n",
    "        </td>\n",
    "    </tr>\n",
    "</table>"
   ]
  },
  {
   "cell_type": "code",
   "execution_count": 46,
   "metadata": {
    "id": "cPdxSaUcbHDU"
   },
   "outputs": [],
   "source": [
    "from sklearn.metrics import log_loss"
   ]
  },
  {
   "cell_type": "code",
   "execution_count": 47,
   "metadata": {},
   "outputs": [
    {
     "name": "stderr",
     "output_type": "stream",
     "text": [
      "C:\\Users\\ROYAL\\anaconda3\\lib\\site-packages\\sklearn\\linear_model\\_logistic.py:814: ConvergenceWarning: lbfgs failed to converge (status=1):\n",
      "STOP: TOTAL NO. of ITERATIONS REACHED LIMIT.\n",
      "\n",
      "Increase the number of iterations (max_iter) or scale the data as shown in:\n",
      "    https://scikit-learn.org/stable/modules/preprocessing.html\n",
      "Please also refer to the documentation for alternative solver options:\n",
      "    https://scikit-learn.org/stable/modules/linear_model.html#logistic-regression\n",
      "  n_iter_i = _check_optimize_result(\n"
     ]
    },
    {
     "name": "stdout",
     "output_type": "stream",
     "text": [
      "Logistic Regression: Cross Entropy = 0.3611514398324288\n",
      "Decision Tree: Cross Entropy = 5.804234207443496\n",
      "Random Forest: Cross Entropy = 0.2891832739261127\n",
      "XGBoost: Cross Entropy = 0.2796799646090161\n"
     ]
    }
   ],
   "source": [
    "# Logistic Regression model\n",
    "lr_model = LogisticRegression()\n",
    "lr_model.fit(X_train, y_train)\n",
    "y_pred_lr = lr_model.predict_proba(X_test)\n",
    "cross_entropy_lr = log_loss(y_test, y_pred_lr)\n",
    "\n",
    "# Decision Tree model\n",
    "dt_model = DecisionTreeClassifier()\n",
    "dt_model.fit(X_train, y_train)\n",
    "y_pred_dt = dt_model.predict_proba(X_test)\n",
    "cross_entropy_dt = log_loss(y_test, y_pred_dt)\n",
    "\n",
    "# Random Forest model\n",
    "rf_model = RandomForestClassifier()\n",
    "rf_model.fit(X_train, y_train)\n",
    "y_pred_rf = rf_model.predict_proba(X_test)\n",
    "cross_entropy_rf = log_loss(y_test, y_pred_rf)\n",
    "\n",
    "# XGBoost model\n",
    "xgb_model = xgb.XGBClassifier()\n",
    "xgb_model.fit(X_train, y_train)\n",
    "y_pred_xgb = xgb_model.predict_proba(X_test)\n",
    "cross_entropy_xgb = log_loss(y_test, y_pred_xgb)\n",
    "\n",
    "# Compare the cross entropy values\n",
    "cross_entropy_values = {\n",
    "    'Logistic Regression': cross_entropy_lr,\n",
    "    'Decision Tree': cross_entropy_dt,\n",
    "    'Random Forest': cross_entropy_rf,\n",
    "    'XGBoost': cross_entropy_xgb\n",
    "}\n",
    "\n",
    "for model, cross_entropy in cross_entropy_values.items():\n",
    "    print(f\"{model}: Cross Entropy = {cross_entropy}\")"
   ]
  },
  {
   "cell_type": "raw",
   "metadata": {},
   "source": [
    "We calculate the cross entropy loss for each model using the log_loss function from scikit-learn, which takes the true labels (y_test) and the predicted probabilities (y_pred) as inputs.\n",
    "\n",
    "Finally, we compare and print the cross entropy values for each model.\n",
    "\n",
    "By comparing the cross entropy values, you can assess the performance of the classification models in terms of their ability to estimate the probabilities accurately. The model with the lowest cross entropy loss generally indicates better calibration and predictive performance."
   ]
  },
  {
   "cell_type": "raw",
   "metadata": {},
   "source": [
    "Interpretation:\n",
    "    Based on the cross entropy values obtained, the model with the lowest cross entropy indicates better performance in terms of probability estimation and calibration. In this case, the XGBoost model has the lowest cross entropy value of 0.2796799646090161, followed by the Random Forest model with a cross entropy of 0.2891832739261127.\n",
    "\n",
    "Therefore, based on the given cross entropy values, the XGBoost model is considered the best among the evaluated classification models in terms of probability estimation and calibration."
   ]
  },
  {
   "cell_type": "markdown",
   "metadata": {
    "id": "8_xrXMkGbHDb"
   },
   "source": [
    "## 9. Intrepret your solution based on the results"
   ]
  },
  {
   "cell_type": "raw",
   "metadata": {
    "id": "6RivMkk2bHDc"
   },
   "source": [
    "Based on the results of comparing the classification models using cross entropy, we can make the following interpretations:\n",
    "\n",
    "Logistic Regression: The logistic regression model achieved a cross entropy loss of [cross_entropy_lr]. This indicates how well the model is calibrated and how accurately it estimates the probabilities of the target variable. Lower cross entropy suggests better performance in terms of probability estimation.\n",
    "\n",
    "Decision Tree: The decision tree model achieved a cross entropy loss of [cross_entropy_dt]. This indicates how well the decision tree model predicts the probabilities of the target variable. Comparing the cross entropy values of different models helps us assess their relative performance.\n",
    "\n",
    "Random Forest: The random forest model achieved a cross entropy loss of [cross_entropy_rf]. Random forests often provide improved performance compared to a single decision tree by combining multiple decision trees and reducing overfitting. The lower cross entropy loss suggests better probability estimation.\n",
    "\n",
    "XGBoost: The XGBoost model achieved a cross entropy loss of [cross_entropy_xgb]. XGBoost is an ensemble learning method that combines the predictions of multiple weak learners to make more accurate predictions. The lower cross entropy loss suggests that the XGBoost model provides better probability estimation compared to other models.\n",
    "\n",
    "Based on the cross entropy values, we can conclude that the XGBoost model performs the best among the evaluated classification models in terms of probability estimation and calibration. However, it is important to consider other evaluation metrics, the specific requirements of the problem, and potential trade-offs before making a final decision on the best model."
   ]
  }
 ],
 "metadata": {
  "colab": {
   "provenance": [],
   "toc_visible": true
  },
  "kernelspec": {
   "display_name": "Python 3 (ipykernel)",
   "language": "python",
   "name": "python3"
  },
  "language_info": {
   "codemirror_mode": {
    "name": "ipython",
    "version": 3
   },
   "file_extension": ".py",
   "mimetype": "text/x-python",
   "name": "python",
   "nbconvert_exporter": "python",
   "pygments_lexer": "ipython3",
   "version": "3.9.15"
  }
 },
 "nbformat": 4,
 "nbformat_minor": 4
}
